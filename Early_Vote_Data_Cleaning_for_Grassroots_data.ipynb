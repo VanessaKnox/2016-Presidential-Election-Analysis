{
  "nbformat": 4,
  "nbformat_minor": 0,
  "metadata": {
    "colab": {
      "name": "Early Vote Data Cleaning for Grassroots data.ipynb",
      "provenance": [],
      "collapsed_sections": [],
      "include_colab_link": true
    },
    "kernelspec": {
      "name": "python3",
      "display_name": "Python 3"
    },
    "language_info": {
      "name": "python"
    }
  },
  "cells": [
    {
      "cell_type": "markdown",
      "metadata": {
        "id": "view-in-github",
        "colab_type": "text"
      },
      "source": [
        "<a href=\"https://colab.research.google.com/github/VanessaKnox/2016-Presidential-Election-Analysis/blob/master/Early_Vote_Data_Cleaning_for_Grassroots_data.ipynb\" target=\"_parent\"><img src=\"https://colab.research.google.com/assets/colab-badge.svg\" alt=\"Open In Colab\"/></a>"
      ]
    },
    {
      "cell_type": "markdown",
      "metadata": {
        "id": "4-_5vcCouTH_"
      },
      "source": [
        "\n",
        "\n",
        "# Automated Data Cleaning for Grassroots Paid Canvassing Data\n",
        "\n"
      ]
    },
    {
      "cell_type": "markdown",
      "metadata": {
        "id": "Urir80QVWkI1"
      },
      "source": [
        "**How to use this notebook**\n"
      ]
    },
    {
      "cell_type": "markdown",
      "metadata": {
        "id": "AQok38nAW5Pl"
      },
      "source": [
        "1. Click on the folder button and upload file that needs to be cleaned\n",
        "2. Click on the three dots next to the file you just uploaded and click on \"Copy path\"\n",
        "3. Paste path inside single quotes in the cell below\n",
        "4. Click on Runtime in the top menu bar and click \"Run all\"\n",
        "5. Download all 5 CSVs (canvass results, support, lawn sign, vol ask, and vbm) to your computer. You'll see the files by clicking on the folder button on the left. Then click the three dots next to each file and click \"Download\" to download the files"
      ]
    },
    {
      "cell_type": "code",
      "metadata": {
        "id": "ZCSXjuuVWMXl"
      },
      "source": [
        "import pandas as pd\n",
        "df = pd.read_excel(\"/content/paid_combined1025EV.xlsx\")"
      ],
      "execution_count": null,
      "outputs": []
    },
    {
      "cell_type": "markdown",
      "metadata": {
        "id": "nXSuDEPCfqvP"
      },
      "source": [
        "## Support "
      ]
    },
    {
      "cell_type": "code",
      "metadata": {
        "colab": {
          "base_uri": "https://localhost:8080/"
        },
        "id": "y3YX4RNE4Ol1",
        "outputId": "cdcb4082-283d-4b4d-e6fa-67f83a843272"
      },
      "source": [
        "from google.colab import drive\n",
        "drive.mount('/content/drive')"
      ],
      "execution_count": null,
      "outputs": [
        {
          "output_type": "stream",
          "name": "stdout",
          "text": [
            "Mounted at /content/drive\n"
          ]
        }
      ]
    },
    {
      "cell_type": "code",
      "metadata": {
        "id": "D1TKK-rPXTvu"
      },
      "source": [
        "#murphy support\n",
        "support = df[df['Murphy Support'].notnull()]"
      ],
      "execution_count": null,
      "outputs": []
    },
    {
      "cell_type": "code",
      "metadata": {
        "id": "zweyjn1vXXxL",
        "colab": {
          "base_uri": "https://localhost:8080/"
        },
        "outputId": "f191a832-c4a4-4490-d563-7f647cf12667"
      },
      "source": [
        "support['Murphy Support'].value_counts()"
      ],
      "execution_count": null,
      "outputs": [
        {
          "output_type": "execute_result",
          "data": {
            "text/plain": [
              "1. Strong Support      1240\n",
              "3. Undecided            127\n",
              "2. Leans Support         64\n",
              "6. Already Voted         44\n",
              "5. Strongly Against      37\n",
              "4. Leans Against          4\n",
              "Name: Murphy Support, dtype: int64"
            ]
          },
          "metadata": {},
          "execution_count": 4
        }
      ]
    },
    {
      "cell_type": "code",
      "metadata": {
        "id": "focFoCL-bknF",
        "colab": {
          "base_uri": "https://localhost:8080/"
        },
        "outputId": "f2d71c43-0fb0-4f00-b391-b5b33c705dc6"
      },
      "source": [
        "support['1'] = (support['Murphy Support'] == '1. Strong Support').replace({True: '1. Strong Support', False: ''})\n",
        "support['2'] = (support['Murphy Support'] == '2. Leans Support').replace({True: '2. Leans Support', False: ''})\n",
        "support['3'] = (support['Murphy Support'] == '3. Undecided').replace({True: '3. Undecided', False: ''})\n",
        "support['4'] = (support['Murphy Support'] == '4. Leans Against').replace({True: '4. Leans Against', False: ''})\n",
        "support['5'] = (support['Murphy Support'] == '5. Strongly Against').replace({True: '5. Strongly Against', False: ''})\n"
      ],
      "execution_count": null,
      "outputs": [
        {
          "output_type": "stream",
          "name": "stderr",
          "text": [
            "/usr/local/lib/python3.7/dist-packages/ipykernel_launcher.py:1: SettingWithCopyWarning: \n",
            "A value is trying to be set on a copy of a slice from a DataFrame.\n",
            "Try using .loc[row_indexer,col_indexer] = value instead\n",
            "\n",
            "See the caveats in the documentation: https://pandas.pydata.org/pandas-docs/stable/user_guide/indexing.html#returning-a-view-versus-a-copy\n",
            "  \"\"\"Entry point for launching an IPython kernel.\n",
            "/usr/local/lib/python3.7/dist-packages/ipykernel_launcher.py:2: SettingWithCopyWarning: \n",
            "A value is trying to be set on a copy of a slice from a DataFrame.\n",
            "Try using .loc[row_indexer,col_indexer] = value instead\n",
            "\n",
            "See the caveats in the documentation: https://pandas.pydata.org/pandas-docs/stable/user_guide/indexing.html#returning-a-view-versus-a-copy\n",
            "  \n",
            "/usr/local/lib/python3.7/dist-packages/ipykernel_launcher.py:3: SettingWithCopyWarning: \n",
            "A value is trying to be set on a copy of a slice from a DataFrame.\n",
            "Try using .loc[row_indexer,col_indexer] = value instead\n",
            "\n",
            "See the caveats in the documentation: https://pandas.pydata.org/pandas-docs/stable/user_guide/indexing.html#returning-a-view-versus-a-copy\n",
            "  This is separate from the ipykernel package so we can avoid doing imports until\n",
            "/usr/local/lib/python3.7/dist-packages/ipykernel_launcher.py:4: SettingWithCopyWarning: \n",
            "A value is trying to be set on a copy of a slice from a DataFrame.\n",
            "Try using .loc[row_indexer,col_indexer] = value instead\n",
            "\n",
            "See the caveats in the documentation: https://pandas.pydata.org/pandas-docs/stable/user_guide/indexing.html#returning-a-view-versus-a-copy\n",
            "  after removing the cwd from sys.path.\n",
            "/usr/local/lib/python3.7/dist-packages/ipykernel_launcher.py:5: SettingWithCopyWarning: \n",
            "A value is trying to be set on a copy of a slice from a DataFrame.\n",
            "Try using .loc[row_indexer,col_indexer] = value instead\n",
            "\n",
            "See the caveats in the documentation: https://pandas.pydata.org/pandas-docs/stable/user_guide/indexing.html#returning-a-view-versus-a-copy\n",
            "  \"\"\"\n"
          ]
        }
      ]
    },
    {
      "cell_type": "code",
      "metadata": {
        "id": "0TOyTtkwcDsn"
      },
      "source": [
        "supp = support[['ExternalID', '1', '2', '3', '4', '5']].rename(columns={'ExternalID':'vanid'})\n",
        "supp = supp.dropna(subset=['vanid'])"
      ],
      "execution_count": null,
      "outputs": []
    },
    {
      "cell_type": "code",
      "metadata": {
        "id": "GW-ObUoEcLb8",
        "colab": {
          "base_uri": "https://localhost:8080/"
        },
        "outputId": "237b480b-7e01-48d7-edb0-7a8771ed45fd"
      },
      "source": [
        "supp.columns"
      ],
      "execution_count": null,
      "outputs": [
        {
          "output_type": "execute_result",
          "data": {
            "text/plain": [
              "Index(['vanid', '1', '2', '3', '4', '5'], dtype='object')"
            ]
          },
          "metadata": {},
          "execution_count": 7
        }
      ]
    },
    {
      "cell_type": "code",
      "metadata": {
        "id": "Zff7skNmrJf3"
      },
      "source": [
        "supp.vanid = supp.vanid.astype(int).astype(str)"
      ],
      "execution_count": null,
      "outputs": []
    },
    {
      "cell_type": "code",
      "metadata": {
        "id": "AaWqvrmfcxH1",
        "colab": {
          "base_uri": "https://localhost:8080/",
          "height": 408
        },
        "outputId": "afdc106a-4f18-417d-b78c-0aa6c661488f"
      },
      "source": [
        "supp"
      ],
      "execution_count": null,
      "outputs": [
        {
          "output_type": "execute_result",
          "data": {
            "text/html": [
              "<div>\n",
              "<style scoped>\n",
              "    .dataframe tbody tr th:only-of-type {\n",
              "        vertical-align: middle;\n",
              "    }\n",
              "\n",
              "    .dataframe tbody tr th {\n",
              "        vertical-align: top;\n",
              "    }\n",
              "\n",
              "    .dataframe thead th {\n",
              "        text-align: right;\n",
              "    }\n",
              "</style>\n",
              "<table border=\"1\" class=\"dataframe\">\n",
              "  <thead>\n",
              "    <tr style=\"text-align: right;\">\n",
              "      <th></th>\n",
              "      <th>vanid</th>\n",
              "      <th>1</th>\n",
              "      <th>2</th>\n",
              "      <th>3</th>\n",
              "      <th>4</th>\n",
              "      <th>5</th>\n",
              "    </tr>\n",
              "  </thead>\n",
              "  <tbody>\n",
              "    <tr>\n",
              "      <th>3</th>\n",
              "      <td>13943769</td>\n",
              "      <td>1. Strong Support</td>\n",
              "      <td></td>\n",
              "      <td></td>\n",
              "      <td></td>\n",
              "      <td></td>\n",
              "    </tr>\n",
              "    <tr>\n",
              "      <th>6</th>\n",
              "      <td>5718827</td>\n",
              "      <td>1. Strong Support</td>\n",
              "      <td></td>\n",
              "      <td></td>\n",
              "      <td></td>\n",
              "      <td></td>\n",
              "    </tr>\n",
              "    <tr>\n",
              "      <th>16</th>\n",
              "      <td>6425291</td>\n",
              "      <td></td>\n",
              "      <td></td>\n",
              "      <td></td>\n",
              "      <td></td>\n",
              "      <td></td>\n",
              "    </tr>\n",
              "    <tr>\n",
              "      <th>17</th>\n",
              "      <td>6425291</td>\n",
              "      <td></td>\n",
              "      <td></td>\n",
              "      <td></td>\n",
              "      <td></td>\n",
              "      <td></td>\n",
              "    </tr>\n",
              "    <tr>\n",
              "      <th>25</th>\n",
              "      <td>1635036</td>\n",
              "      <td></td>\n",
              "      <td></td>\n",
              "      <td>3. Undecided</td>\n",
              "      <td></td>\n",
              "      <td></td>\n",
              "    </tr>\n",
              "    <tr>\n",
              "      <th>...</th>\n",
              "      <td>...</td>\n",
              "      <td>...</td>\n",
              "      <td>...</td>\n",
              "      <td>...</td>\n",
              "      <td>...</td>\n",
              "      <td>...</td>\n",
              "    </tr>\n",
              "    <tr>\n",
              "      <th>10439</th>\n",
              "      <td>6614273</td>\n",
              "      <td>1. Strong Support</td>\n",
              "      <td></td>\n",
              "      <td></td>\n",
              "      <td></td>\n",
              "      <td></td>\n",
              "    </tr>\n",
              "    <tr>\n",
              "      <th>10441</th>\n",
              "      <td>10902811</td>\n",
              "      <td>1. Strong Support</td>\n",
              "      <td></td>\n",
              "      <td></td>\n",
              "      <td></td>\n",
              "      <td></td>\n",
              "    </tr>\n",
              "    <tr>\n",
              "      <th>10449</th>\n",
              "      <td>14131385</td>\n",
              "      <td>1. Strong Support</td>\n",
              "      <td></td>\n",
              "      <td></td>\n",
              "      <td></td>\n",
              "      <td></td>\n",
              "    </tr>\n",
              "    <tr>\n",
              "      <th>10450</th>\n",
              "      <td>6150914</td>\n",
              "      <td>1. Strong Support</td>\n",
              "      <td></td>\n",
              "      <td></td>\n",
              "      <td></td>\n",
              "      <td></td>\n",
              "    </tr>\n",
              "    <tr>\n",
              "      <th>10453</th>\n",
              "      <td>5701841</td>\n",
              "      <td>1. Strong Support</td>\n",
              "      <td></td>\n",
              "      <td></td>\n",
              "      <td></td>\n",
              "      <td></td>\n",
              "    </tr>\n",
              "  </tbody>\n",
              "</table>\n",
              "<p>1516 rows × 6 columns</p>\n",
              "</div>"
            ],
            "text/plain": [
              "          vanid                  1 2              3 4  5 \n",
              "3      13943769  1. Strong Support                       \n",
              "6       5718827  1. Strong Support                       \n",
              "16      6425291                                          \n",
              "17      6425291                                          \n",
              "25      1635036                        3. Undecided      \n",
              "...         ...                ... ..           ... .. ..\n",
              "10439   6614273  1. Strong Support                       \n",
              "10441  10902811  1. Strong Support                       \n",
              "10449  14131385  1. Strong Support                       \n",
              "10450   6150914  1. Strong Support                       \n",
              "10453   5701841  1. Strong Support                       \n",
              "\n",
              "[1516 rows x 6 columns]"
            ]
          },
          "metadata": {},
          "execution_count": 9
        }
      ]
    },
    {
      "cell_type": "markdown",
      "metadata": {
        "id": "HJkKMY1sf7zK"
      },
      "source": [
        "## Canvass Results"
      ]
    },
    {
      "cell_type": "code",
      "metadata": {
        "id": "f-Ly0EMcfwCY"
      },
      "source": [
        "canvass = df[df['SubjectStatus'].notnull()]\n",
        "canvass = df[df['SubjectStatus'] != 'Not Knocked']\n",
        "column_name = 'SubjectStatus'"
      ],
      "execution_count": null,
      "outputs": []
    },
    {
      "cell_type": "code",
      "metadata": {
        "id": "cm8eOgB1gJkr",
        "colab": {
          "base_uri": "https://localhost:8080/"
        },
        "outputId": "f0dac1d5-5c7c-482b-8b5e-9e4c9a70eef0"
      },
      "source": [
        "canvass.SubjectStatus.count()"
      ],
      "execution_count": null,
      "outputs": [
        {
          "output_type": "execute_result",
          "data": {
            "text/plain": [
              "10392"
            ]
          },
          "metadata": {},
          "execution_count": 11
        }
      ]
    },
    {
      "cell_type": "code",
      "metadata": {
        "id": "YY4FmEW3gK8b",
        "colab": {
          "base_uri": "https://localhost:8080/"
        },
        "outputId": "a9d855ad-01ce-47ab-bb49-55b0062a0e69"
      },
      "source": [
        "canvass['nothome'] = (canvass[column_name] == 'Not Home').replace({True: 'nothome', False: ''})\n",
        "canvass['inaccessible'] = (canvass[column_name] == 'Inaccessible').replace({True: 'inaccessible', False: ''})\n",
        "canvass['refused'] = (canvass[column_name] == 'Refused').replace({True: 'refused', False: ''})\n",
        "canvass['not an address'] = (canvass[column_name] == 'Not an Address').replace({True: 'not an address', False: ''})\n",
        "canvass['come back'] = (canvass[column_name] == 'Come Back Later').replace({True: 'come back', False: ''})\n",
        "canvass['moved'] = (canvass[column_name] == 'Moved').replace({True: 'moved', False: ''})\n",
        "canvass['vacant'] = (canvass[column_name] == 'Vacant or For Sale').replace({True: 'vacant', False: ''})\n",
        "canvass['language'] = (canvass[column_name] == 'Language Barrier').replace({True: 'language', False: ''})\n"
      ],
      "execution_count": null,
      "outputs": [
        {
          "output_type": "stream",
          "name": "stderr",
          "text": [
            "/usr/local/lib/python3.7/dist-packages/ipykernel_launcher.py:1: SettingWithCopyWarning: \n",
            "A value is trying to be set on a copy of a slice from a DataFrame.\n",
            "Try using .loc[row_indexer,col_indexer] = value instead\n",
            "\n",
            "See the caveats in the documentation: https://pandas.pydata.org/pandas-docs/stable/user_guide/indexing.html#returning-a-view-versus-a-copy\n",
            "  \"\"\"Entry point for launching an IPython kernel.\n",
            "/usr/local/lib/python3.7/dist-packages/ipykernel_launcher.py:2: SettingWithCopyWarning: \n",
            "A value is trying to be set on a copy of a slice from a DataFrame.\n",
            "Try using .loc[row_indexer,col_indexer] = value instead\n",
            "\n",
            "See the caveats in the documentation: https://pandas.pydata.org/pandas-docs/stable/user_guide/indexing.html#returning-a-view-versus-a-copy\n",
            "  \n",
            "/usr/local/lib/python3.7/dist-packages/ipykernel_launcher.py:3: SettingWithCopyWarning: \n",
            "A value is trying to be set on a copy of a slice from a DataFrame.\n",
            "Try using .loc[row_indexer,col_indexer] = value instead\n",
            "\n",
            "See the caveats in the documentation: https://pandas.pydata.org/pandas-docs/stable/user_guide/indexing.html#returning-a-view-versus-a-copy\n",
            "  This is separate from the ipykernel package so we can avoid doing imports until\n",
            "/usr/local/lib/python3.7/dist-packages/ipykernel_launcher.py:4: SettingWithCopyWarning: \n",
            "A value is trying to be set on a copy of a slice from a DataFrame.\n",
            "Try using .loc[row_indexer,col_indexer] = value instead\n",
            "\n",
            "See the caveats in the documentation: https://pandas.pydata.org/pandas-docs/stable/user_guide/indexing.html#returning-a-view-versus-a-copy\n",
            "  after removing the cwd from sys.path.\n",
            "/usr/local/lib/python3.7/dist-packages/ipykernel_launcher.py:5: SettingWithCopyWarning: \n",
            "A value is trying to be set on a copy of a slice from a DataFrame.\n",
            "Try using .loc[row_indexer,col_indexer] = value instead\n",
            "\n",
            "See the caveats in the documentation: https://pandas.pydata.org/pandas-docs/stable/user_guide/indexing.html#returning-a-view-versus-a-copy\n",
            "  \"\"\"\n",
            "/usr/local/lib/python3.7/dist-packages/ipykernel_launcher.py:6: SettingWithCopyWarning: \n",
            "A value is trying to be set on a copy of a slice from a DataFrame.\n",
            "Try using .loc[row_indexer,col_indexer] = value instead\n",
            "\n",
            "See the caveats in the documentation: https://pandas.pydata.org/pandas-docs/stable/user_guide/indexing.html#returning-a-view-versus-a-copy\n",
            "  \n",
            "/usr/local/lib/python3.7/dist-packages/ipykernel_launcher.py:7: SettingWithCopyWarning: \n",
            "A value is trying to be set on a copy of a slice from a DataFrame.\n",
            "Try using .loc[row_indexer,col_indexer] = value instead\n",
            "\n",
            "See the caveats in the documentation: https://pandas.pydata.org/pandas-docs/stable/user_guide/indexing.html#returning-a-view-versus-a-copy\n",
            "  import sys\n",
            "/usr/local/lib/python3.7/dist-packages/ipykernel_launcher.py:8: SettingWithCopyWarning: \n",
            "A value is trying to be set on a copy of a slice from a DataFrame.\n",
            "Try using .loc[row_indexer,col_indexer] = value instead\n",
            "\n",
            "See the caveats in the documentation: https://pandas.pydata.org/pandas-docs/stable/user_guide/indexing.html#returning-a-view-versus-a-copy\n",
            "  \n"
          ]
        }
      ]
    },
    {
      "cell_type": "code",
      "metadata": {
        "id": "Gay1XF7PlD49"
      },
      "source": [
        "can = canvass[['ExternalID','nothome','inaccessible','refused','not an address','come back','moved','vacant','language']]"
      ],
      "execution_count": null,
      "outputs": []
    },
    {
      "cell_type": "code",
      "metadata": {
        "id": "-Ft9FjphlF0l"
      },
      "source": [
        "can = can.rename(columns={'ExternalID':'vanid'}).dropna(subset=['vanid'])"
      ],
      "execution_count": null,
      "outputs": []
    },
    {
      "cell_type": "code",
      "metadata": {
        "id": "yHUAQ_errFd-"
      },
      "source": [
        "can.vanid = can.vanid.astype(int).astype(str)"
      ],
      "execution_count": null,
      "outputs": []
    },
    {
      "cell_type": "code",
      "metadata": {
        "id": "nvOWjdVVmE-K",
        "colab": {
          "base_uri": "https://localhost:8080/",
          "height": 200
        },
        "outputId": "0553e7a2-f01f-43fb-b86c-0f3b4329c441"
      },
      "source": [
        "can.head()"
      ],
      "execution_count": null,
      "outputs": [
        {
          "output_type": "execute_result",
          "data": {
            "text/html": [
              "<div>\n",
              "<style scoped>\n",
              "    .dataframe tbody tr th:only-of-type {\n",
              "        vertical-align: middle;\n",
              "    }\n",
              "\n",
              "    .dataframe tbody tr th {\n",
              "        vertical-align: top;\n",
              "    }\n",
              "\n",
              "    .dataframe thead th {\n",
              "        text-align: right;\n",
              "    }\n",
              "</style>\n",
              "<table border=\"1\" class=\"dataframe\">\n",
              "  <thead>\n",
              "    <tr style=\"text-align: right;\">\n",
              "      <th></th>\n",
              "      <th>vanid</th>\n",
              "      <th>nothome</th>\n",
              "      <th>inaccessible</th>\n",
              "      <th>refused</th>\n",
              "      <th>not an address</th>\n",
              "      <th>come back</th>\n",
              "      <th>moved</th>\n",
              "      <th>vacant</th>\n",
              "      <th>language</th>\n",
              "    </tr>\n",
              "  </thead>\n",
              "  <tbody>\n",
              "    <tr>\n",
              "      <th>0</th>\n",
              "      <td>1635153</td>\n",
              "      <td>nothome</td>\n",
              "      <td></td>\n",
              "      <td></td>\n",
              "      <td></td>\n",
              "      <td></td>\n",
              "      <td></td>\n",
              "      <td></td>\n",
              "      <td></td>\n",
              "    </tr>\n",
              "    <tr>\n",
              "      <th>1</th>\n",
              "      <td>1635153</td>\n",
              "      <td>nothome</td>\n",
              "      <td></td>\n",
              "      <td></td>\n",
              "      <td></td>\n",
              "      <td></td>\n",
              "      <td></td>\n",
              "      <td></td>\n",
              "      <td></td>\n",
              "    </tr>\n",
              "    <tr>\n",
              "      <th>2</th>\n",
              "      <td>13943769</td>\n",
              "      <td>nothome</td>\n",
              "      <td></td>\n",
              "      <td></td>\n",
              "      <td></td>\n",
              "      <td></td>\n",
              "      <td></td>\n",
              "      <td></td>\n",
              "      <td></td>\n",
              "    </tr>\n",
              "    <tr>\n",
              "      <th>3</th>\n",
              "      <td>13943769</td>\n",
              "      <td></td>\n",
              "      <td></td>\n",
              "      <td></td>\n",
              "      <td></td>\n",
              "      <td></td>\n",
              "      <td></td>\n",
              "      <td></td>\n",
              "      <td></td>\n",
              "    </tr>\n",
              "    <tr>\n",
              "      <th>4</th>\n",
              "      <td>1476259</td>\n",
              "      <td>nothome</td>\n",
              "      <td></td>\n",
              "      <td></td>\n",
              "      <td></td>\n",
              "      <td></td>\n",
              "      <td></td>\n",
              "      <td></td>\n",
              "      <td></td>\n",
              "    </tr>\n",
              "  </tbody>\n",
              "</table>\n",
              "</div>"
            ],
            "text/plain": [
              "      vanid  nothome inaccessible refused  ... come back moved vacant language\n",
              "0   1635153  nothome                       ...                                \n",
              "1   1635153  nothome                       ...                                \n",
              "2  13943769  nothome                       ...                                \n",
              "3  13943769                                ...                                \n",
              "4   1476259  nothome                       ...                                \n",
              "\n",
              "[5 rows x 9 columns]"
            ]
          },
          "metadata": {},
          "execution_count": 16
        }
      ]
    },
    {
      "cell_type": "markdown",
      "metadata": {
        "id": "3RzPTHy4neMD"
      },
      "source": [
        "## Issue"
      ]
    },
    {
      "cell_type": "code",
      "metadata": {
        "id": "dQtImf43ngdK"
      },
      "source": [
        "column_name = 'Undecided'\n",
        "split = df[df[column_name].notnull()]"
      ],
      "execution_count": null,
      "outputs": []
    },
    {
      "cell_type": "code",
      "metadata": {
        "id": "7ufhG9o5oVaA",
        "colab": {
          "base_uri": "https://localhost:8080/"
        },
        "outputId": "44b25f76-91bf-4758-9ecf-21798bc9cc3f"
      },
      "source": [
        "split[column_name].value_counts()"
      ],
      "execution_count": null,
      "outputs": [
        {
          "output_type": "execute_result",
          "data": {
            "text/plain": [
              "Health Care     46\n",
              "Education       42\n",
              "Jobs/Economy    21\n",
              "Name: Undecided, dtype: int64"
            ]
          },
          "metadata": {},
          "execution_count": 18
        }
      ]
    },
    {
      "cell_type": "code",
      "metadata": {
        "id": "nNw3DEaVoWJo",
        "colab": {
          "base_uri": "https://localhost:8080/"
        },
        "outputId": "9251bd35-0720-4a48-e316-b324be962d41"
      },
      "source": [
        "split['education'] = (split[column_name] == 'Education').replace({True: 'education', False: ''})\n",
        "split['jobs'] = (split[column_name] == 'Jobs/Economy').replace({True: 'jobs', False: ''})\n",
        "split['healthcare'] = (split[column_name] == 'Health Care').replace({True: 'healthcare', False: ''})"
      ],
      "execution_count": null,
      "outputs": [
        {
          "output_type": "stream",
          "name": "stderr",
          "text": [
            "/usr/local/lib/python3.7/dist-packages/ipykernel_launcher.py:1: SettingWithCopyWarning: \n",
            "A value is trying to be set on a copy of a slice from a DataFrame.\n",
            "Try using .loc[row_indexer,col_indexer] = value instead\n",
            "\n",
            "See the caveats in the documentation: https://pandas.pydata.org/pandas-docs/stable/user_guide/indexing.html#returning-a-view-versus-a-copy\n",
            "  \"\"\"Entry point for launching an IPython kernel.\n",
            "/usr/local/lib/python3.7/dist-packages/ipykernel_launcher.py:2: SettingWithCopyWarning: \n",
            "A value is trying to be set on a copy of a slice from a DataFrame.\n",
            "Try using .loc[row_indexer,col_indexer] = value instead\n",
            "\n",
            "See the caveats in the documentation: https://pandas.pydata.org/pandas-docs/stable/user_guide/indexing.html#returning-a-view-versus-a-copy\n",
            "  \n",
            "/usr/local/lib/python3.7/dist-packages/ipykernel_launcher.py:3: SettingWithCopyWarning: \n",
            "A value is trying to be set on a copy of a slice from a DataFrame.\n",
            "Try using .loc[row_indexer,col_indexer] = value instead\n",
            "\n",
            "See the caveats in the documentation: https://pandas.pydata.org/pandas-docs/stable/user_guide/indexing.html#returning-a-view-versus-a-copy\n",
            "  This is separate from the ipykernel package so we can avoid doing imports until\n"
          ]
        }
      ]
    },
    {
      "cell_type": "code",
      "metadata": {
        "id": "hX0dfQuso7gw"
      },
      "source": [
        "split1 = split[['ExternalID','education','jobs','healthcare']]\n",
        "issue = split1.rename(columns={'ExternalID':'vanid'}).dropna(subset=['vanid'])"
      ],
      "execution_count": null,
      "outputs": []
    },
    {
      "cell_type": "code",
      "metadata": {
        "id": "7cgnHQ6ZrVGO"
      },
      "source": [
        "issue.vanid = issue.vanid.astype(int).astype(str)"
      ],
      "execution_count": null,
      "outputs": []
    },
    {
      "cell_type": "code",
      "metadata": {
        "colab": {
          "base_uri": "https://localhost:8080/",
          "height": 408
        },
        "id": "yVW9oGMxB1pg",
        "outputId": "6cb717ef-8d50-4c45-b110-b2e5e46eb25b"
      },
      "source": [
        "issue"
      ],
      "execution_count": null,
      "outputs": [
        {
          "output_type": "execute_result",
          "data": {
            "text/html": [
              "<div>\n",
              "<style scoped>\n",
              "    .dataframe tbody tr th:only-of-type {\n",
              "        vertical-align: middle;\n",
              "    }\n",
              "\n",
              "    .dataframe tbody tr th {\n",
              "        vertical-align: top;\n",
              "    }\n",
              "\n",
              "    .dataframe thead th {\n",
              "        text-align: right;\n",
              "    }\n",
              "</style>\n",
              "<table border=\"1\" class=\"dataframe\">\n",
              "  <thead>\n",
              "    <tr style=\"text-align: right;\">\n",
              "      <th></th>\n",
              "      <th>vanid</th>\n",
              "      <th>education</th>\n",
              "      <th>jobs</th>\n",
              "      <th>healthcare</th>\n",
              "    </tr>\n",
              "  </thead>\n",
              "  <tbody>\n",
              "    <tr>\n",
              "      <th>25</th>\n",
              "      <td>1635036</td>\n",
              "      <td></td>\n",
              "      <td></td>\n",
              "      <td>healthcare</td>\n",
              "    </tr>\n",
              "    <tr>\n",
              "      <th>43</th>\n",
              "      <td>1540194</td>\n",
              "      <td>education</td>\n",
              "      <td></td>\n",
              "      <td></td>\n",
              "    </tr>\n",
              "    <tr>\n",
              "      <th>44</th>\n",
              "      <td>1540194</td>\n",
              "      <td>education</td>\n",
              "      <td></td>\n",
              "      <td></td>\n",
              "    </tr>\n",
              "    <tr>\n",
              "      <th>55</th>\n",
              "      <td>5259002</td>\n",
              "      <td>education</td>\n",
              "      <td></td>\n",
              "      <td></td>\n",
              "    </tr>\n",
              "    <tr>\n",
              "      <th>131</th>\n",
              "      <td>6209661</td>\n",
              "      <td>education</td>\n",
              "      <td></td>\n",
              "      <td></td>\n",
              "    </tr>\n",
              "    <tr>\n",
              "      <th>...</th>\n",
              "      <td>...</td>\n",
              "      <td>...</td>\n",
              "      <td>...</td>\n",
              "      <td>...</td>\n",
              "    </tr>\n",
              "    <tr>\n",
              "      <th>10353</th>\n",
              "      <td>4764229</td>\n",
              "      <td>education</td>\n",
              "      <td></td>\n",
              "      <td></td>\n",
              "    </tr>\n",
              "    <tr>\n",
              "      <th>10361</th>\n",
              "      <td>98252</td>\n",
              "      <td></td>\n",
              "      <td></td>\n",
              "      <td>healthcare</td>\n",
              "    </tr>\n",
              "    <tr>\n",
              "      <th>10366</th>\n",
              "      <td>466346</td>\n",
              "      <td></td>\n",
              "      <td>jobs</td>\n",
              "      <td></td>\n",
              "    </tr>\n",
              "    <tr>\n",
              "      <th>10395</th>\n",
              "      <td>5985297</td>\n",
              "      <td>education</td>\n",
              "      <td></td>\n",
              "      <td></td>\n",
              "    </tr>\n",
              "    <tr>\n",
              "      <th>10403</th>\n",
              "      <td>11220281</td>\n",
              "      <td></td>\n",
              "      <td></td>\n",
              "      <td>healthcare</td>\n",
              "    </tr>\n",
              "  </tbody>\n",
              "</table>\n",
              "<p>109 rows × 4 columns</p>\n",
              "</div>"
            ],
            "text/plain": [
              "          vanid  education  jobs  healthcare\n",
              "25      1635036                   healthcare\n",
              "43      1540194  education                  \n",
              "44      1540194  education                  \n",
              "55      5259002  education                  \n",
              "131     6209661  education                  \n",
              "...         ...        ...   ...         ...\n",
              "10353   4764229  education                  \n",
              "10361     98252                   healthcare\n",
              "10366    466346             jobs            \n",
              "10395   5985297  education                  \n",
              "10403  11220281                   healthcare\n",
              "\n",
              "[109 rows x 4 columns]"
            ]
          },
          "metadata": {},
          "execution_count": 22
        }
      ]
    },
    {
      "cell_type": "markdown",
      "metadata": {
        "id": "Fpq2JL2Gm8Xy"
      },
      "source": [
        "# Early Vote--"
      ]
    },
    {
      "cell_type": "code",
      "metadata": {
        "id": "HLbYwY95ocmV"
      },
      "source": [
        "column_name = 'Early Vote Script'\n",
        "split = df[df[column_name].notnull()]"
      ],
      "execution_count": null,
      "outputs": []
    },
    {
      "cell_type": "code",
      "metadata": {
        "colab": {
          "base_uri": "https://localhost:8080/"
        },
        "id": "JFNffdU1rV4q",
        "outputId": "ba9ae35c-f223-464e-e9ed-3b78ed909764"
      },
      "source": [
        "split[column_name].value_counts()"
      ],
      "execution_count": null,
      "outputs": [
        {
          "output_type": "execute_result",
          "data": {
            "text/plain": [
              "No, I will vote on Election Day November 2nd    253\n",
              "Undecided                                       144\n",
              "Yes, I will be voting early                      68\n",
              "Name: Early Vote Script, dtype: int64"
            ]
          },
          "metadata": {},
          "execution_count": 24
        }
      ]
    },
    {
      "cell_type": "code",
      "metadata": {
        "colab": {
          "base_uri": "https://localhost:8080/"
        },
        "id": "HX74387IrWtv",
        "outputId": "3f66e175-cbaf-4e8e-f535-1d5af09aeff6"
      },
      "source": [
        "split['yes'] = (split[column_name] == 'Yes, I will be voting early').replace({True: 'yes', False: ''})\n",
        "split['no'] = (split[column_name] == 'No, I will vote on Election Day November 2nd').replace({True: 'no', False: ''})\n",
        "split['undecided'] = (split[column_name] == 'Undecided').replace({True: 'undecided', False: ''})"
      ],
      "execution_count": null,
      "outputs": [
        {
          "output_type": "stream",
          "name": "stderr",
          "text": [
            "/usr/local/lib/python3.7/dist-packages/ipykernel_launcher.py:1: SettingWithCopyWarning: \n",
            "A value is trying to be set on a copy of a slice from a DataFrame.\n",
            "Try using .loc[row_indexer,col_indexer] = value instead\n",
            "\n",
            "See the caveats in the documentation: https://pandas.pydata.org/pandas-docs/stable/user_guide/indexing.html#returning-a-view-versus-a-copy\n",
            "  \"\"\"Entry point for launching an IPython kernel.\n",
            "/usr/local/lib/python3.7/dist-packages/ipykernel_launcher.py:2: SettingWithCopyWarning: \n",
            "A value is trying to be set on a copy of a slice from a DataFrame.\n",
            "Try using .loc[row_indexer,col_indexer] = value instead\n",
            "\n",
            "See the caveats in the documentation: https://pandas.pydata.org/pandas-docs/stable/user_guide/indexing.html#returning-a-view-versus-a-copy\n",
            "  \n",
            "/usr/local/lib/python3.7/dist-packages/ipykernel_launcher.py:3: SettingWithCopyWarning: \n",
            "A value is trying to be set on a copy of a slice from a DataFrame.\n",
            "Try using .loc[row_indexer,col_indexer] = value instead\n",
            "\n",
            "See the caveats in the documentation: https://pandas.pydata.org/pandas-docs/stable/user_guide/indexing.html#returning-a-view-versus-a-copy\n",
            "  This is separate from the ipykernel package so we can avoid doing imports until\n"
          ]
        }
      ]
    },
    {
      "cell_type": "code",
      "metadata": {
        "id": "yLyhm3ASt2Ij"
      },
      "source": [
        "split1 = split[['ExternalID','no','yes', 'undecided']]\n",
        "ev = split1.rename(columns={'ExternalID':'vanid'}).dropna(subset=['vanid'])"
      ],
      "execution_count": null,
      "outputs": []
    },
    {
      "cell_type": "code",
      "metadata": {
        "id": "alZ-atHxuHeF"
      },
      "source": [
        "ev.vanid = ev.vanid.astype(int).astype(str)"
      ],
      "execution_count": null,
      "outputs": []
    },
    {
      "cell_type": "code",
      "metadata": {
        "colab": {
          "base_uri": "https://localhost:8080/",
          "height": 408
        },
        "id": "T-XSPpEuuJSF",
        "outputId": "ba7527ab-f104-47f7-bddf-4cea7ab698bf"
      },
      "source": [
        "ev"
      ],
      "execution_count": null,
      "outputs": [
        {
          "output_type": "execute_result",
          "data": {
            "text/html": [
              "<div>\n",
              "<style scoped>\n",
              "    .dataframe tbody tr th:only-of-type {\n",
              "        vertical-align: middle;\n",
              "    }\n",
              "\n",
              "    .dataframe tbody tr th {\n",
              "        vertical-align: top;\n",
              "    }\n",
              "\n",
              "    .dataframe thead th {\n",
              "        text-align: right;\n",
              "    }\n",
              "</style>\n",
              "<table border=\"1\" class=\"dataframe\">\n",
              "  <thead>\n",
              "    <tr style=\"text-align: right;\">\n",
              "      <th></th>\n",
              "      <th>vanid</th>\n",
              "      <th>no</th>\n",
              "      <th>yes</th>\n",
              "      <th>undecided</th>\n",
              "    </tr>\n",
              "  </thead>\n",
              "  <tbody>\n",
              "    <tr>\n",
              "      <th>3</th>\n",
              "      <td>13943769</td>\n",
              "      <td>no</td>\n",
              "      <td></td>\n",
              "      <td></td>\n",
              "    </tr>\n",
              "    <tr>\n",
              "      <th>6</th>\n",
              "      <td>5718827</td>\n",
              "      <td></td>\n",
              "      <td>yes</td>\n",
              "      <td></td>\n",
              "    </tr>\n",
              "    <tr>\n",
              "      <th>29</th>\n",
              "      <td>1497746</td>\n",
              "      <td>no</td>\n",
              "      <td></td>\n",
              "      <td></td>\n",
              "    </tr>\n",
              "    <tr>\n",
              "      <th>32</th>\n",
              "      <td>13945524</td>\n",
              "      <td></td>\n",
              "      <td></td>\n",
              "      <td>undecided</td>\n",
              "    </tr>\n",
              "    <tr>\n",
              "      <th>33</th>\n",
              "      <td>13945524</td>\n",
              "      <td></td>\n",
              "      <td>yes</td>\n",
              "      <td></td>\n",
              "    </tr>\n",
              "    <tr>\n",
              "      <th>...</th>\n",
              "      <td>...</td>\n",
              "      <td>...</td>\n",
              "      <td>...</td>\n",
              "      <td>...</td>\n",
              "    </tr>\n",
              "    <tr>\n",
              "      <th>10439</th>\n",
              "      <td>6614273</td>\n",
              "      <td>no</td>\n",
              "      <td></td>\n",
              "      <td></td>\n",
              "    </tr>\n",
              "    <tr>\n",
              "      <th>10441</th>\n",
              "      <td>10902811</td>\n",
              "      <td>no</td>\n",
              "      <td></td>\n",
              "      <td></td>\n",
              "    </tr>\n",
              "    <tr>\n",
              "      <th>10449</th>\n",
              "      <td>14131385</td>\n",
              "      <td>no</td>\n",
              "      <td></td>\n",
              "      <td></td>\n",
              "    </tr>\n",
              "    <tr>\n",
              "      <th>10450</th>\n",
              "      <td>6150914</td>\n",
              "      <td></td>\n",
              "      <td>yes</td>\n",
              "      <td></td>\n",
              "    </tr>\n",
              "    <tr>\n",
              "      <th>10453</th>\n",
              "      <td>5701841</td>\n",
              "      <td>no</td>\n",
              "      <td></td>\n",
              "      <td></td>\n",
              "    </tr>\n",
              "  </tbody>\n",
              "</table>\n",
              "<p>465 rows × 4 columns</p>\n",
              "</div>"
            ],
            "text/plain": [
              "          vanid  no  yes  undecided\n",
              "3      13943769  no                \n",
              "6       5718827      yes           \n",
              "29      1497746  no                \n",
              "32     13945524           undecided\n",
              "33     13945524      yes           \n",
              "...         ...  ..  ...        ...\n",
              "10439   6614273  no                \n",
              "10441  10902811  no                \n",
              "10449  14131385  no                \n",
              "10450   6150914      yes           \n",
              "10453   5701841  no                \n",
              "\n",
              "[465 rows x 4 columns]"
            ]
          },
          "metadata": {},
          "execution_count": 28
        }
      ]
    },
    {
      "cell_type": "markdown",
      "metadata": {
        "id": "Izd1huH6nejy"
      },
      "source": [
        "# If Early Voting-When"
      ]
    },
    {
      "cell_type": "code",
      "metadata": {
        "id": "I65qMX3Eu_Xi"
      },
      "source": [
        "column_name = 'If Early Voting-When.'\n",
        "split = df[df[column_name].notnull()]"
      ],
      "execution_count": null,
      "outputs": []
    },
    {
      "cell_type": "code",
      "metadata": {
        "colab": {
          "base_uri": "https://localhost:8080/"
        },
        "id": "ZTUKhwcAvF4r",
        "outputId": "9c33f188-3a3f-41fc-bf7c-69756e7136f8"
      },
      "source": [
        "split[column_name].value_counts()"
      ],
      "execution_count": null,
      "outputs": [
        {
          "output_type": "execute_result",
          "data": {
            "text/plain": [
              "Morning      33\n",
              "Afternoon    30\n",
              "Evening       5\n",
              "Name: If Early Voting-When., dtype: int64"
            ]
          },
          "metadata": {},
          "execution_count": 30
        }
      ]
    },
    {
      "cell_type": "code",
      "metadata": {
        "colab": {
          "base_uri": "https://localhost:8080/"
        },
        "id": "OCDDdA3VvLiQ",
        "outputId": "dcf21d75-216b-4f21-d8fa-3d3e3f91fe18"
      },
      "source": [
        "split['morning'] = (split[column_name] == 'Morning').replace({True: 'morning', False: ''})\n",
        "split['afternoon'] = (split[column_name] == 'Afternoon').replace({True: 'afternoon', False: ''})\n",
        "split['evening'] = (split[column_name] == 'Evening').replace({True: 'evening', False: ''})"
      ],
      "execution_count": null,
      "outputs": [
        {
          "output_type": "stream",
          "name": "stderr",
          "text": [
            "/usr/local/lib/python3.7/dist-packages/ipykernel_launcher.py:1: SettingWithCopyWarning: \n",
            "A value is trying to be set on a copy of a slice from a DataFrame.\n",
            "Try using .loc[row_indexer,col_indexer] = value instead\n",
            "\n",
            "See the caveats in the documentation: https://pandas.pydata.org/pandas-docs/stable/user_guide/indexing.html#returning-a-view-versus-a-copy\n",
            "  \"\"\"Entry point for launching an IPython kernel.\n",
            "/usr/local/lib/python3.7/dist-packages/ipykernel_launcher.py:2: SettingWithCopyWarning: \n",
            "A value is trying to be set on a copy of a slice from a DataFrame.\n",
            "Try using .loc[row_indexer,col_indexer] = value instead\n",
            "\n",
            "See the caveats in the documentation: https://pandas.pydata.org/pandas-docs/stable/user_guide/indexing.html#returning-a-view-versus-a-copy\n",
            "  \n",
            "/usr/local/lib/python3.7/dist-packages/ipykernel_launcher.py:3: SettingWithCopyWarning: \n",
            "A value is trying to be set on a copy of a slice from a DataFrame.\n",
            "Try using .loc[row_indexer,col_indexer] = value instead\n",
            "\n",
            "See the caveats in the documentation: https://pandas.pydata.org/pandas-docs/stable/user_guide/indexing.html#returning-a-view-versus-a-copy\n",
            "  This is separate from the ipykernel package so we can avoid doing imports until\n"
          ]
        }
      ]
    },
    {
      "cell_type": "code",
      "metadata": {
        "id": "xZymYbj0viTM"
      },
      "source": [
        "split1 = split[['ExternalID','morning','afternoon', 'evening']]\n",
        "iev = split1.rename(columns={'ExternalID':'vanid'}).dropna(subset=['vanid'])"
      ],
      "execution_count": null,
      "outputs": []
    },
    {
      "cell_type": "code",
      "metadata": {
        "id": "9ArC2dAsB6Di"
      },
      "source": [
        "iev.vanid = iev.vanid.astype(int).astype(str)"
      ],
      "execution_count": null,
      "outputs": []
    },
    {
      "cell_type": "code",
      "metadata": {
        "colab": {
          "base_uri": "https://localhost:8080/",
          "height": 408
        },
        "id": "du5DDJCgvtCp",
        "outputId": "017010e4-d590-402b-b18b-3873ec61388a"
      },
      "source": [
        "iev"
      ],
      "execution_count": null,
      "outputs": [
        {
          "output_type": "execute_result",
          "data": {
            "text/html": [
              "<div>\n",
              "<style scoped>\n",
              "    .dataframe tbody tr th:only-of-type {\n",
              "        vertical-align: middle;\n",
              "    }\n",
              "\n",
              "    .dataframe tbody tr th {\n",
              "        vertical-align: top;\n",
              "    }\n",
              "\n",
              "    .dataframe thead th {\n",
              "        text-align: right;\n",
              "    }\n",
              "</style>\n",
              "<table border=\"1\" class=\"dataframe\">\n",
              "  <thead>\n",
              "    <tr style=\"text-align: right;\">\n",
              "      <th></th>\n",
              "      <th>vanid</th>\n",
              "      <th>morning</th>\n",
              "      <th>afternoon</th>\n",
              "      <th>evening</th>\n",
              "    </tr>\n",
              "  </thead>\n",
              "  <tbody>\n",
              "    <tr>\n",
              "      <th>6</th>\n",
              "      <td>5718827</td>\n",
              "      <td></td>\n",
              "      <td>afternoon</td>\n",
              "      <td></td>\n",
              "    </tr>\n",
              "    <tr>\n",
              "      <th>33</th>\n",
              "      <td>13945524</td>\n",
              "      <td>morning</td>\n",
              "      <td></td>\n",
              "      <td></td>\n",
              "    </tr>\n",
              "    <tr>\n",
              "      <th>46</th>\n",
              "      <td>1436287</td>\n",
              "      <td>morning</td>\n",
              "      <td></td>\n",
              "      <td></td>\n",
              "    </tr>\n",
              "    <tr>\n",
              "      <th>61</th>\n",
              "      <td>1520057</td>\n",
              "      <td></td>\n",
              "      <td>afternoon</td>\n",
              "      <td></td>\n",
              "    </tr>\n",
              "    <tr>\n",
              "      <th>102</th>\n",
              "      <td>4681770</td>\n",
              "      <td></td>\n",
              "      <td></td>\n",
              "      <td>evening</td>\n",
              "    </tr>\n",
              "    <tr>\n",
              "      <th>...</th>\n",
              "      <td>...</td>\n",
              "      <td>...</td>\n",
              "      <td>...</td>\n",
              "      <td>...</td>\n",
              "    </tr>\n",
              "    <tr>\n",
              "      <th>10398</th>\n",
              "      <td>12042</td>\n",
              "      <td></td>\n",
              "      <td>afternoon</td>\n",
              "      <td></td>\n",
              "    </tr>\n",
              "    <tr>\n",
              "      <th>10408</th>\n",
              "      <td>5566011</td>\n",
              "      <td></td>\n",
              "      <td></td>\n",
              "      <td>evening</td>\n",
              "    </tr>\n",
              "    <tr>\n",
              "      <th>10410</th>\n",
              "      <td>83976</td>\n",
              "      <td>morning</td>\n",
              "      <td></td>\n",
              "      <td></td>\n",
              "    </tr>\n",
              "    <tr>\n",
              "      <th>10414</th>\n",
              "      <td>131650</td>\n",
              "      <td>morning</td>\n",
              "      <td></td>\n",
              "      <td></td>\n",
              "    </tr>\n",
              "    <tr>\n",
              "      <th>10450</th>\n",
              "      <td>6150914</td>\n",
              "      <td></td>\n",
              "      <td>afternoon</td>\n",
              "      <td></td>\n",
              "    </tr>\n",
              "  </tbody>\n",
              "</table>\n",
              "<p>68 rows × 4 columns</p>\n",
              "</div>"
            ],
            "text/plain": [
              "          vanid  morning  afternoon  evening\n",
              "6       5718827           afternoon         \n",
              "33     13945524  morning                    \n",
              "46      1436287  morning                    \n",
              "61      1520057           afternoon         \n",
              "102     4681770                      evening\n",
              "...         ...      ...        ...      ...\n",
              "10398     12042           afternoon         \n",
              "10408   5566011                      evening\n",
              "10410     83976  morning                    \n",
              "10414    131650  morning                    \n",
              "10450   6150914           afternoon         \n",
              "\n",
              "[68 rows x 4 columns]"
            ]
          },
          "metadata": {},
          "execution_count": 34
        }
      ]
    },
    {
      "cell_type": "markdown",
      "metadata": {
        "id": "RpJtA9zQnmPx"
      },
      "source": [
        "# If Voting Early-Travel"
      ]
    },
    {
      "cell_type": "code",
      "metadata": {
        "id": "9nfzfOUmxQql"
      },
      "source": [
        "column_name = 'If voting Early-Travel'\n",
        "split = df[df[column_name].notnull()]"
      ],
      "execution_count": null,
      "outputs": []
    },
    {
      "cell_type": "code",
      "metadata": {
        "colab": {
          "base_uri": "https://localhost:8080/"
        },
        "id": "xM1Sq1wIxxKp",
        "outputId": "e4abd93c-c476-4561-a726-150df225c6ef"
      },
      "source": [
        "split[column_name].value_counts()"
      ],
      "execution_count": null,
      "outputs": [
        {
          "output_type": "execute_result",
          "data": {
            "text/plain": [
              "Driving yourself                44\n",
              "On foot or walking              15\n",
              "Needs a ride from a friend       7\n",
              "Taking Public Transportation     1\n",
              "Name: If voting Early-Travel, dtype: int64"
            ]
          },
          "metadata": {},
          "execution_count": 36
        }
      ]
    },
    {
      "cell_type": "code",
      "metadata": {
        "colab": {
          "base_uri": "https://localhost:8080/"
        },
        "id": "Eo9lUIOyyA9Y",
        "outputId": "61e39d29-8552-4fc9-aa48-fd93f16d3d90"
      },
      "source": [
        "split['driving'] = (split[column_name] == 'Driving yourself ').replace({True: 'driving', False: ''})\n",
        "split['needs a ride'] = (split[column_name] == 'Needs a ride from a friend').replace({True: 'needs a ride', False: ''})\n",
        "split['walking'] = (split[column_name] == 'On foot or walking').replace({True: 'walking', False: ''})\n",
        "split['public transportation'] = (split[column_name] == 'Public Transportation').replace({True: 'public transportation', False: ''})"
      ],
      "execution_count": null,
      "outputs": [
        {
          "output_type": "stream",
          "name": "stderr",
          "text": [
            "/usr/local/lib/python3.7/dist-packages/ipykernel_launcher.py:1: SettingWithCopyWarning: \n",
            "A value is trying to be set on a copy of a slice from a DataFrame.\n",
            "Try using .loc[row_indexer,col_indexer] = value instead\n",
            "\n",
            "See the caveats in the documentation: https://pandas.pydata.org/pandas-docs/stable/user_guide/indexing.html#returning-a-view-versus-a-copy\n",
            "  \"\"\"Entry point for launching an IPython kernel.\n",
            "/usr/local/lib/python3.7/dist-packages/ipykernel_launcher.py:2: SettingWithCopyWarning: \n",
            "A value is trying to be set on a copy of a slice from a DataFrame.\n",
            "Try using .loc[row_indexer,col_indexer] = value instead\n",
            "\n",
            "See the caveats in the documentation: https://pandas.pydata.org/pandas-docs/stable/user_guide/indexing.html#returning-a-view-versus-a-copy\n",
            "  \n",
            "/usr/local/lib/python3.7/dist-packages/ipykernel_launcher.py:3: SettingWithCopyWarning: \n",
            "A value is trying to be set on a copy of a slice from a DataFrame.\n",
            "Try using .loc[row_indexer,col_indexer] = value instead\n",
            "\n",
            "See the caveats in the documentation: https://pandas.pydata.org/pandas-docs/stable/user_guide/indexing.html#returning-a-view-versus-a-copy\n",
            "  This is separate from the ipykernel package so we can avoid doing imports until\n",
            "/usr/local/lib/python3.7/dist-packages/ipykernel_launcher.py:4: SettingWithCopyWarning: \n",
            "A value is trying to be set on a copy of a slice from a DataFrame.\n",
            "Try using .loc[row_indexer,col_indexer] = value instead\n",
            "\n",
            "See the caveats in the documentation: https://pandas.pydata.org/pandas-docs/stable/user_guide/indexing.html#returning-a-view-versus-a-copy\n",
            "  after removing the cwd from sys.path.\n"
          ]
        }
      ]
    },
    {
      "cell_type": "code",
      "metadata": {
        "id": "0eUJTdfeyZa6"
      },
      "source": [
        "split1 = split[['ExternalID','driving','needs a ride', 'walking', 'public transportation']]\n",
        "vet = split1.rename(columns={'ExternalID':'vanid'}).dropna(subset=['vanid'])"
      ],
      "execution_count": null,
      "outputs": []
    },
    {
      "cell_type": "code",
      "metadata": {
        "id": "wrp7JjyhB-zM"
      },
      "source": [
        "vet.vanid = vet.vanid.astype(int).astype(str)"
      ],
      "execution_count": null,
      "outputs": []
    },
    {
      "cell_type": "code",
      "metadata": {
        "colab": {
          "base_uri": "https://localhost:8080/",
          "height": 408
        },
        "id": "nU9dNRsoyc4b",
        "outputId": "d2451099-5d82-4bfc-eaf0-80acb33d0d54"
      },
      "source": [
        "vet"
      ],
      "execution_count": null,
      "outputs": [
        {
          "output_type": "execute_result",
          "data": {
            "text/html": [
              "<div>\n",
              "<style scoped>\n",
              "    .dataframe tbody tr th:only-of-type {\n",
              "        vertical-align: middle;\n",
              "    }\n",
              "\n",
              "    .dataframe tbody tr th {\n",
              "        vertical-align: top;\n",
              "    }\n",
              "\n",
              "    .dataframe thead th {\n",
              "        text-align: right;\n",
              "    }\n",
              "</style>\n",
              "<table border=\"1\" class=\"dataframe\">\n",
              "  <thead>\n",
              "    <tr style=\"text-align: right;\">\n",
              "      <th></th>\n",
              "      <th>vanid</th>\n",
              "      <th>driving</th>\n",
              "      <th>needs a ride</th>\n",
              "      <th>walking</th>\n",
              "      <th>public transportation</th>\n",
              "    </tr>\n",
              "  </thead>\n",
              "  <tbody>\n",
              "    <tr>\n",
              "      <th>6</th>\n",
              "      <td>5718827</td>\n",
              "      <td></td>\n",
              "      <td></td>\n",
              "      <td></td>\n",
              "      <td></td>\n",
              "    </tr>\n",
              "    <tr>\n",
              "      <th>33</th>\n",
              "      <td>13945524</td>\n",
              "      <td></td>\n",
              "      <td></td>\n",
              "      <td>walking</td>\n",
              "      <td></td>\n",
              "    </tr>\n",
              "    <tr>\n",
              "      <th>46</th>\n",
              "      <td>1436287</td>\n",
              "      <td></td>\n",
              "      <td></td>\n",
              "      <td>walking</td>\n",
              "      <td></td>\n",
              "    </tr>\n",
              "    <tr>\n",
              "      <th>61</th>\n",
              "      <td>1520057</td>\n",
              "      <td></td>\n",
              "      <td></td>\n",
              "      <td></td>\n",
              "      <td></td>\n",
              "    </tr>\n",
              "    <tr>\n",
              "      <th>102</th>\n",
              "      <td>4681770</td>\n",
              "      <td></td>\n",
              "      <td></td>\n",
              "      <td></td>\n",
              "      <td></td>\n",
              "    </tr>\n",
              "    <tr>\n",
              "      <th>...</th>\n",
              "      <td>...</td>\n",
              "      <td>...</td>\n",
              "      <td>...</td>\n",
              "      <td>...</td>\n",
              "      <td>...</td>\n",
              "    </tr>\n",
              "    <tr>\n",
              "      <th>10391</th>\n",
              "      <td>43522</td>\n",
              "      <td></td>\n",
              "      <td></td>\n",
              "      <td></td>\n",
              "      <td></td>\n",
              "    </tr>\n",
              "    <tr>\n",
              "      <th>10398</th>\n",
              "      <td>12042</td>\n",
              "      <td></td>\n",
              "      <td></td>\n",
              "      <td></td>\n",
              "      <td></td>\n",
              "    </tr>\n",
              "    <tr>\n",
              "      <th>10408</th>\n",
              "      <td>5566011</td>\n",
              "      <td></td>\n",
              "      <td></td>\n",
              "      <td></td>\n",
              "      <td></td>\n",
              "    </tr>\n",
              "    <tr>\n",
              "      <th>10410</th>\n",
              "      <td>83976</td>\n",
              "      <td></td>\n",
              "      <td></td>\n",
              "      <td></td>\n",
              "      <td></td>\n",
              "    </tr>\n",
              "    <tr>\n",
              "      <th>10450</th>\n",
              "      <td>6150914</td>\n",
              "      <td></td>\n",
              "      <td></td>\n",
              "      <td></td>\n",
              "      <td></td>\n",
              "    </tr>\n",
              "  </tbody>\n",
              "</table>\n",
              "<p>67 rows × 5 columns</p>\n",
              "</div>"
            ],
            "text/plain": [
              "          vanid driving needs a ride  walking public transportation\n",
              "6       5718827                                                    \n",
              "33     13945524                       walking                      \n",
              "46      1436287                       walking                      \n",
              "61      1520057                                                    \n",
              "102     4681770                                                    \n",
              "...         ...     ...          ...      ...                   ...\n",
              "10391     43522                                                    \n",
              "10398     12042                                                    \n",
              "10408   5566011                                                    \n",
              "10410     83976                                                    \n",
              "10450   6150914                                                    \n",
              "\n",
              "[67 rows x 5 columns]"
            ]
          },
          "metadata": {},
          "execution_count": 40
        }
      ]
    },
    {
      "cell_type": "markdown",
      "metadata": {
        "id": "WuS6svLInwhA"
      },
      "source": [
        "# No to Early Vote - When  are you voting"
      ]
    },
    {
      "cell_type": "code",
      "metadata": {
        "id": "A8EoVHX4zDCL"
      },
      "source": [
        "column_name = 'No to Early Vote - When  are you voting'\n",
        "split = df[df[column_name].notnull()]"
      ],
      "execution_count": null,
      "outputs": []
    },
    {
      "cell_type": "code",
      "metadata": {
        "colab": {
          "base_uri": "https://localhost:8080/"
        },
        "id": "8KxR4hwszHfr",
        "outputId": "5b06de27-8634-4182-bbfc-b4264417d110"
      },
      "source": [
        "split[column_name].value_counts()"
      ],
      "execution_count": null,
      "outputs": [
        {
          "output_type": "execute_result",
          "data": {
            "text/plain": [
              "Morning      101\n",
              "Afternoon     98\n",
              "Evening       51\n",
              "Name: No to Early Vote - When  are you voting, dtype: int64"
            ]
          },
          "metadata": {},
          "execution_count": 42
        }
      ]
    },
    {
      "cell_type": "code",
      "metadata": {
        "colab": {
          "base_uri": "https://localhost:8080/"
        },
        "id": "PpnfusF7zgAW",
        "outputId": "15fae83b-099a-4eb8-c8da-4f5e7fb9d6c7"
      },
      "source": [
        "split['morning'] = (split[column_name] == 'Morning').replace({True: 'morning', False: ''})\n",
        "split['afternoon'] = (split[column_name] == 'Afternoon').replace({True: 'afternoon', False: ''})\n",
        "split['evening'] = (split[column_name] == 'Evening').replace({True: 'evening', False: ''})"
      ],
      "execution_count": null,
      "outputs": [
        {
          "output_type": "stream",
          "name": "stderr",
          "text": [
            "/usr/local/lib/python3.7/dist-packages/ipykernel_launcher.py:1: SettingWithCopyWarning: \n",
            "A value is trying to be set on a copy of a slice from a DataFrame.\n",
            "Try using .loc[row_indexer,col_indexer] = value instead\n",
            "\n",
            "See the caveats in the documentation: https://pandas.pydata.org/pandas-docs/stable/user_guide/indexing.html#returning-a-view-versus-a-copy\n",
            "  \"\"\"Entry point for launching an IPython kernel.\n",
            "/usr/local/lib/python3.7/dist-packages/ipykernel_launcher.py:2: SettingWithCopyWarning: \n",
            "A value is trying to be set on a copy of a slice from a DataFrame.\n",
            "Try using .loc[row_indexer,col_indexer] = value instead\n",
            "\n",
            "See the caveats in the documentation: https://pandas.pydata.org/pandas-docs/stable/user_guide/indexing.html#returning-a-view-versus-a-copy\n",
            "  \n",
            "/usr/local/lib/python3.7/dist-packages/ipykernel_launcher.py:3: SettingWithCopyWarning: \n",
            "A value is trying to be set on a copy of a slice from a DataFrame.\n",
            "Try using .loc[row_indexer,col_indexer] = value instead\n",
            "\n",
            "See the caveats in the documentation: https://pandas.pydata.org/pandas-docs/stable/user_guide/indexing.html#returning-a-view-versus-a-copy\n",
            "  This is separate from the ipykernel package so we can avoid doing imports until\n"
          ]
        }
      ]
    },
    {
      "cell_type": "code",
      "metadata": {
        "id": "_4htNgwtzalN"
      },
      "source": [
        "split1 = split[['ExternalID','morning','afternoon', 'evening']]\n",
        "nev = split1.rename(columns={'ExternalID':'vanid'}).dropna(subset=['vanid'])"
      ],
      "execution_count": null,
      "outputs": []
    },
    {
      "cell_type": "code",
      "metadata": {
        "id": "J7tKnUuBCLOu"
      },
      "source": [
        "nev.vanid = nev.vanid.astype(int).astype(str)"
      ],
      "execution_count": null,
      "outputs": []
    },
    {
      "cell_type": "code",
      "metadata": {
        "colab": {
          "base_uri": "https://localhost:8080/",
          "height": 408
        },
        "id": "L6grjaVmzokx",
        "outputId": "2d16ae57-c03b-40cb-b941-f226785bc045"
      },
      "source": [
        "nev"
      ],
      "execution_count": null,
      "outputs": [
        {
          "output_type": "execute_result",
          "data": {
            "text/html": [
              "<div>\n",
              "<style scoped>\n",
              "    .dataframe tbody tr th:only-of-type {\n",
              "        vertical-align: middle;\n",
              "    }\n",
              "\n",
              "    .dataframe tbody tr th {\n",
              "        vertical-align: top;\n",
              "    }\n",
              "\n",
              "    .dataframe thead th {\n",
              "        text-align: right;\n",
              "    }\n",
              "</style>\n",
              "<table border=\"1\" class=\"dataframe\">\n",
              "  <thead>\n",
              "    <tr style=\"text-align: right;\">\n",
              "      <th></th>\n",
              "      <th>vanid</th>\n",
              "      <th>morning</th>\n",
              "      <th>afternoon</th>\n",
              "      <th>evening</th>\n",
              "    </tr>\n",
              "  </thead>\n",
              "  <tbody>\n",
              "    <tr>\n",
              "      <th>3</th>\n",
              "      <td>13943769</td>\n",
              "      <td></td>\n",
              "      <td>afternoon</td>\n",
              "      <td></td>\n",
              "    </tr>\n",
              "    <tr>\n",
              "      <th>29</th>\n",
              "      <td>1497746</td>\n",
              "      <td></td>\n",
              "      <td>afternoon</td>\n",
              "      <td></td>\n",
              "    </tr>\n",
              "    <tr>\n",
              "      <th>54</th>\n",
              "      <td>6308834</td>\n",
              "      <td></td>\n",
              "      <td>afternoon</td>\n",
              "      <td></td>\n",
              "    </tr>\n",
              "    <tr>\n",
              "      <th>60</th>\n",
              "      <td>1520057</td>\n",
              "      <td></td>\n",
              "      <td>afternoon</td>\n",
              "      <td></td>\n",
              "    </tr>\n",
              "    <tr>\n",
              "      <th>73</th>\n",
              "      <td>6232730</td>\n",
              "      <td></td>\n",
              "      <td></td>\n",
              "      <td>evening</td>\n",
              "    </tr>\n",
              "    <tr>\n",
              "      <th>...</th>\n",
              "      <td>...</td>\n",
              "      <td>...</td>\n",
              "      <td>...</td>\n",
              "      <td>...</td>\n",
              "    </tr>\n",
              "    <tr>\n",
              "      <th>10437</th>\n",
              "      <td>14630221</td>\n",
              "      <td></td>\n",
              "      <td>afternoon</td>\n",
              "      <td></td>\n",
              "    </tr>\n",
              "    <tr>\n",
              "      <th>10439</th>\n",
              "      <td>6614273</td>\n",
              "      <td></td>\n",
              "      <td>afternoon</td>\n",
              "      <td></td>\n",
              "    </tr>\n",
              "    <tr>\n",
              "      <th>10441</th>\n",
              "      <td>10902811</td>\n",
              "      <td></td>\n",
              "      <td></td>\n",
              "      <td>evening</td>\n",
              "    </tr>\n",
              "    <tr>\n",
              "      <th>10449</th>\n",
              "      <td>14131385</td>\n",
              "      <td></td>\n",
              "      <td></td>\n",
              "      <td>evening</td>\n",
              "    </tr>\n",
              "    <tr>\n",
              "      <th>10453</th>\n",
              "      <td>5701841</td>\n",
              "      <td>morning</td>\n",
              "      <td></td>\n",
              "      <td></td>\n",
              "    </tr>\n",
              "  </tbody>\n",
              "</table>\n",
              "<p>250 rows × 4 columns</p>\n",
              "</div>"
            ],
            "text/plain": [
              "          vanid  morning  afternoon  evening\n",
              "3      13943769           afternoon         \n",
              "29      1497746           afternoon         \n",
              "54      6308834           afternoon         \n",
              "60      1520057           afternoon         \n",
              "73      6232730                      evening\n",
              "...         ...      ...        ...      ...\n",
              "10437  14630221           afternoon         \n",
              "10439   6614273           afternoon         \n",
              "10441  10902811                      evening\n",
              "10449  14131385                      evening\n",
              "10453   5701841  morning                    \n",
              "\n",
              "[250 rows x 4 columns]"
            ]
          },
          "metadata": {},
          "execution_count": 46
        }
      ]
    },
    {
      "cell_type": "markdown",
      "metadata": {
        "id": "-JeF1SfJn-tx"
      },
      "source": [
        "# If No to Early Vote - Travel"
      ]
    },
    {
      "cell_type": "code",
      "metadata": {
        "id": "bKm7aru2zylf"
      },
      "source": [
        "column_name = 'If voting Early-Travel'\n",
        "split = df[df[column_name].notnull()]"
      ],
      "execution_count": null,
      "outputs": []
    },
    {
      "cell_type": "code",
      "metadata": {
        "colab": {
          "base_uri": "https://localhost:8080/"
        },
        "id": "Xi5wVOlQz3ln",
        "outputId": "f7fd2104-9961-49f4-99a3-575fe1a48753"
      },
      "source": [
        "split[column_name].value_counts()"
      ],
      "execution_count": null,
      "outputs": [
        {
          "output_type": "execute_result",
          "data": {
            "text/plain": [
              "Driving yourself                44\n",
              "On foot or walking              15\n",
              "Needs a ride from a friend       7\n",
              "Taking Public Transportation     1\n",
              "Name: If voting Early-Travel, dtype: int64"
            ]
          },
          "metadata": {},
          "execution_count": 48
        }
      ]
    },
    {
      "cell_type": "code",
      "metadata": {
        "colab": {
          "base_uri": "https://localhost:8080/"
        },
        "id": "3Q0cei5Cz6qT",
        "outputId": "9d825f60-8ba9-429c-e4c8-6f610fea3264"
      },
      "source": [
        "split['driving'] = (split[column_name] == 'Driving yourself ').replace({True: 'driving', False: ''})\n",
        "split['needs a ride'] = (split[column_name] == 'Needs a ride from a friend').replace({True: 'needs a ride', False: ''})\n",
        "split['walking'] = (split[column_name] == 'On foot or walking').replace({True: 'walking', False: ''})\n",
        "split['public transportation'] = (split[column_name] == 'Public Transportation').replace({True: 'public transportation', False: ''})"
      ],
      "execution_count": null,
      "outputs": [
        {
          "output_type": "stream",
          "name": "stderr",
          "text": [
            "/usr/local/lib/python3.7/dist-packages/ipykernel_launcher.py:1: SettingWithCopyWarning: \n",
            "A value is trying to be set on a copy of a slice from a DataFrame.\n",
            "Try using .loc[row_indexer,col_indexer] = value instead\n",
            "\n",
            "See the caveats in the documentation: https://pandas.pydata.org/pandas-docs/stable/user_guide/indexing.html#returning-a-view-versus-a-copy\n",
            "  \"\"\"Entry point for launching an IPython kernel.\n",
            "/usr/local/lib/python3.7/dist-packages/ipykernel_launcher.py:2: SettingWithCopyWarning: \n",
            "A value is trying to be set on a copy of a slice from a DataFrame.\n",
            "Try using .loc[row_indexer,col_indexer] = value instead\n",
            "\n",
            "See the caveats in the documentation: https://pandas.pydata.org/pandas-docs/stable/user_guide/indexing.html#returning-a-view-versus-a-copy\n",
            "  \n",
            "/usr/local/lib/python3.7/dist-packages/ipykernel_launcher.py:3: SettingWithCopyWarning: \n",
            "A value is trying to be set on a copy of a slice from a DataFrame.\n",
            "Try using .loc[row_indexer,col_indexer] = value instead\n",
            "\n",
            "See the caveats in the documentation: https://pandas.pydata.org/pandas-docs/stable/user_guide/indexing.html#returning-a-view-versus-a-copy\n",
            "  This is separate from the ipykernel package so we can avoid doing imports until\n",
            "/usr/local/lib/python3.7/dist-packages/ipykernel_launcher.py:4: SettingWithCopyWarning: \n",
            "A value is trying to be set on a copy of a slice from a DataFrame.\n",
            "Try using .loc[row_indexer,col_indexer] = value instead\n",
            "\n",
            "See the caveats in the documentation: https://pandas.pydata.org/pandas-docs/stable/user_guide/indexing.html#returning-a-view-versus-a-copy\n",
            "  after removing the cwd from sys.path.\n"
          ]
        }
      ]
    },
    {
      "cell_type": "code",
      "metadata": {
        "id": "QoNP2J3w0A0l"
      },
      "source": [
        "split1 = split[['ExternalID','driving','needs a ride', 'walking', 'public transportation']]\n",
        "noevt = split1.rename(columns={'ExternalID':'vanid'}).dropna(subset=['vanid'])"
      ],
      "execution_count": null,
      "outputs": []
    },
    {
      "cell_type": "code",
      "metadata": {
        "id": "8s8hf1wZJgmf"
      },
      "source": [
        "noevt.vanid = noevt.vanid.astype(int).astype(str)"
      ],
      "execution_count": null,
      "outputs": []
    },
    {
      "cell_type": "code",
      "metadata": {
        "colab": {
          "base_uri": "https://localhost:8080/",
          "height": 408
        },
        "id": "5iVg9eKACO9k",
        "outputId": "10f5fd59-d778-4100-ee71-b1ddbdda261b"
      },
      "source": [
        "noevt"
      ],
      "execution_count": null,
      "outputs": [
        {
          "output_type": "execute_result",
          "data": {
            "text/html": [
              "<div>\n",
              "<style scoped>\n",
              "    .dataframe tbody tr th:only-of-type {\n",
              "        vertical-align: middle;\n",
              "    }\n",
              "\n",
              "    .dataframe tbody tr th {\n",
              "        vertical-align: top;\n",
              "    }\n",
              "\n",
              "    .dataframe thead th {\n",
              "        text-align: right;\n",
              "    }\n",
              "</style>\n",
              "<table border=\"1\" class=\"dataframe\">\n",
              "  <thead>\n",
              "    <tr style=\"text-align: right;\">\n",
              "      <th></th>\n",
              "      <th>vanid</th>\n",
              "      <th>driving</th>\n",
              "      <th>needs a ride</th>\n",
              "      <th>walking</th>\n",
              "      <th>public transportation</th>\n",
              "    </tr>\n",
              "  </thead>\n",
              "  <tbody>\n",
              "    <tr>\n",
              "      <th>6</th>\n",
              "      <td>5718827</td>\n",
              "      <td></td>\n",
              "      <td></td>\n",
              "      <td></td>\n",
              "      <td></td>\n",
              "    </tr>\n",
              "    <tr>\n",
              "      <th>33</th>\n",
              "      <td>13945524</td>\n",
              "      <td></td>\n",
              "      <td></td>\n",
              "      <td>walking</td>\n",
              "      <td></td>\n",
              "    </tr>\n",
              "    <tr>\n",
              "      <th>46</th>\n",
              "      <td>1436287</td>\n",
              "      <td></td>\n",
              "      <td></td>\n",
              "      <td>walking</td>\n",
              "      <td></td>\n",
              "    </tr>\n",
              "    <tr>\n",
              "      <th>61</th>\n",
              "      <td>1520057</td>\n",
              "      <td></td>\n",
              "      <td></td>\n",
              "      <td></td>\n",
              "      <td></td>\n",
              "    </tr>\n",
              "    <tr>\n",
              "      <th>102</th>\n",
              "      <td>4681770</td>\n",
              "      <td></td>\n",
              "      <td></td>\n",
              "      <td></td>\n",
              "      <td></td>\n",
              "    </tr>\n",
              "    <tr>\n",
              "      <th>...</th>\n",
              "      <td>...</td>\n",
              "      <td>...</td>\n",
              "      <td>...</td>\n",
              "      <td>...</td>\n",
              "      <td>...</td>\n",
              "    </tr>\n",
              "    <tr>\n",
              "      <th>10391</th>\n",
              "      <td>43522</td>\n",
              "      <td></td>\n",
              "      <td></td>\n",
              "      <td></td>\n",
              "      <td></td>\n",
              "    </tr>\n",
              "    <tr>\n",
              "      <th>10398</th>\n",
              "      <td>12042</td>\n",
              "      <td></td>\n",
              "      <td></td>\n",
              "      <td></td>\n",
              "      <td></td>\n",
              "    </tr>\n",
              "    <tr>\n",
              "      <th>10408</th>\n",
              "      <td>5566011</td>\n",
              "      <td></td>\n",
              "      <td></td>\n",
              "      <td></td>\n",
              "      <td></td>\n",
              "    </tr>\n",
              "    <tr>\n",
              "      <th>10410</th>\n",
              "      <td>83976</td>\n",
              "      <td></td>\n",
              "      <td></td>\n",
              "      <td></td>\n",
              "      <td></td>\n",
              "    </tr>\n",
              "    <tr>\n",
              "      <th>10450</th>\n",
              "      <td>6150914</td>\n",
              "      <td></td>\n",
              "      <td></td>\n",
              "      <td></td>\n",
              "      <td></td>\n",
              "    </tr>\n",
              "  </tbody>\n",
              "</table>\n",
              "<p>67 rows × 5 columns</p>\n",
              "</div>"
            ],
            "text/plain": [
              "          vanid driving needs a ride  walking public transportation\n",
              "6       5718827                                                    \n",
              "33     13945524                       walking                      \n",
              "46      1436287                       walking                      \n",
              "61      1520057                                                    \n",
              "102     4681770                                                    \n",
              "...         ...     ...          ...      ...                   ...\n",
              "10391     43522                                                    \n",
              "10398     12042                                                    \n",
              "10408   5566011                                                    \n",
              "10410     83976                                                    \n",
              "10450   6150914                                                    \n",
              "\n",
              "[67 rows x 5 columns]"
            ]
          },
          "metadata": {},
          "execution_count": 52
        }
      ]
    },
    {
      "cell_type": "markdown",
      "metadata": {
        "id": "oF4sSKOJg7KA"
      },
      "source": [
        "## Lawn Sign"
      ]
    },
    {
      "cell_type": "code",
      "metadata": {
        "id": "3Yjy0oDtf6JK"
      },
      "source": [
        "column_name = 'Lawn Sign'\n",
        "split = df[df[column_name].notnull()]"
      ],
      "execution_count": null,
      "outputs": []
    },
    {
      "cell_type": "code",
      "metadata": {
        "id": "3IY7EiWQhClm",
        "colab": {
          "base_uri": "https://localhost:8080/"
        },
        "outputId": "663ad95d-eb38-40c3-9500-c3513ef4f2b5"
      },
      "source": [
        "split[column_name].value_counts()"
      ],
      "execution_count": null,
      "outputs": [
        {
          "output_type": "execute_result",
          "data": {
            "text/plain": [
              "No, I do not want a lawn sign    1109\n",
              "Yes, I want a lawn sign           102\n",
              "Name: Lawn Sign, dtype: int64"
            ]
          },
          "metadata": {},
          "execution_count": 54
        }
      ]
    },
    {
      "cell_type": "code",
      "metadata": {
        "id": "NOmi-W_7hEOK",
        "colab": {
          "base_uri": "https://localhost:8080/"
        },
        "outputId": "a21a0ed2-c70a-47fa-e567-ae6648738540"
      },
      "source": [
        "split['no'] = (split[column_name] == 'No, I do not want a lawn sign').replace({True: 'No, I do not want a lawn sign', False: ''})\n",
        "split['yes'] = (split[column_name] == 'Yes, I want a lawn sign').replace({True: 'Yes, I want a lawn sign', False: ''})"
      ],
      "execution_count": null,
      "outputs": [
        {
          "output_type": "stream",
          "name": "stderr",
          "text": [
            "/usr/local/lib/python3.7/dist-packages/ipykernel_launcher.py:1: SettingWithCopyWarning: \n",
            "A value is trying to be set on a copy of a slice from a DataFrame.\n",
            "Try using .loc[row_indexer,col_indexer] = value instead\n",
            "\n",
            "See the caveats in the documentation: https://pandas.pydata.org/pandas-docs/stable/user_guide/indexing.html#returning-a-view-versus-a-copy\n",
            "  \"\"\"Entry point for launching an IPython kernel.\n",
            "/usr/local/lib/python3.7/dist-packages/ipykernel_launcher.py:2: SettingWithCopyWarning: \n",
            "A value is trying to be set on a copy of a slice from a DataFrame.\n",
            "Try using .loc[row_indexer,col_indexer] = value instead\n",
            "\n",
            "See the caveats in the documentation: https://pandas.pydata.org/pandas-docs/stable/user_guide/indexing.html#returning-a-view-versus-a-copy\n",
            "  \n"
          ]
        }
      ]
    },
    {
      "cell_type": "code",
      "metadata": {
        "id": "j0yESFvpiBeB"
      },
      "source": [
        "split1 = split[['ExternalID','no','yes']]\n",
        "ls = split1.rename(columns={'ExternalID':'vanid'}).dropna(subset=['vanid'])"
      ],
      "execution_count": null,
      "outputs": []
    },
    {
      "cell_type": "code",
      "metadata": {
        "id": "QJaIacY-rSKA"
      },
      "source": [
        "ls.vanid = ls.vanid.astype(int).astype(str)"
      ],
      "execution_count": null,
      "outputs": []
    },
    {
      "cell_type": "code",
      "metadata": {
        "id": "5W8xuKIeiGIW",
        "colab": {
          "base_uri": "https://localhost:8080/",
          "height": 408
        },
        "outputId": "ea3f8257-f4b5-4637-be27-c4d84d4fc2f1"
      },
      "source": [
        "ls"
      ],
      "execution_count": null,
      "outputs": [
        {
          "output_type": "execute_result",
          "data": {
            "text/html": [
              "<div>\n",
              "<style scoped>\n",
              "    .dataframe tbody tr th:only-of-type {\n",
              "        vertical-align: middle;\n",
              "    }\n",
              "\n",
              "    .dataframe tbody tr th {\n",
              "        vertical-align: top;\n",
              "    }\n",
              "\n",
              "    .dataframe thead th {\n",
              "        text-align: right;\n",
              "    }\n",
              "</style>\n",
              "<table border=\"1\" class=\"dataframe\">\n",
              "  <thead>\n",
              "    <tr style=\"text-align: right;\">\n",
              "      <th></th>\n",
              "      <th>vanid</th>\n",
              "      <th>no</th>\n",
              "      <th>yes</th>\n",
              "    </tr>\n",
              "  </thead>\n",
              "  <tbody>\n",
              "    <tr>\n",
              "      <th>3</th>\n",
              "      <td>13943769</td>\n",
              "      <td>No, I do not want a lawn sign</td>\n",
              "      <td></td>\n",
              "    </tr>\n",
              "    <tr>\n",
              "      <th>6</th>\n",
              "      <td>5718827</td>\n",
              "      <td>No, I do not want a lawn sign</td>\n",
              "      <td></td>\n",
              "    </tr>\n",
              "    <tr>\n",
              "      <th>32</th>\n",
              "      <td>13945524</td>\n",
              "      <td>No, I do not want a lawn sign</td>\n",
              "      <td></td>\n",
              "    </tr>\n",
              "    <tr>\n",
              "      <th>33</th>\n",
              "      <td>13945524</td>\n",
              "      <td>No, I do not want a lawn sign</td>\n",
              "      <td></td>\n",
              "    </tr>\n",
              "    <tr>\n",
              "      <th>36</th>\n",
              "      <td>1443383</td>\n",
              "      <td>No, I do not want a lawn sign</td>\n",
              "      <td></td>\n",
              "    </tr>\n",
              "    <tr>\n",
              "      <th>...</th>\n",
              "      <td>...</td>\n",
              "      <td>...</td>\n",
              "      <td>...</td>\n",
              "    </tr>\n",
              "    <tr>\n",
              "      <th>10439</th>\n",
              "      <td>6614273</td>\n",
              "      <td></td>\n",
              "      <td>Yes, I want a lawn sign</td>\n",
              "    </tr>\n",
              "    <tr>\n",
              "      <th>10441</th>\n",
              "      <td>10902811</td>\n",
              "      <td></td>\n",
              "      <td>Yes, I want a lawn sign</td>\n",
              "    </tr>\n",
              "    <tr>\n",
              "      <th>10449</th>\n",
              "      <td>14131385</td>\n",
              "      <td></td>\n",
              "      <td>Yes, I want a lawn sign</td>\n",
              "    </tr>\n",
              "    <tr>\n",
              "      <th>10450</th>\n",
              "      <td>6150914</td>\n",
              "      <td></td>\n",
              "      <td>Yes, I want a lawn sign</td>\n",
              "    </tr>\n",
              "    <tr>\n",
              "      <th>10453</th>\n",
              "      <td>5701841</td>\n",
              "      <td></td>\n",
              "      <td>Yes, I want a lawn sign</td>\n",
              "    </tr>\n",
              "  </tbody>\n",
              "</table>\n",
              "<p>1211 rows × 3 columns</p>\n",
              "</div>"
            ],
            "text/plain": [
              "          vanid                             no                      yes\n",
              "3      13943769  No, I do not want a lawn sign                         \n",
              "6       5718827  No, I do not want a lawn sign                         \n",
              "32     13945524  No, I do not want a lawn sign                         \n",
              "33     13945524  No, I do not want a lawn sign                         \n",
              "36      1443383  No, I do not want a lawn sign                         \n",
              "...         ...                            ...                      ...\n",
              "10439   6614273                                 Yes, I want a lawn sign\n",
              "10441  10902811                                 Yes, I want a lawn sign\n",
              "10449  14131385                                 Yes, I want a lawn sign\n",
              "10450   6150914                                 Yes, I want a lawn sign\n",
              "10453   5701841                                 Yes, I want a lawn sign\n",
              "\n",
              "[1211 rows x 3 columns]"
            ]
          },
          "metadata": {},
          "execution_count": 58
        }
      ]
    },
    {
      "cell_type": "markdown",
      "metadata": {
        "id": "A129OtwMidCs"
      },
      "source": [
        "## Vol Ask"
      ]
    },
    {
      "cell_type": "code",
      "metadata": {
        "id": "wVHxR4-viNQ_"
      },
      "source": [
        "column_name = 'Murphy Volunteer'\n",
        "split = df[df[column_name].notnull()]"
      ],
      "execution_count": null,
      "outputs": []
    },
    {
      "cell_type": "code",
      "metadata": {
        "id": "E155aVHXitwg",
        "colab": {
          "base_uri": "https://localhost:8080/"
        },
        "outputId": "5e0c3af0-97b1-4f75-a698-078f2363a630"
      },
      "source": [
        "split[column_name].value_counts()"
      ],
      "execution_count": null,
      "outputs": [
        {
          "output_type": "execute_result",
          "data": {
            "text/plain": [
              "No, I will NOT volunteer    1125\n",
              "Yes, I will volunteer        110\n",
              "Name: Murphy Volunteer, dtype: int64"
            ]
          },
          "metadata": {},
          "execution_count": 60
        }
      ]
    },
    {
      "cell_type": "code",
      "metadata": {
        "id": "d5uadQZxivPk",
        "colab": {
          "base_uri": "https://localhost:8080/"
        },
        "outputId": "31766a7e-dc9f-4bb4-af6c-5dcbe2a0954d"
      },
      "source": [
        "split['no'] = (split[column_name] == 'No, I will NOT volunteer').replace({True: 'No, I will NOT volunteer', False: ''})\n",
        "split['yes'] = (split[column_name] == 'Yes, I will volunteer').replace({True: 'Yes, I will volunteer', False: ''})\n",
        "split['maybe'] = (split[column_name] == 'Maybe').replace({True: 'Maybe', False: ''})"
      ],
      "execution_count": null,
      "outputs": [
        {
          "output_type": "stream",
          "name": "stderr",
          "text": [
            "/usr/local/lib/python3.7/dist-packages/ipykernel_launcher.py:1: SettingWithCopyWarning: \n",
            "A value is trying to be set on a copy of a slice from a DataFrame.\n",
            "Try using .loc[row_indexer,col_indexer] = value instead\n",
            "\n",
            "See the caveats in the documentation: https://pandas.pydata.org/pandas-docs/stable/user_guide/indexing.html#returning-a-view-versus-a-copy\n",
            "  \"\"\"Entry point for launching an IPython kernel.\n",
            "/usr/local/lib/python3.7/dist-packages/ipykernel_launcher.py:2: SettingWithCopyWarning: \n",
            "A value is trying to be set on a copy of a slice from a DataFrame.\n",
            "Try using .loc[row_indexer,col_indexer] = value instead\n",
            "\n",
            "See the caveats in the documentation: https://pandas.pydata.org/pandas-docs/stable/user_guide/indexing.html#returning-a-view-versus-a-copy\n",
            "  \n",
            "/usr/local/lib/python3.7/dist-packages/ipykernel_launcher.py:3: SettingWithCopyWarning: \n",
            "A value is trying to be set on a copy of a slice from a DataFrame.\n",
            "Try using .loc[row_indexer,col_indexer] = value instead\n",
            "\n",
            "See the caveats in the documentation: https://pandas.pydata.org/pandas-docs/stable/user_guide/indexing.html#returning-a-view-versus-a-copy\n",
            "  This is separate from the ipykernel package so we can avoid doing imports until\n"
          ]
        }
      ]
    },
    {
      "cell_type": "code",
      "metadata": {
        "id": "1mtsmdX3jFwS"
      },
      "source": [
        "split1 = split[['ExternalID','no','yes','maybe']]\n",
        "vol = split1.rename(columns={'ExternalID':'vanid'}).dropna(subset=['vanid'])"
      ],
      "execution_count": null,
      "outputs": []
    },
    {
      "cell_type": "code",
      "metadata": {
        "id": "AznYixYrrhC0"
      },
      "source": [
        "vol.vanid = vol.vanid.astype(int).astype(str)"
      ],
      "execution_count": null,
      "outputs": []
    },
    {
      "cell_type": "code",
      "metadata": {
        "id": "m4XzHz_ZjJ2n",
        "colab": {
          "base_uri": "https://localhost:8080/",
          "height": 408
        },
        "outputId": "e4ad810d-95b4-4b14-c620-2cea602ad809"
      },
      "source": [
        "vol"
      ],
      "execution_count": null,
      "outputs": [
        {
          "output_type": "execute_result",
          "data": {
            "text/html": [
              "<div>\n",
              "<style scoped>\n",
              "    .dataframe tbody tr th:only-of-type {\n",
              "        vertical-align: middle;\n",
              "    }\n",
              "\n",
              "    .dataframe tbody tr th {\n",
              "        vertical-align: top;\n",
              "    }\n",
              "\n",
              "    .dataframe thead th {\n",
              "        text-align: right;\n",
              "    }\n",
              "</style>\n",
              "<table border=\"1\" class=\"dataframe\">\n",
              "  <thead>\n",
              "    <tr style=\"text-align: right;\">\n",
              "      <th></th>\n",
              "      <th>vanid</th>\n",
              "      <th>no</th>\n",
              "      <th>yes</th>\n",
              "      <th>maybe</th>\n",
              "    </tr>\n",
              "  </thead>\n",
              "  <tbody>\n",
              "    <tr>\n",
              "      <th>3</th>\n",
              "      <td>13943769</td>\n",
              "      <td>No, I will NOT volunteer</td>\n",
              "      <td></td>\n",
              "      <td></td>\n",
              "    </tr>\n",
              "    <tr>\n",
              "      <th>6</th>\n",
              "      <td>5718827</td>\n",
              "      <td>No, I will NOT volunteer</td>\n",
              "      <td></td>\n",
              "      <td></td>\n",
              "    </tr>\n",
              "    <tr>\n",
              "      <th>32</th>\n",
              "      <td>13945524</td>\n",
              "      <td>No, I will NOT volunteer</td>\n",
              "      <td></td>\n",
              "      <td></td>\n",
              "    </tr>\n",
              "    <tr>\n",
              "      <th>33</th>\n",
              "      <td>13945524</td>\n",
              "      <td>No, I will NOT volunteer</td>\n",
              "      <td></td>\n",
              "      <td></td>\n",
              "    </tr>\n",
              "    <tr>\n",
              "      <th>36</th>\n",
              "      <td>1443383</td>\n",
              "      <td>No, I will NOT volunteer</td>\n",
              "      <td></td>\n",
              "      <td></td>\n",
              "    </tr>\n",
              "    <tr>\n",
              "      <th>...</th>\n",
              "      <td>...</td>\n",
              "      <td>...</td>\n",
              "      <td>...</td>\n",
              "      <td>...</td>\n",
              "    </tr>\n",
              "    <tr>\n",
              "      <th>10439</th>\n",
              "      <td>6614273</td>\n",
              "      <td>No, I will NOT volunteer</td>\n",
              "      <td></td>\n",
              "      <td></td>\n",
              "    </tr>\n",
              "    <tr>\n",
              "      <th>10441</th>\n",
              "      <td>10902811</td>\n",
              "      <td>No, I will NOT volunteer</td>\n",
              "      <td></td>\n",
              "      <td></td>\n",
              "    </tr>\n",
              "    <tr>\n",
              "      <th>10449</th>\n",
              "      <td>14131385</td>\n",
              "      <td>No, I will NOT volunteer</td>\n",
              "      <td></td>\n",
              "      <td></td>\n",
              "    </tr>\n",
              "    <tr>\n",
              "      <th>10450</th>\n",
              "      <td>6150914</td>\n",
              "      <td>No, I will NOT volunteer</td>\n",
              "      <td></td>\n",
              "      <td></td>\n",
              "    </tr>\n",
              "    <tr>\n",
              "      <th>10453</th>\n",
              "      <td>5701841</td>\n",
              "      <td>No, I will NOT volunteer</td>\n",
              "      <td></td>\n",
              "      <td></td>\n",
              "    </tr>\n",
              "  </tbody>\n",
              "</table>\n",
              "<p>1235 rows × 4 columns</p>\n",
              "</div>"
            ],
            "text/plain": [
              "          vanid                        no yes maybe\n",
              "3      13943769  No, I will NOT volunteer          \n",
              "6       5718827  No, I will NOT volunteer          \n",
              "32     13945524  No, I will NOT volunteer          \n",
              "33     13945524  No, I will NOT volunteer          \n",
              "36      1443383  No, I will NOT volunteer          \n",
              "...         ...                       ...  ..   ...\n",
              "10439   6614273  No, I will NOT volunteer          \n",
              "10441  10902811  No, I will NOT volunteer          \n",
              "10449  14131385  No, I will NOT volunteer          \n",
              "10450   6150914  No, I will NOT volunteer          \n",
              "10453   5701841  No, I will NOT volunteer          \n",
              "\n",
              "[1235 rows x 4 columns]"
            ]
          },
          "metadata": {},
          "execution_count": 64
        }
      ]
    },
    {
      "cell_type": "markdown",
      "metadata": {
        "id": "38u3QRaiO7Sh"
      },
      "source": [
        "# Committ to Vote"
      ]
    },
    {
      "cell_type": "code",
      "metadata": {
        "id": "BzHEFf9yPA6p"
      },
      "source": [
        "column_name = 'Commit to Vote Card '\n",
        "split = df[df[column_name].notnull()]"
      ],
      "execution_count": null,
      "outputs": []
    },
    {
      "cell_type": "code",
      "metadata": {
        "colab": {
          "base_uri": "https://localhost:8080/"
        },
        "id": "90VkcRFyPKBl",
        "outputId": "81bb5e86-4005-4102-8de7-c31631e8ea94"
      },
      "source": [
        "split[column_name].value_counts()"
      ],
      "execution_count": null,
      "outputs": [
        {
          "output_type": "execute_result",
          "data": {
            "text/plain": [
              "No the voter did not complete the card    1190\n",
              "Yes the voter completed the card           124\n",
              "Name: Commit to Vote Card , dtype: int64"
            ]
          },
          "metadata": {},
          "execution_count": 66
        }
      ]
    },
    {
      "cell_type": "code",
      "metadata": {
        "colab": {
          "base_uri": "https://localhost:8080/"
        },
        "id": "uJhC_kr5PO4V",
        "outputId": "9e3a3616-0d35-44d8-e191-23a045ca9062"
      },
      "source": [
        "split['no'] = (split[column_name] == 'No the voter did not complete the card').replace({True: 'No the voter did not complete the card', False: ''})\n",
        "split['yes'] = (split[column_name] == 'Yes the voter completed the card').replace({True: 'Yes the voter completed the card', False: ''})"
      ],
      "execution_count": null,
      "outputs": [
        {
          "output_type": "stream",
          "name": "stderr",
          "text": [
            "/usr/local/lib/python3.7/dist-packages/ipykernel_launcher.py:1: SettingWithCopyWarning: \n",
            "A value is trying to be set on a copy of a slice from a DataFrame.\n",
            "Try using .loc[row_indexer,col_indexer] = value instead\n",
            "\n",
            "See the caveats in the documentation: https://pandas.pydata.org/pandas-docs/stable/user_guide/indexing.html#returning-a-view-versus-a-copy\n",
            "  \"\"\"Entry point for launching an IPython kernel.\n",
            "/usr/local/lib/python3.7/dist-packages/ipykernel_launcher.py:2: SettingWithCopyWarning: \n",
            "A value is trying to be set on a copy of a slice from a DataFrame.\n",
            "Try using .loc[row_indexer,col_indexer] = value instead\n",
            "\n",
            "See the caveats in the documentation: https://pandas.pydata.org/pandas-docs/stable/user_guide/indexing.html#returning-a-view-versus-a-copy\n",
            "  \n"
          ]
        }
      ]
    },
    {
      "cell_type": "code",
      "metadata": {
        "id": "em125a_jPtpZ"
      },
      "source": [
        "split1 = split[['ExternalID','no','yes']]\n",
        "ctv = split1.rename(columns={'ExternalID':'vanid'}).dropna(subset=['vanid'])"
      ],
      "execution_count": null,
      "outputs": []
    },
    {
      "cell_type": "code",
      "metadata": {
        "id": "1ltpkXkaPpnb"
      },
      "source": [
        "ctv.vanid = ctv.vanid.astype(int).astype(str)"
      ],
      "execution_count": null,
      "outputs": []
    },
    {
      "cell_type": "code",
      "metadata": {
        "colab": {
          "base_uri": "https://localhost:8080/",
          "height": 408
        },
        "id": "rZhUaGa3W2uu",
        "outputId": "0b806b18-87f5-497d-a0d2-c0b98ba546f8"
      },
      "source": [
        "ctv"
      ],
      "execution_count": null,
      "outputs": [
        {
          "output_type": "execute_result",
          "data": {
            "text/html": [
              "<div>\n",
              "<style scoped>\n",
              "    .dataframe tbody tr th:only-of-type {\n",
              "        vertical-align: middle;\n",
              "    }\n",
              "\n",
              "    .dataframe tbody tr th {\n",
              "        vertical-align: top;\n",
              "    }\n",
              "\n",
              "    .dataframe thead th {\n",
              "        text-align: right;\n",
              "    }\n",
              "</style>\n",
              "<table border=\"1\" class=\"dataframe\">\n",
              "  <thead>\n",
              "    <tr style=\"text-align: right;\">\n",
              "      <th></th>\n",
              "      <th>vanid</th>\n",
              "      <th>no</th>\n",
              "      <th>yes</th>\n",
              "    </tr>\n",
              "  </thead>\n",
              "  <tbody>\n",
              "    <tr>\n",
              "      <th>3</th>\n",
              "      <td>13943769</td>\n",
              "      <td>No the voter did not complete the card</td>\n",
              "      <td></td>\n",
              "    </tr>\n",
              "    <tr>\n",
              "      <th>6</th>\n",
              "      <td>5718827</td>\n",
              "      <td>No the voter did not complete the card</td>\n",
              "      <td></td>\n",
              "    </tr>\n",
              "    <tr>\n",
              "      <th>29</th>\n",
              "      <td>1497746</td>\n",
              "      <td>No the voter did not complete the card</td>\n",
              "      <td></td>\n",
              "    </tr>\n",
              "    <tr>\n",
              "      <th>32</th>\n",
              "      <td>13945524</td>\n",
              "      <td>No the voter did not complete the card</td>\n",
              "      <td></td>\n",
              "    </tr>\n",
              "    <tr>\n",
              "      <th>33</th>\n",
              "      <td>13945524</td>\n",
              "      <td>No the voter did not complete the card</td>\n",
              "      <td></td>\n",
              "    </tr>\n",
              "    <tr>\n",
              "      <th>...</th>\n",
              "      <td>...</td>\n",
              "      <td>...</td>\n",
              "      <td>...</td>\n",
              "    </tr>\n",
              "    <tr>\n",
              "      <th>10439</th>\n",
              "      <td>6614273</td>\n",
              "      <td></td>\n",
              "      <td>Yes the voter completed the card</td>\n",
              "    </tr>\n",
              "    <tr>\n",
              "      <th>10441</th>\n",
              "      <td>10902811</td>\n",
              "      <td></td>\n",
              "      <td>Yes the voter completed the card</td>\n",
              "    </tr>\n",
              "    <tr>\n",
              "      <th>10449</th>\n",
              "      <td>14131385</td>\n",
              "      <td></td>\n",
              "      <td>Yes the voter completed the card</td>\n",
              "    </tr>\n",
              "    <tr>\n",
              "      <th>10450</th>\n",
              "      <td>6150914</td>\n",
              "      <td></td>\n",
              "      <td>Yes the voter completed the card</td>\n",
              "    </tr>\n",
              "    <tr>\n",
              "      <th>10453</th>\n",
              "      <td>5701841</td>\n",
              "      <td></td>\n",
              "      <td>Yes the voter completed the card</td>\n",
              "    </tr>\n",
              "  </tbody>\n",
              "</table>\n",
              "<p>1314 rows × 3 columns</p>\n",
              "</div>"
            ],
            "text/plain": [
              "          vanid  ...                               yes\n",
              "3      13943769  ...                                  \n",
              "6       5718827  ...                                  \n",
              "29      1497746  ...                                  \n",
              "32     13945524  ...                                  \n",
              "33     13945524  ...                                  \n",
              "...         ...  ...                               ...\n",
              "10439   6614273  ...  Yes the voter completed the card\n",
              "10441  10902811  ...  Yes the voter completed the card\n",
              "10449  14131385  ...  Yes the voter completed the card\n",
              "10450   6150914  ...  Yes the voter completed the card\n",
              "10453   5701841  ...  Yes the voter completed the card\n",
              "\n",
              "[1314 rows x 3 columns]"
            ]
          },
          "metadata": {},
          "execution_count": 70
        }
      ]
    },
    {
      "cell_type": "markdown",
      "metadata": {
        "id": "h-pLc2bueMPb"
      },
      "source": [
        "# Create CSV's"
      ]
    },
    {
      "cell_type": "code",
      "metadata": {
        "id": "-fDw71PDjKRk"
      },
      "source": [
        "vol.to_csv('vol_ask.csv',index=False)\n",
        "ls.to_csv('lawn_sign.csv',index=False)\n",
        "can.to_csv('canvass_results.csv',index=False)\n",
        "supp.to_csv('support.csv',index=False)\n",
        "issue.to_csv('issue.csv',index=False)\n",
        "ev.to_csv('ev.csv',index=False)\n",
        "iev.to_csv('iev.csv',index=False)\n",
        "vet.to_csv('vet.csv',index=False)\n",
        "nev.to_csv('nev.csv',index=False)\n",
        "noevt.to_csv('noevt.csv',index=False)\n",
        "ctv.to_csv('ctv.csv', index=False)"
      ],
      "execution_count": null,
      "outputs": []
    },
    {
      "cell_type": "markdown",
      "metadata": {
        "id": "iQV6nMI7mfKK"
      },
      "source": [
        "LD Support ID\n",
        "\n"
      ]
    },
    {
      "cell_type": "markdown",
      "metadata": {
        "id": "j9kYRQ0Smq2c"
      },
      "source": [
        "Count Support ID"
      ]
    },
    {
      "cell_type": "markdown",
      "metadata": {
        "id": "1jQN-_uNmuTn"
      },
      "source": [
        "Local Support ID"
      ]
    },
    {
      "cell_type": "code",
      "metadata": {
        "id": "YX_qPPqQmte3"
      },
      "source": [
        ""
      ],
      "execution_count": null,
      "outputs": []
    },
    {
      "cell_type": "code",
      "metadata": {
        "id": "mmOUtJPfqYTX"
      },
      "source": [
        ""
      ],
      "execution_count": null,
      "outputs": []
    }
  ]
}