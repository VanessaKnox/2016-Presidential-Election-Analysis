{
  "nbformat": 4,
  "nbformat_minor": 0,
  "metadata": {
    "colab": {
      "name": "Phone Burner_Support ID: Data Cleaning data.ipynb",
      "provenance": [],
      "collapsed_sections": [],
      "include_colab_link": true
    },
    "kernelspec": {
      "name": "python3",
      "display_name": "Python 3"
    },
    "language_info": {
      "name": "python"
    }
  },
  "cells": [
    {
      "cell_type": "markdown",
      "metadata": {
        "id": "view-in-github",
        "colab_type": "text"
      },
      "source": [
        "<a href=\"https://colab.research.google.com/github/VanessaKnox/2016-Presidential-Election-Analysis/blob/master/Phone_Burner_Support_ID_Data_Cleaning_data.ipynb\" target=\"_parent\"><img src=\"https://colab.research.google.com/assets/colab-badge.svg\" alt=\"Open In Colab\"/></a>"
      ]
    },
    {
      "cell_type": "markdown",
      "metadata": {
        "id": "4-_5vcCouTH_"
      },
      "source": [
        "\n",
        "\n",
        "# Automated Data Cleaning for Grassroots Paid Canvassing Data\n",
        "\n"
      ]
    },
    {
      "cell_type": "markdown",
      "metadata": {
        "id": "Urir80QVWkI1"
      },
      "source": [
        "**How to use this notebook**\n"
      ]
    },
    {
      "cell_type": "markdown",
      "metadata": {
        "id": "AQok38nAW5Pl"
      },
      "source": [
        "1. Click on the folder button and upload file that needs to be cleaned\n",
        "2. Click on the three dots next to the file you just uploaded and click on \"Copy path\"\n",
        "3. Paste path inside single quotes in the cell below\n",
        "4. Click on Runtime in the top menu bar and click \"Run all\"\n",
        "5. Download all 5 CSVs (canvass results, support, lawn sign, vol ask, and vbm) to your computer. You'll see the files by clicking on the folder button on the left. Then click the three dots next to each file and click \"Download\" to download the files"
      ]
    },
    {
      "cell_type": "code",
      "metadata": {
        "id": "ZCSXjuuVWMXl"
      },
      "source": [
        "import pandas as pd\n",
        "df = pd.read_excel('/content/1025rawdata.xlsx')"
      ],
      "execution_count": 103,
      "outputs": []
    },
    {
      "cell_type": "markdown",
      "metadata": {
        "id": "nXSuDEPCfqvP"
      },
      "source": [
        "## Support "
      ]
    },
    {
      "cell_type": "code",
      "metadata": {
        "colab": {
          "base_uri": "https://localhost:8080/"
        },
        "id": "y3YX4RNE4Ol1",
        "outputId": "70963b4f-ecd6-4489-9c7a-30c13a0d8a90"
      },
      "source": [
        "from google.colab import drive\n",
        "drive.mount('/content/drive')"
      ],
      "execution_count": 104,
      "outputs": [
        {
          "output_type": "stream",
          "name": "stdout",
          "text": [
            "Drive already mounted at /content/drive; to attempt to forcibly remount, call drive.mount(\"/content/drive\", force_remount=True).\n"
          ]
        }
      ]
    },
    {
      "cell_type": "code",
      "metadata": {
        "id": "D1TKK-rPXTvu"
      },
      "source": [
        "#murphy support\n",
        "support = df[df['Murphy Support ID: Can we count on your vote to re-elect Gov. Phil Murphy on Nov 2nd?'].notnull()]"
      ],
      "execution_count": 105,
      "outputs": []
    },
    {
      "cell_type": "code",
      "metadata": {
        "id": "zweyjn1vXXxL",
        "colab": {
          "base_uri": "https://localhost:8080/"
        },
        "outputId": "bee5882b-ac58-460c-ea55-fb62c36870b1"
      },
      "source": [
        "support['Murphy Support ID: Can we count on your vote to re-elect Gov. Phil Murphy on Nov 2nd?'].value_counts()"
      ],
      "execution_count": 106,
      "outputs": [
        {
          "output_type": "execute_result",
          "data": {
            "text/plain": [
              "1. Strong Support    63\n",
              "5 Strong Against     11\n",
              "3. Undecided          9\n",
              "2. Lean Support       6\n",
              "Name: Murphy Support ID: Can we count on your vote to re-elect Gov. Phil Murphy on Nov 2nd?, dtype: int64"
            ]
          },
          "metadata": {},
          "execution_count": 106
        }
      ]
    },
    {
      "cell_type": "code",
      "metadata": {
        "id": "focFoCL-bknF",
        "colab": {
          "base_uri": "https://localhost:8080/"
        },
        "outputId": "af4d12c0-67fc-437c-8636-2769ffc54426"
      },
      "source": [
        "support['1'] = (support['Murphy Support ID: Can we count on your vote to re-elect Gov. Phil Murphy on Nov 2nd?'] == '1. Strong Support').replace({True: '1. Strong Support', False: ''})\n",
        "support['2'] = (support['Murphy Support ID: Can we count on your vote to re-elect Gov. Phil Murphy on Nov 2nd?'] == '2. Leans Support').replace({True: '2. Leans Support', False: ''})\n",
        "support['3'] = (support['Murphy Support ID: Can we count on your vote to re-elect Gov. Phil Murphy on Nov 2nd?'] == '3. Undecided').replace({True: '3. Undecided', False: ''})\n",
        "support['4'] = (support['Murphy Support ID: Can we count on your vote to re-elect Gov. Phil Murphy on Nov 2nd?'] == '4. Leans Against').replace({True: '4. Leans Against', False: ''})\n",
        "support['5'] = (support['Murphy Support ID: Can we count on your vote to re-elect Gov. Phil Murphy on Nov 2nd?'] == '5. Strongly Against').replace({True: '5. Strongly Against', False: ''})\n"
      ],
      "execution_count": 107,
      "outputs": [
        {
          "output_type": "stream",
          "name": "stderr",
          "text": [
            "/usr/local/lib/python3.7/dist-packages/ipykernel_launcher.py:1: SettingWithCopyWarning: \n",
            "A value is trying to be set on a copy of a slice from a DataFrame.\n",
            "Try using .loc[row_indexer,col_indexer] = value instead\n",
            "\n",
            "See the caveats in the documentation: https://pandas.pydata.org/pandas-docs/stable/user_guide/indexing.html#returning-a-view-versus-a-copy\n",
            "  \"\"\"Entry point for launching an IPython kernel.\n",
            "/usr/local/lib/python3.7/dist-packages/ipykernel_launcher.py:2: SettingWithCopyWarning: \n",
            "A value is trying to be set on a copy of a slice from a DataFrame.\n",
            "Try using .loc[row_indexer,col_indexer] = value instead\n",
            "\n",
            "See the caveats in the documentation: https://pandas.pydata.org/pandas-docs/stable/user_guide/indexing.html#returning-a-view-versus-a-copy\n",
            "  \n",
            "/usr/local/lib/python3.7/dist-packages/ipykernel_launcher.py:3: SettingWithCopyWarning: \n",
            "A value is trying to be set on a copy of a slice from a DataFrame.\n",
            "Try using .loc[row_indexer,col_indexer] = value instead\n",
            "\n",
            "See the caveats in the documentation: https://pandas.pydata.org/pandas-docs/stable/user_guide/indexing.html#returning-a-view-versus-a-copy\n",
            "  This is separate from the ipykernel package so we can avoid doing imports until\n",
            "/usr/local/lib/python3.7/dist-packages/ipykernel_launcher.py:4: SettingWithCopyWarning: \n",
            "A value is trying to be set on a copy of a slice from a DataFrame.\n",
            "Try using .loc[row_indexer,col_indexer] = value instead\n",
            "\n",
            "See the caveats in the documentation: https://pandas.pydata.org/pandas-docs/stable/user_guide/indexing.html#returning-a-view-versus-a-copy\n",
            "  after removing the cwd from sys.path.\n",
            "/usr/local/lib/python3.7/dist-packages/ipykernel_launcher.py:5: SettingWithCopyWarning: \n",
            "A value is trying to be set on a copy of a slice from a DataFrame.\n",
            "Try using .loc[row_indexer,col_indexer] = value instead\n",
            "\n",
            "See the caveats in the documentation: https://pandas.pydata.org/pandas-docs/stable/user_guide/indexing.html#returning-a-view-versus-a-copy\n",
            "  \"\"\"\n"
          ]
        }
      ]
    },
    {
      "cell_type": "code",
      "metadata": {
        "id": "0TOyTtkwcDsn"
      },
      "source": [
        "supp = support[['VAN ID', '1', '2', '3', '4', '5']].rename(columns={'VAN ID':'vanid'})\n",
        "supp = supp.dropna(subset=['vanid'])"
      ],
      "execution_count": 108,
      "outputs": []
    },
    {
      "cell_type": "code",
      "metadata": {
        "id": "GW-ObUoEcLb8",
        "colab": {
          "base_uri": "https://localhost:8080/"
        },
        "outputId": "f38a3424-2ff4-405d-bba8-2e7baac472db"
      },
      "source": [
        "supp.columns"
      ],
      "execution_count": 109,
      "outputs": [
        {
          "output_type": "execute_result",
          "data": {
            "text/plain": [
              "Index(['vanid', '1', '2', '3', '4', '5'], dtype='object')"
            ]
          },
          "metadata": {},
          "execution_count": 109
        }
      ]
    },
    {
      "cell_type": "code",
      "metadata": {
        "id": "Zff7skNmrJf3"
      },
      "source": [
        "supp.vanid = supp.vanid.astype(int).astype(str)"
      ],
      "execution_count": 110,
      "outputs": []
    },
    {
      "cell_type": "code",
      "metadata": {
        "id": "AaWqvrmfcxH1",
        "colab": {
          "base_uri": "https://localhost:8080/",
          "height": 421
        },
        "outputId": "1b7ab0f7-2c1d-45c9-f957-9fd0535aaab4"
      },
      "source": [
        "supp"
      ],
      "execution_count": 111,
      "outputs": [
        {
          "output_type": "execute_result",
          "data": {
            "text/html": [
              "<div>\n",
              "<style scoped>\n",
              "    .dataframe tbody tr th:only-of-type {\n",
              "        vertical-align: middle;\n",
              "    }\n",
              "\n",
              "    .dataframe tbody tr th {\n",
              "        vertical-align: top;\n",
              "    }\n",
              "\n",
              "    .dataframe thead th {\n",
              "        text-align: right;\n",
              "    }\n",
              "</style>\n",
              "<table border=\"1\" class=\"dataframe\">\n",
              "  <thead>\n",
              "    <tr style=\"text-align: right;\">\n",
              "      <th></th>\n",
              "      <th>vanid</th>\n",
              "      <th>1</th>\n",
              "      <th>2</th>\n",
              "      <th>3</th>\n",
              "      <th>4</th>\n",
              "      <th>5</th>\n",
              "    </tr>\n",
              "  </thead>\n",
              "  <tbody>\n",
              "    <tr>\n",
              "      <th>20</th>\n",
              "      <td>811804</td>\n",
              "      <td>1. Strong Support</td>\n",
              "      <td></td>\n",
              "      <td></td>\n",
              "      <td></td>\n",
              "      <td></td>\n",
              "    </tr>\n",
              "    <tr>\n",
              "      <th>29</th>\n",
              "      <td>4080777</td>\n",
              "      <td>1. Strong Support</td>\n",
              "      <td></td>\n",
              "      <td></td>\n",
              "      <td></td>\n",
              "      <td></td>\n",
              "    </tr>\n",
              "    <tr>\n",
              "      <th>112</th>\n",
              "      <td>15092585</td>\n",
              "      <td></td>\n",
              "      <td></td>\n",
              "      <td>3. Undecided</td>\n",
              "      <td></td>\n",
              "      <td></td>\n",
              "    </tr>\n",
              "    <tr>\n",
              "      <th>156</th>\n",
              "      <td>6316669</td>\n",
              "      <td>1. Strong Support</td>\n",
              "      <td></td>\n",
              "      <td></td>\n",
              "      <td></td>\n",
              "      <td></td>\n",
              "    </tr>\n",
              "    <tr>\n",
              "      <th>264</th>\n",
              "      <td>8736084</td>\n",
              "      <td></td>\n",
              "      <td></td>\n",
              "      <td></td>\n",
              "      <td></td>\n",
              "      <td></td>\n",
              "    </tr>\n",
              "    <tr>\n",
              "      <th>...</th>\n",
              "      <td>...</td>\n",
              "      <td>...</td>\n",
              "      <td>...</td>\n",
              "      <td>...</td>\n",
              "      <td>...</td>\n",
              "      <td>...</td>\n",
              "    </tr>\n",
              "    <tr>\n",
              "      <th>4469</th>\n",
              "      <td>1294422</td>\n",
              "      <td>1. Strong Support</td>\n",
              "      <td></td>\n",
              "      <td></td>\n",
              "      <td></td>\n",
              "      <td></td>\n",
              "    </tr>\n",
              "    <tr>\n",
              "      <th>4516</th>\n",
              "      <td>1265462</td>\n",
              "      <td>1. Strong Support</td>\n",
              "      <td></td>\n",
              "      <td></td>\n",
              "      <td></td>\n",
              "      <td></td>\n",
              "    </tr>\n",
              "    <tr>\n",
              "      <th>4523</th>\n",
              "      <td>5899194</td>\n",
              "      <td>1. Strong Support</td>\n",
              "      <td></td>\n",
              "      <td></td>\n",
              "      <td></td>\n",
              "      <td></td>\n",
              "    </tr>\n",
              "    <tr>\n",
              "      <th>4607</th>\n",
              "      <td>6728979</td>\n",
              "      <td></td>\n",
              "      <td></td>\n",
              "      <td></td>\n",
              "      <td></td>\n",
              "      <td></td>\n",
              "    </tr>\n",
              "    <tr>\n",
              "      <th>4647</th>\n",
              "      <td>1232306</td>\n",
              "      <td>1. Strong Support</td>\n",
              "      <td></td>\n",
              "      <td></td>\n",
              "      <td></td>\n",
              "      <td></td>\n",
              "    </tr>\n",
              "  </tbody>\n",
              "</table>\n",
              "<p>89 rows × 6 columns</p>\n",
              "</div>"
            ],
            "text/plain": [
              "         vanid                  1 2              3 4  5 \n",
              "20      811804  1. Strong Support                       \n",
              "29     4080777  1. Strong Support                       \n",
              "112   15092585                        3. Undecided      \n",
              "156    6316669  1. Strong Support                       \n",
              "264    8736084                                          \n",
              "...        ...                ... ..           ... .. ..\n",
              "4469   1294422  1. Strong Support                       \n",
              "4516   1265462  1. Strong Support                       \n",
              "4523   5899194  1. Strong Support                       \n",
              "4607   6728979                                          \n",
              "4647   1232306  1. Strong Support                       \n",
              "\n",
              "[89 rows x 6 columns]"
            ]
          },
          "metadata": {},
          "execution_count": 111
        }
      ]
    },
    {
      "cell_type": "markdown",
      "metadata": {
        "id": "HJkKMY1sf7zK"
      },
      "source": [
        "## Canvass Results"
      ]
    },
    {
      "cell_type": "code",
      "metadata": {
        "id": "f-Ly0EMcfwCY"
      },
      "source": [
        "canvass = df[df['Status'].notnull()]\n",
        "canvass = df[df['Status'] != 'No Answer']\n",
        "column_name = 'Status'"
      ],
      "execution_count": 112,
      "outputs": []
    },
    {
      "cell_type": "code",
      "metadata": {
        "id": "cm8eOgB1gJkr",
        "colab": {
          "base_uri": "https://localhost:8080/"
        },
        "outputId": "e48ed2b9-9c48-4244-a42f-fd1e8d7563cd"
      },
      "source": [
        "canvass.Status.count()"
      ],
      "execution_count": 113,
      "outputs": [
        {
          "output_type": "execute_result",
          "data": {
            "text/plain": [
              "4759"
            ]
          },
          "metadata": {},
          "execution_count": 113
        }
      ]
    },
    {
      "cell_type": "code",
      "metadata": {
        "id": "J1jqV7EbgHS8"
      },
      "source": [
        "uniqueValues = canvass['Status'].unique()"
      ],
      "execution_count": 114,
      "outputs": []
    },
    {
      "cell_type": "code",
      "metadata": {
        "id": "YY4FmEW3gK8b",
        "colab": {
          "base_uri": "https://localhost:8080/"
        },
        "outputId": "cfac27ba-a20a-43df-f323-3fec752cc366"
      },
      "source": [
        "canvass['nothome'] = (canvass[column_name] == 'Not Home').replace({True: 'nothome', False: ''})\n",
        "canvass['disconnected'] = (canvass[column_name] == 'Disconnected').replace({True: 'disconnected', False: ''})\n",
        "canvass['refused'] = (canvass[column_name] == 'Refused').replace({True: 'refused', False: ''})\n",
        "canvass['deceased'] = (canvass[column_name] == 'Deceased').replace({True: 'deceased', False: ''})\n",
        "canvass['call back'] = (canvass[column_name] == 'Call Back').replace({True: 'cALL back', False: ''})\n",
        "canvass['do not call'] = (canvass[column_name] == 'Do Not Call').replace({True: 'do not call', False: ''})\n",
        "canvass['follow up'] = (canvass[column_name] == 'Follow-up Call Needed').replace({True: 'follow up', False: ''})\n",
        "canvass['language'] = (canvass[column_name] == 'Other Language').replace({True: 'language', False: ''})\n",
        "canvass['left message'] = (canvass[column_name] == 'Left Message').replace({True: 'left message', False: ''})\n",
        "canvass['wrong number'] = (canvass[column_name] == 'Wrong Number').replace({True: 'wrong number', False: ''})"
      ],
      "execution_count": 115,
      "outputs": [
        {
          "output_type": "stream",
          "name": "stderr",
          "text": [
            "/usr/local/lib/python3.7/dist-packages/ipykernel_launcher.py:1: SettingWithCopyWarning: \n",
            "A value is trying to be set on a copy of a slice from a DataFrame.\n",
            "Try using .loc[row_indexer,col_indexer] = value instead\n",
            "\n",
            "See the caveats in the documentation: https://pandas.pydata.org/pandas-docs/stable/user_guide/indexing.html#returning-a-view-versus-a-copy\n",
            "  \"\"\"Entry point for launching an IPython kernel.\n",
            "/usr/local/lib/python3.7/dist-packages/ipykernel_launcher.py:2: SettingWithCopyWarning: \n",
            "A value is trying to be set on a copy of a slice from a DataFrame.\n",
            "Try using .loc[row_indexer,col_indexer] = value instead\n",
            "\n",
            "See the caveats in the documentation: https://pandas.pydata.org/pandas-docs/stable/user_guide/indexing.html#returning-a-view-versus-a-copy\n",
            "  \n",
            "/usr/local/lib/python3.7/dist-packages/ipykernel_launcher.py:3: SettingWithCopyWarning: \n",
            "A value is trying to be set on a copy of a slice from a DataFrame.\n",
            "Try using .loc[row_indexer,col_indexer] = value instead\n",
            "\n",
            "See the caveats in the documentation: https://pandas.pydata.org/pandas-docs/stable/user_guide/indexing.html#returning-a-view-versus-a-copy\n",
            "  This is separate from the ipykernel package so we can avoid doing imports until\n",
            "/usr/local/lib/python3.7/dist-packages/ipykernel_launcher.py:4: SettingWithCopyWarning: \n",
            "A value is trying to be set on a copy of a slice from a DataFrame.\n",
            "Try using .loc[row_indexer,col_indexer] = value instead\n",
            "\n",
            "See the caveats in the documentation: https://pandas.pydata.org/pandas-docs/stable/user_guide/indexing.html#returning-a-view-versus-a-copy\n",
            "  after removing the cwd from sys.path.\n",
            "/usr/local/lib/python3.7/dist-packages/ipykernel_launcher.py:5: SettingWithCopyWarning: \n",
            "A value is trying to be set on a copy of a slice from a DataFrame.\n",
            "Try using .loc[row_indexer,col_indexer] = value instead\n",
            "\n",
            "See the caveats in the documentation: https://pandas.pydata.org/pandas-docs/stable/user_guide/indexing.html#returning-a-view-versus-a-copy\n",
            "  \"\"\"\n",
            "/usr/local/lib/python3.7/dist-packages/ipykernel_launcher.py:6: SettingWithCopyWarning: \n",
            "A value is trying to be set on a copy of a slice from a DataFrame.\n",
            "Try using .loc[row_indexer,col_indexer] = value instead\n",
            "\n",
            "See the caveats in the documentation: https://pandas.pydata.org/pandas-docs/stable/user_guide/indexing.html#returning-a-view-versus-a-copy\n",
            "  \n",
            "/usr/local/lib/python3.7/dist-packages/ipykernel_launcher.py:7: SettingWithCopyWarning: \n",
            "A value is trying to be set on a copy of a slice from a DataFrame.\n",
            "Try using .loc[row_indexer,col_indexer] = value instead\n",
            "\n",
            "See the caveats in the documentation: https://pandas.pydata.org/pandas-docs/stable/user_guide/indexing.html#returning-a-view-versus-a-copy\n",
            "  import sys\n",
            "/usr/local/lib/python3.7/dist-packages/ipykernel_launcher.py:8: SettingWithCopyWarning: \n",
            "A value is trying to be set on a copy of a slice from a DataFrame.\n",
            "Try using .loc[row_indexer,col_indexer] = value instead\n",
            "\n",
            "See the caveats in the documentation: https://pandas.pydata.org/pandas-docs/stable/user_guide/indexing.html#returning-a-view-versus-a-copy\n",
            "  \n",
            "/usr/local/lib/python3.7/dist-packages/ipykernel_launcher.py:9: SettingWithCopyWarning: \n",
            "A value is trying to be set on a copy of a slice from a DataFrame.\n",
            "Try using .loc[row_indexer,col_indexer] = value instead\n",
            "\n",
            "See the caveats in the documentation: https://pandas.pydata.org/pandas-docs/stable/user_guide/indexing.html#returning-a-view-versus-a-copy\n",
            "  if __name__ == '__main__':\n",
            "/usr/local/lib/python3.7/dist-packages/ipykernel_launcher.py:10: SettingWithCopyWarning: \n",
            "A value is trying to be set on a copy of a slice from a DataFrame.\n",
            "Try using .loc[row_indexer,col_indexer] = value instead\n",
            "\n",
            "See the caveats in the documentation: https://pandas.pydata.org/pandas-docs/stable/user_guide/indexing.html#returning-a-view-versus-a-copy\n",
            "  # Remove the CWD from sys.path while we load stuff.\n"
          ]
        }
      ]
    },
    {
      "cell_type": "code",
      "metadata": {
        "id": "Gay1XF7PlD49"
      },
      "source": [
        "can = canvass[['VAN ID','nothome','disconnected','refused','deceased','call back','do not call','follow up','language', 'left message', 'wrong number']]"
      ],
      "execution_count": 116,
      "outputs": []
    },
    {
      "cell_type": "code",
      "metadata": {
        "id": "-Ft9FjphlF0l"
      },
      "source": [
        "can = can.rename(columns={'VAN ID':'vanid'}).dropna(subset=['vanid'])"
      ],
      "execution_count": 117,
      "outputs": []
    },
    {
      "cell_type": "code",
      "metadata": {
        "id": "yHUAQ_errFd-"
      },
      "source": [
        "can.vanid = can.vanid.astype(int).astype(str)"
      ],
      "execution_count": 118,
      "outputs": []
    },
    {
      "cell_type": "code",
      "metadata": {
        "id": "nvOWjdVVmE-K",
        "colab": {
          "base_uri": "https://localhost:8080/",
          "height": 492
        },
        "outputId": "b0e1cf4f-3ccf-4098-8a32-8948e6a55697"
      },
      "source": [
        "can"
      ],
      "execution_count": 119,
      "outputs": [
        {
          "output_type": "execute_result",
          "data": {
            "text/html": [
              "<div>\n",
              "<style scoped>\n",
              "    .dataframe tbody tr th:only-of-type {\n",
              "        vertical-align: middle;\n",
              "    }\n",
              "\n",
              "    .dataframe tbody tr th {\n",
              "        vertical-align: top;\n",
              "    }\n",
              "\n",
              "    .dataframe thead th {\n",
              "        text-align: right;\n",
              "    }\n",
              "</style>\n",
              "<table border=\"1\" class=\"dataframe\">\n",
              "  <thead>\n",
              "    <tr style=\"text-align: right;\">\n",
              "      <th></th>\n",
              "      <th>vanid</th>\n",
              "      <th>nothome</th>\n",
              "      <th>disconnected</th>\n",
              "      <th>refused</th>\n",
              "      <th>deceased</th>\n",
              "      <th>call back</th>\n",
              "      <th>do not call</th>\n",
              "      <th>follow up</th>\n",
              "      <th>language</th>\n",
              "      <th>left message</th>\n",
              "      <th>wrong number</th>\n",
              "    </tr>\n",
              "  </thead>\n",
              "  <tbody>\n",
              "    <tr>\n",
              "      <th>0</th>\n",
              "      <td>840090</td>\n",
              "      <td></td>\n",
              "      <td></td>\n",
              "      <td></td>\n",
              "      <td></td>\n",
              "      <td></td>\n",
              "      <td></td>\n",
              "      <td></td>\n",
              "      <td></td>\n",
              "      <td></td>\n",
              "      <td></td>\n",
              "    </tr>\n",
              "    <tr>\n",
              "      <th>1</th>\n",
              "      <td>10894206</td>\n",
              "      <td>nothome</td>\n",
              "      <td></td>\n",
              "      <td></td>\n",
              "      <td></td>\n",
              "      <td></td>\n",
              "      <td></td>\n",
              "      <td></td>\n",
              "      <td></td>\n",
              "      <td></td>\n",
              "      <td></td>\n",
              "    </tr>\n",
              "    <tr>\n",
              "      <th>2</th>\n",
              "      <td>1463128</td>\n",
              "      <td></td>\n",
              "      <td></td>\n",
              "      <td></td>\n",
              "      <td></td>\n",
              "      <td></td>\n",
              "      <td></td>\n",
              "      <td></td>\n",
              "      <td></td>\n",
              "      <td></td>\n",
              "      <td></td>\n",
              "    </tr>\n",
              "    <tr>\n",
              "      <th>3</th>\n",
              "      <td>680940</td>\n",
              "      <td></td>\n",
              "      <td></td>\n",
              "      <td></td>\n",
              "      <td></td>\n",
              "      <td></td>\n",
              "      <td></td>\n",
              "      <td></td>\n",
              "      <td></td>\n",
              "      <td></td>\n",
              "      <td></td>\n",
              "    </tr>\n",
              "    <tr>\n",
              "      <th>4</th>\n",
              "      <td>2216004</td>\n",
              "      <td></td>\n",
              "      <td></td>\n",
              "      <td></td>\n",
              "      <td></td>\n",
              "      <td></td>\n",
              "      <td></td>\n",
              "      <td></td>\n",
              "      <td></td>\n",
              "      <td></td>\n",
              "      <td></td>\n",
              "    </tr>\n",
              "    <tr>\n",
              "      <th>...</th>\n",
              "      <td>...</td>\n",
              "      <td>...</td>\n",
              "      <td>...</td>\n",
              "      <td>...</td>\n",
              "      <td>...</td>\n",
              "      <td>...</td>\n",
              "      <td>...</td>\n",
              "      <td>...</td>\n",
              "      <td>...</td>\n",
              "      <td>...</td>\n",
              "      <td>...</td>\n",
              "    </tr>\n",
              "    <tr>\n",
              "      <th>4797</th>\n",
              "      <td>14723138</td>\n",
              "      <td></td>\n",
              "      <td></td>\n",
              "      <td></td>\n",
              "      <td></td>\n",
              "      <td></td>\n",
              "      <td></td>\n",
              "      <td></td>\n",
              "      <td></td>\n",
              "      <td></td>\n",
              "      <td></td>\n",
              "    </tr>\n",
              "    <tr>\n",
              "      <th>4798</th>\n",
              "      <td>10953423</td>\n",
              "      <td></td>\n",
              "      <td></td>\n",
              "      <td></td>\n",
              "      <td></td>\n",
              "      <td></td>\n",
              "      <td></td>\n",
              "      <td></td>\n",
              "      <td></td>\n",
              "      <td></td>\n",
              "      <td></td>\n",
              "    </tr>\n",
              "    <tr>\n",
              "      <th>4799</th>\n",
              "      <td>5669977</td>\n",
              "      <td></td>\n",
              "      <td></td>\n",
              "      <td></td>\n",
              "      <td></td>\n",
              "      <td></td>\n",
              "      <td></td>\n",
              "      <td></td>\n",
              "      <td></td>\n",
              "      <td></td>\n",
              "      <td>wrong number</td>\n",
              "    </tr>\n",
              "    <tr>\n",
              "      <th>4800</th>\n",
              "      <td>5398502</td>\n",
              "      <td></td>\n",
              "      <td></td>\n",
              "      <td></td>\n",
              "      <td></td>\n",
              "      <td></td>\n",
              "      <td></td>\n",
              "      <td></td>\n",
              "      <td></td>\n",
              "      <td></td>\n",
              "      <td></td>\n",
              "    </tr>\n",
              "    <tr>\n",
              "      <th>4801</th>\n",
              "      <td>11114851</td>\n",
              "      <td></td>\n",
              "      <td></td>\n",
              "      <td></td>\n",
              "      <td></td>\n",
              "      <td></td>\n",
              "      <td></td>\n",
              "      <td></td>\n",
              "      <td></td>\n",
              "      <td></td>\n",
              "      <td></td>\n",
              "    </tr>\n",
              "  </tbody>\n",
              "</table>\n",
              "<p>4798 rows × 11 columns</p>\n",
              "</div>"
            ],
            "text/plain": [
              "         vanid  nothome disconnected  ... language left message  wrong number\n",
              "0       840090                        ...                                    \n",
              "1     10894206  nothome               ...                                    \n",
              "2      1463128                        ...                                    \n",
              "3       680940                        ...                                    \n",
              "4      2216004                        ...                                    \n",
              "...        ...      ...          ...  ...      ...          ...           ...\n",
              "4797  14723138                        ...                                    \n",
              "4798  10953423                        ...                                    \n",
              "4799   5669977                        ...                        wrong number\n",
              "4800   5398502                        ...                                    \n",
              "4801  11114851                        ...                                    \n",
              "\n",
              "[4798 rows x 11 columns]"
            ]
          },
          "metadata": {},
          "execution_count": 119
        }
      ]
    },
    {
      "cell_type": "markdown",
      "metadata": {
        "id": "3RzPTHy4neMD"
      },
      "source": [
        "## Issue"
      ]
    },
    {
      "cell_type": "code",
      "metadata": {
        "id": "dQtImf43ngdK"
      },
      "source": [
        "column_name = 'If Undecided -- What issues are important to you? Are there things you wish politicians would focus on that would help you or your family? List the following topics.'\n",
        "split = df[df[column_name].notnull()]"
      ],
      "execution_count": 120,
      "outputs": []
    },
    {
      "cell_type": "code",
      "metadata": {
        "id": "7ufhG9o5oVaA",
        "colab": {
          "base_uri": "https://localhost:8080/"
        },
        "outputId": "849a4f65-f1f7-4345-b1d8-64561a577269"
      },
      "source": [
        "split[column_name].value_counts()"
      ],
      "execution_count": 121,
      "outputs": [
        {
          "output_type": "execute_result",
          "data": {
            "text/plain": [
              "Job/Economy    3\n",
              "Healthcare     2\n",
              "Education      1\n",
              "Name: If Undecided -- What issues are important to you? Are there things you wish politicians would focus on that would help you or your family? List the following topics., dtype: int64"
            ]
          },
          "metadata": {},
          "execution_count": 121
        }
      ]
    },
    {
      "cell_type": "code",
      "metadata": {
        "id": "nNw3DEaVoWJo",
        "colab": {
          "base_uri": "https://localhost:8080/"
        },
        "outputId": "e66009ca-2563-46fa-b564-1d3d6105d954"
      },
      "source": [
        "split['education'] = (split[column_name] == 'Education').replace({True: 'education', False: ''})\n",
        "split['jobs'] = (split[column_name] == 'Jobs/Economy').replace({True: 'jobs', False: ''})\n",
        "split['healthcare'] = (split[column_name] == 'Healthcare').replace({True: 'healthcare', False: ''})"
      ],
      "execution_count": 122,
      "outputs": [
        {
          "output_type": "stream",
          "name": "stderr",
          "text": [
            "/usr/local/lib/python3.7/dist-packages/ipykernel_launcher.py:1: SettingWithCopyWarning: \n",
            "A value is trying to be set on a copy of a slice from a DataFrame.\n",
            "Try using .loc[row_indexer,col_indexer] = value instead\n",
            "\n",
            "See the caveats in the documentation: https://pandas.pydata.org/pandas-docs/stable/user_guide/indexing.html#returning-a-view-versus-a-copy\n",
            "  \"\"\"Entry point for launching an IPython kernel.\n",
            "/usr/local/lib/python3.7/dist-packages/ipykernel_launcher.py:2: SettingWithCopyWarning: \n",
            "A value is trying to be set on a copy of a slice from a DataFrame.\n",
            "Try using .loc[row_indexer,col_indexer] = value instead\n",
            "\n",
            "See the caveats in the documentation: https://pandas.pydata.org/pandas-docs/stable/user_guide/indexing.html#returning-a-view-versus-a-copy\n",
            "  \n",
            "/usr/local/lib/python3.7/dist-packages/ipykernel_launcher.py:3: SettingWithCopyWarning: \n",
            "A value is trying to be set on a copy of a slice from a DataFrame.\n",
            "Try using .loc[row_indexer,col_indexer] = value instead\n",
            "\n",
            "See the caveats in the documentation: https://pandas.pydata.org/pandas-docs/stable/user_guide/indexing.html#returning-a-view-versus-a-copy\n",
            "  This is separate from the ipykernel package so we can avoid doing imports until\n"
          ]
        }
      ]
    },
    {
      "cell_type": "code",
      "metadata": {
        "id": "hX0dfQuso7gw"
      },
      "source": [
        "split1 = split[['VAN ID','education','jobs','healthcare']]\n",
        "issue = split1.rename(columns={'VAN ID':'vanid'}).dropna(subset=['vanid'])"
      ],
      "execution_count": 123,
      "outputs": []
    },
    {
      "cell_type": "code",
      "metadata": {
        "id": "7cgnHQ6ZrVGO"
      },
      "source": [
        "issue.vanid = issue.vanid.astype(int).astype(str)"
      ],
      "execution_count": 124,
      "outputs": []
    },
    {
      "cell_type": "markdown",
      "metadata": {
        "id": "7jxwr5dMplIM"
      },
      "source": [
        "# Early Vote"
      ]
    },
    {
      "cell_type": "code",
      "metadata": {
        "id": "2QdyIYqdpX2z"
      },
      "source": [
        "column_name = 'Early Vote Question - can we count on you to cast your vote early or will you vote on Election Day Nov 2?'\n",
        "split = df[df[column_name].notnull()]"
      ],
      "execution_count": 125,
      "outputs": []
    },
    {
      "cell_type": "code",
      "metadata": {
        "id": "XhYX3ulHqFZy",
        "colab": {
          "base_uri": "https://localhost:8080/"
        },
        "outputId": "eaa4532d-01d2-493c-917d-34c94b5a6af4"
      },
      "source": [
        "split[column_name].value_counts()"
      ],
      "execution_count": 126,
      "outputs": [
        {
          "output_type": "execute_result",
          "data": {
            "text/plain": [
              "Yes, I will be voting early                      21\n",
              "No, I will vote on Election Day November 2nd     12\n",
              "I am unsure of when I will be voting              9\n",
              "Name: Early Vote Question - can we count on you to cast your vote early or will you vote on Election Day Nov 2?, dtype: int64"
            ]
          },
          "metadata": {},
          "execution_count": 126
        }
      ]
    },
    {
      "cell_type": "code",
      "metadata": {
        "id": "WfaLrzoAqGPA",
        "colab": {
          "base_uri": "https://localhost:8080/"
        },
        "outputId": "5be878b0-7056-4daa-80ed-96ffcf0b83e4"
      },
      "source": [
        "split['no'] = (split[column_name] == 'No, I will vote on Election Day November 2nd ').replace({True: 'no', False: ''})\n",
        "split['yes'] = (split[column_name] == 'Yes, I will be voting early').replace({True: 'yes', False: ''})\n",
        "split['unsure'] = (split[column_name] == 'I am unsure of when I will be voting').replace({True: 'unsure', False: ''})"
      ],
      "execution_count": 127,
      "outputs": [
        {
          "output_type": "stream",
          "name": "stderr",
          "text": [
            "/usr/local/lib/python3.7/dist-packages/ipykernel_launcher.py:1: SettingWithCopyWarning: \n",
            "A value is trying to be set on a copy of a slice from a DataFrame.\n",
            "Try using .loc[row_indexer,col_indexer] = value instead\n",
            "\n",
            "See the caveats in the documentation: https://pandas.pydata.org/pandas-docs/stable/user_guide/indexing.html#returning-a-view-versus-a-copy\n",
            "  \"\"\"Entry point for launching an IPython kernel.\n",
            "/usr/local/lib/python3.7/dist-packages/ipykernel_launcher.py:2: SettingWithCopyWarning: \n",
            "A value is trying to be set on a copy of a slice from a DataFrame.\n",
            "Try using .loc[row_indexer,col_indexer] = value instead\n",
            "\n",
            "See the caveats in the documentation: https://pandas.pydata.org/pandas-docs/stable/user_guide/indexing.html#returning-a-view-versus-a-copy\n",
            "  \n",
            "/usr/local/lib/python3.7/dist-packages/ipykernel_launcher.py:3: SettingWithCopyWarning: \n",
            "A value is trying to be set on a copy of a slice from a DataFrame.\n",
            "Try using .loc[row_indexer,col_indexer] = value instead\n",
            "\n",
            "See the caveats in the documentation: https://pandas.pydata.org/pandas-docs/stable/user_guide/indexing.html#returning-a-view-versus-a-copy\n",
            "  This is separate from the ipykernel package so we can avoid doing imports until\n"
          ]
        }
      ]
    },
    {
      "cell_type": "code",
      "metadata": {
        "id": "ShMnpGl3fPzX"
      },
      "source": [
        "split1 = split[['VAN ID','no','yes','unsure']]\n",
        "ev = split1.rename(columns={'VAN ID':'vanid'}).dropna(subset=['vanid'])"
      ],
      "execution_count": 128,
      "outputs": []
    },
    {
      "cell_type": "code",
      "metadata": {
        "id": "wgeHShzbrO3o"
      },
      "source": [
        "ev.vanid = ev.vanid.astype(int).astype(str)"
      ],
      "execution_count": 129,
      "outputs": []
    },
    {
      "cell_type": "code",
      "metadata": {
        "id": "oTbu7XEDf5iq",
        "colab": {
          "base_uri": "https://localhost:8080/",
          "height": 1000
        },
        "outputId": "843f22d5-2c9f-4e19-f555-89526bc512da"
      },
      "source": [
        "ev"
      ],
      "execution_count": 130,
      "outputs": [
        {
          "output_type": "execute_result",
          "data": {
            "text/html": [
              "<div>\n",
              "<style scoped>\n",
              "    .dataframe tbody tr th:only-of-type {\n",
              "        vertical-align: middle;\n",
              "    }\n",
              "\n",
              "    .dataframe tbody tr th {\n",
              "        vertical-align: top;\n",
              "    }\n",
              "\n",
              "    .dataframe thead th {\n",
              "        text-align: right;\n",
              "    }\n",
              "</style>\n",
              "<table border=\"1\" class=\"dataframe\">\n",
              "  <thead>\n",
              "    <tr style=\"text-align: right;\">\n",
              "      <th></th>\n",
              "      <th>vanid</th>\n",
              "      <th>no</th>\n",
              "      <th>yes</th>\n",
              "      <th>unsure</th>\n",
              "    </tr>\n",
              "  </thead>\n",
              "  <tbody>\n",
              "    <tr>\n",
              "      <th>112</th>\n",
              "      <td>15092585</td>\n",
              "      <td></td>\n",
              "      <td>yes</td>\n",
              "      <td></td>\n",
              "    </tr>\n",
              "    <tr>\n",
              "      <th>156</th>\n",
              "      <td>6316669</td>\n",
              "      <td></td>\n",
              "      <td></td>\n",
              "      <td>unsure</td>\n",
              "    </tr>\n",
              "    <tr>\n",
              "      <th>293</th>\n",
              "      <td>869017</td>\n",
              "      <td>no</td>\n",
              "      <td></td>\n",
              "      <td></td>\n",
              "    </tr>\n",
              "    <tr>\n",
              "      <th>336</th>\n",
              "      <td>14013675</td>\n",
              "      <td></td>\n",
              "      <td></td>\n",
              "      <td>unsure</td>\n",
              "    </tr>\n",
              "    <tr>\n",
              "      <th>353</th>\n",
              "      <td>12949746</td>\n",
              "      <td></td>\n",
              "      <td>yes</td>\n",
              "      <td></td>\n",
              "    </tr>\n",
              "    <tr>\n",
              "      <th>411</th>\n",
              "      <td>5941715</td>\n",
              "      <td></td>\n",
              "      <td>yes</td>\n",
              "      <td></td>\n",
              "    </tr>\n",
              "    <tr>\n",
              "      <th>477</th>\n",
              "      <td>14090386</td>\n",
              "      <td>no</td>\n",
              "      <td></td>\n",
              "      <td></td>\n",
              "    </tr>\n",
              "    <tr>\n",
              "      <th>479</th>\n",
              "      <td>9369435</td>\n",
              "      <td></td>\n",
              "      <td>yes</td>\n",
              "      <td></td>\n",
              "    </tr>\n",
              "    <tr>\n",
              "      <th>569</th>\n",
              "      <td>11265377</td>\n",
              "      <td>no</td>\n",
              "      <td></td>\n",
              "      <td></td>\n",
              "    </tr>\n",
              "    <tr>\n",
              "      <th>837</th>\n",
              "      <td>5902710</td>\n",
              "      <td>no</td>\n",
              "      <td></td>\n",
              "      <td></td>\n",
              "    </tr>\n",
              "    <tr>\n",
              "      <th>859</th>\n",
              "      <td>651270</td>\n",
              "      <td>no</td>\n",
              "      <td></td>\n",
              "      <td></td>\n",
              "    </tr>\n",
              "    <tr>\n",
              "      <th>925</th>\n",
              "      <td>727376</td>\n",
              "      <td></td>\n",
              "      <td>yes</td>\n",
              "      <td></td>\n",
              "    </tr>\n",
              "    <tr>\n",
              "      <th>1011</th>\n",
              "      <td>6600316</td>\n",
              "      <td></td>\n",
              "      <td>yes</td>\n",
              "      <td></td>\n",
              "    </tr>\n",
              "    <tr>\n",
              "      <th>1027</th>\n",
              "      <td>5383716</td>\n",
              "      <td></td>\n",
              "      <td>yes</td>\n",
              "      <td></td>\n",
              "    </tr>\n",
              "    <tr>\n",
              "      <th>1049</th>\n",
              "      <td>6713551</td>\n",
              "      <td></td>\n",
              "      <td>yes</td>\n",
              "      <td></td>\n",
              "    </tr>\n",
              "    <tr>\n",
              "      <th>1122</th>\n",
              "      <td>646068</td>\n",
              "      <td></td>\n",
              "      <td>yes</td>\n",
              "      <td></td>\n",
              "    </tr>\n",
              "    <tr>\n",
              "      <th>1146</th>\n",
              "      <td>6532701</td>\n",
              "      <td>no</td>\n",
              "      <td></td>\n",
              "      <td></td>\n",
              "    </tr>\n",
              "    <tr>\n",
              "      <th>1247</th>\n",
              "      <td>14712699</td>\n",
              "      <td></td>\n",
              "      <td>yes</td>\n",
              "      <td></td>\n",
              "    </tr>\n",
              "    <tr>\n",
              "      <th>1535</th>\n",
              "      <td>13791622</td>\n",
              "      <td>no</td>\n",
              "      <td></td>\n",
              "      <td></td>\n",
              "    </tr>\n",
              "    <tr>\n",
              "      <th>1567</th>\n",
              "      <td>11243309</td>\n",
              "      <td></td>\n",
              "      <td>yes</td>\n",
              "      <td></td>\n",
              "    </tr>\n",
              "    <tr>\n",
              "      <th>1654</th>\n",
              "      <td>347040</td>\n",
              "      <td></td>\n",
              "      <td>yes</td>\n",
              "      <td></td>\n",
              "    </tr>\n",
              "    <tr>\n",
              "      <th>1743</th>\n",
              "      <td>5704182</td>\n",
              "      <td></td>\n",
              "      <td></td>\n",
              "      <td>unsure</td>\n",
              "    </tr>\n",
              "    <tr>\n",
              "      <th>2177</th>\n",
              "      <td>4661864</td>\n",
              "      <td></td>\n",
              "      <td>yes</td>\n",
              "      <td></td>\n",
              "    </tr>\n",
              "    <tr>\n",
              "      <th>2282</th>\n",
              "      <td>9830023</td>\n",
              "      <td></td>\n",
              "      <td></td>\n",
              "      <td>unsure</td>\n",
              "    </tr>\n",
              "    <tr>\n",
              "      <th>2331</th>\n",
              "      <td>329124</td>\n",
              "      <td></td>\n",
              "      <td>yes</td>\n",
              "      <td></td>\n",
              "    </tr>\n",
              "    <tr>\n",
              "      <th>2351</th>\n",
              "      <td>585342</td>\n",
              "      <td></td>\n",
              "      <td>yes</td>\n",
              "      <td></td>\n",
              "    </tr>\n",
              "    <tr>\n",
              "      <th>3384</th>\n",
              "      <td>1298113</td>\n",
              "      <td></td>\n",
              "      <td>yes</td>\n",
              "      <td></td>\n",
              "    </tr>\n",
              "    <tr>\n",
              "      <th>3417</th>\n",
              "      <td>1273270</td>\n",
              "      <td></td>\n",
              "      <td>yes</td>\n",
              "      <td></td>\n",
              "    </tr>\n",
              "    <tr>\n",
              "      <th>3474</th>\n",
              "      <td>1293121</td>\n",
              "      <td></td>\n",
              "      <td>yes</td>\n",
              "      <td></td>\n",
              "    </tr>\n",
              "    <tr>\n",
              "      <th>3510</th>\n",
              "      <td>6607278</td>\n",
              "      <td></td>\n",
              "      <td></td>\n",
              "      <td>unsure</td>\n",
              "    </tr>\n",
              "    <tr>\n",
              "      <th>3669</th>\n",
              "      <td>6050742</td>\n",
              "      <td>no</td>\n",
              "      <td></td>\n",
              "      <td></td>\n",
              "    </tr>\n",
              "    <tr>\n",
              "      <th>3813</th>\n",
              "      <td>1240752</td>\n",
              "      <td></td>\n",
              "      <td></td>\n",
              "      <td>unsure</td>\n",
              "    </tr>\n",
              "    <tr>\n",
              "      <th>3871</th>\n",
              "      <td>5632818</td>\n",
              "      <td></td>\n",
              "      <td>yes</td>\n",
              "      <td></td>\n",
              "    </tr>\n",
              "    <tr>\n",
              "      <th>3877</th>\n",
              "      <td>6728118</td>\n",
              "      <td>no</td>\n",
              "      <td></td>\n",
              "      <td></td>\n",
              "    </tr>\n",
              "    <tr>\n",
              "      <th>4060</th>\n",
              "      <td>1273589</td>\n",
              "      <td>no</td>\n",
              "      <td></td>\n",
              "      <td></td>\n",
              "    </tr>\n",
              "    <tr>\n",
              "      <th>4248</th>\n",
              "      <td>1229799</td>\n",
              "      <td></td>\n",
              "      <td></td>\n",
              "      <td>unsure</td>\n",
              "    </tr>\n",
              "    <tr>\n",
              "      <th>4320</th>\n",
              "      <td>10914563</td>\n",
              "      <td></td>\n",
              "      <td></td>\n",
              "      <td>unsure</td>\n",
              "    </tr>\n",
              "    <tr>\n",
              "      <th>4363</th>\n",
              "      <td>14137584</td>\n",
              "      <td></td>\n",
              "      <td>yes</td>\n",
              "      <td></td>\n",
              "    </tr>\n",
              "    <tr>\n",
              "      <th>4421</th>\n",
              "      <td>6430342</td>\n",
              "      <td>no</td>\n",
              "      <td></td>\n",
              "      <td></td>\n",
              "    </tr>\n",
              "    <tr>\n",
              "      <th>4523</th>\n",
              "      <td>5899194</td>\n",
              "      <td></td>\n",
              "      <td>yes</td>\n",
              "      <td></td>\n",
              "    </tr>\n",
              "    <tr>\n",
              "      <th>4607</th>\n",
              "      <td>6728979</td>\n",
              "      <td></td>\n",
              "      <td></td>\n",
              "      <td>unsure</td>\n",
              "    </tr>\n",
              "    <tr>\n",
              "      <th>4647</th>\n",
              "      <td>1232306</td>\n",
              "      <td>no</td>\n",
              "      <td></td>\n",
              "      <td></td>\n",
              "    </tr>\n",
              "  </tbody>\n",
              "</table>\n",
              "</div>"
            ],
            "text/plain": [
              "         vanid  no  yes  unsure\n",
              "112   15092585      yes        \n",
              "156    6316669           unsure\n",
              "293     869017  no             \n",
              "336   14013675           unsure\n",
              "353   12949746      yes        \n",
              "411    5941715      yes        \n",
              "477   14090386  no             \n",
              "479    9369435      yes        \n",
              "569   11265377  no             \n",
              "837    5902710  no             \n",
              "859     651270  no             \n",
              "925     727376      yes        \n",
              "1011   6600316      yes        \n",
              "1027   5383716      yes        \n",
              "1049   6713551      yes        \n",
              "1122    646068      yes        \n",
              "1146   6532701  no             \n",
              "1247  14712699      yes        \n",
              "1535  13791622  no             \n",
              "1567  11243309      yes        \n",
              "1654    347040      yes        \n",
              "1743   5704182           unsure\n",
              "2177   4661864      yes        \n",
              "2282   9830023           unsure\n",
              "2331    329124      yes        \n",
              "2351    585342      yes        \n",
              "3384   1298113      yes        \n",
              "3417   1273270      yes        \n",
              "3474   1293121      yes        \n",
              "3510   6607278           unsure\n",
              "3669   6050742  no             \n",
              "3813   1240752           unsure\n",
              "3871   5632818      yes        \n",
              "3877   6728118  no             \n",
              "4060   1273589  no             \n",
              "4248   1229799           unsure\n",
              "4320  10914563           unsure\n",
              "4363  14137584      yes        \n",
              "4421   6430342  no             \n",
              "4523   5899194      yes        \n",
              "4607   6728979           unsure\n",
              "4647   1232306  no             "
            ]
          },
          "metadata": {},
          "execution_count": 130
        }
      ]
    },
    {
      "cell_type": "markdown",
      "metadata": {
        "id": "vdHMCX1RXIIo"
      },
      "source": [
        "# Early Vote Plan"
      ]
    },
    {
      "cell_type": "code",
      "metadata": {
        "id": "VpW4WUc_XQ32"
      },
      "source": [
        "column_name = 'Voting Early --: When do you plan on voting?'\n",
        "split = df[df[column_name].notnull()]"
      ],
      "execution_count": 131,
      "outputs": []
    },
    {
      "cell_type": "code",
      "metadata": {
        "id": "NOmi-W_7hEOK",
        "colab": {
          "base_uri": "https://localhost:8080/"
        },
        "outputId": "923f1db8-837e-49ba-edad-783e7931d0fb"
      },
      "source": [
        "split['morning'] = (split[column_name] == 'Morning').replace({True: 'Morning', False: ''})\n",
        "split['afternoon'] = (split[column_name] == 'Afternoon').replace({True: 'Afternoon', False: ''})\n",
        "split['evening'] = (split[column_name] == 'Evening').replace({True: 'Evening', False: ''})"
      ],
      "execution_count": 132,
      "outputs": [
        {
          "output_type": "stream",
          "name": "stderr",
          "text": [
            "/usr/local/lib/python3.7/dist-packages/ipykernel_launcher.py:1: SettingWithCopyWarning: \n",
            "A value is trying to be set on a copy of a slice from a DataFrame.\n",
            "Try using .loc[row_indexer,col_indexer] = value instead\n",
            "\n",
            "See the caveats in the documentation: https://pandas.pydata.org/pandas-docs/stable/user_guide/indexing.html#returning-a-view-versus-a-copy\n",
            "  \"\"\"Entry point for launching an IPython kernel.\n",
            "/usr/local/lib/python3.7/dist-packages/ipykernel_launcher.py:2: SettingWithCopyWarning: \n",
            "A value is trying to be set on a copy of a slice from a DataFrame.\n",
            "Try using .loc[row_indexer,col_indexer] = value instead\n",
            "\n",
            "See the caveats in the documentation: https://pandas.pydata.org/pandas-docs/stable/user_guide/indexing.html#returning-a-view-versus-a-copy\n",
            "  \n",
            "/usr/local/lib/python3.7/dist-packages/ipykernel_launcher.py:3: SettingWithCopyWarning: \n",
            "A value is trying to be set on a copy of a slice from a DataFrame.\n",
            "Try using .loc[row_indexer,col_indexer] = value instead\n",
            "\n",
            "See the caveats in the documentation: https://pandas.pydata.org/pandas-docs/stable/user_guide/indexing.html#returning-a-view-versus-a-copy\n",
            "  This is separate from the ipykernel package so we can avoid doing imports until\n"
          ]
        }
      ]
    },
    {
      "cell_type": "code",
      "metadata": {
        "id": "j0yESFvpiBeB"
      },
      "source": [
        "split1 = split[['VAN ID','morning','afternoon','evening']]\n",
        "evp = split1.rename(columns={'VAN ID':'vanid'}).dropna(subset=['vanid'])"
      ],
      "execution_count": 133,
      "outputs": []
    },
    {
      "cell_type": "code",
      "metadata": {
        "id": "N4i2lp5lYT58"
      },
      "source": [
        "evp.vanid = evp.vanid.astype(int).astype(str)"
      ],
      "execution_count": 134,
      "outputs": []
    },
    {
      "cell_type": "code",
      "metadata": {
        "colab": {
          "base_uri": "https://localhost:8080/",
          "height": 423
        },
        "id": "m-tHqbRYa9UV",
        "outputId": "4e10c2e9-a627-472b-98ce-ddb81f8b76c3"
      },
      "source": [
        "evp"
      ],
      "execution_count": 135,
      "outputs": [
        {
          "output_type": "execute_result",
          "data": {
            "text/html": [
              "<div>\n",
              "<style scoped>\n",
              "    .dataframe tbody tr th:only-of-type {\n",
              "        vertical-align: middle;\n",
              "    }\n",
              "\n",
              "    .dataframe tbody tr th {\n",
              "        vertical-align: top;\n",
              "    }\n",
              "\n",
              "    .dataframe thead th {\n",
              "        text-align: right;\n",
              "    }\n",
              "</style>\n",
              "<table border=\"1\" class=\"dataframe\">\n",
              "  <thead>\n",
              "    <tr style=\"text-align: right;\">\n",
              "      <th></th>\n",
              "      <th>vanid</th>\n",
              "      <th>morning</th>\n",
              "      <th>afternoon</th>\n",
              "      <th>evening</th>\n",
              "    </tr>\n",
              "  </thead>\n",
              "  <tbody>\n",
              "    <tr>\n",
              "      <th>112</th>\n",
              "      <td>15092585</td>\n",
              "      <td></td>\n",
              "      <td>Afternoon</td>\n",
              "      <td></td>\n",
              "    </tr>\n",
              "    <tr>\n",
              "      <th>1011</th>\n",
              "      <td>6600316</td>\n",
              "      <td></td>\n",
              "      <td>Afternoon</td>\n",
              "      <td></td>\n",
              "    </tr>\n",
              "    <tr>\n",
              "      <th>1027</th>\n",
              "      <td>5383716</td>\n",
              "      <td>Morning</td>\n",
              "      <td></td>\n",
              "      <td></td>\n",
              "    </tr>\n",
              "    <tr>\n",
              "      <th>1049</th>\n",
              "      <td>6713551</td>\n",
              "      <td></td>\n",
              "      <td>Afternoon</td>\n",
              "      <td></td>\n",
              "    </tr>\n",
              "    <tr>\n",
              "      <th>1055</th>\n",
              "      <td>15092613</td>\n",
              "      <td></td>\n",
              "      <td>Afternoon</td>\n",
              "      <td></td>\n",
              "    </tr>\n",
              "    <tr>\n",
              "      <th>1247</th>\n",
              "      <td>14712699</td>\n",
              "      <td></td>\n",
              "      <td>Afternoon</td>\n",
              "      <td></td>\n",
              "    </tr>\n",
              "    <tr>\n",
              "      <th>1273</th>\n",
              "      <td>5402819</td>\n",
              "      <td></td>\n",
              "      <td>Afternoon</td>\n",
              "      <td></td>\n",
              "    </tr>\n",
              "    <tr>\n",
              "      <th>2077</th>\n",
              "      <td>14647236</td>\n",
              "      <td></td>\n",
              "      <td></td>\n",
              "      <td>Evening</td>\n",
              "    </tr>\n",
              "    <tr>\n",
              "      <th>2177</th>\n",
              "      <td>4661864</td>\n",
              "      <td>Morning</td>\n",
              "      <td></td>\n",
              "      <td></td>\n",
              "    </tr>\n",
              "    <tr>\n",
              "      <th>3384</th>\n",
              "      <td>1298113</td>\n",
              "      <td></td>\n",
              "      <td>Afternoon</td>\n",
              "      <td></td>\n",
              "    </tr>\n",
              "    <tr>\n",
              "      <th>4363</th>\n",
              "      <td>14137584</td>\n",
              "      <td></td>\n",
              "      <td>Afternoon</td>\n",
              "      <td></td>\n",
              "    </tr>\n",
              "    <tr>\n",
              "      <th>4523</th>\n",
              "      <td>5899194</td>\n",
              "      <td></td>\n",
              "      <td>Afternoon</td>\n",
              "      <td></td>\n",
              "    </tr>\n",
              "  </tbody>\n",
              "</table>\n",
              "</div>"
            ],
            "text/plain": [
              "         vanid  morning  afternoon  evening\n",
              "112   15092585           Afternoon         \n",
              "1011   6600316           Afternoon         \n",
              "1027   5383716  Morning                    \n",
              "1049   6713551           Afternoon         \n",
              "1055  15092613           Afternoon         \n",
              "1247  14712699           Afternoon         \n",
              "1273   5402819           Afternoon         \n",
              "2077  14647236                      Evening\n",
              "2177   4661864  Morning                    \n",
              "3384   1298113           Afternoon         \n",
              "4363  14137584           Afternoon         \n",
              "4523   5899194           Afternoon         "
            ]
          },
          "metadata": {},
          "execution_count": 135
        }
      ]
    },
    {
      "cell_type": "markdown",
      "metadata": {
        "id": "gVC20MxOY8Xt"
      },
      "source": [
        "# Early Vote - Transportation"
      ]
    },
    {
      "cell_type": "code",
      "metadata": {
        "id": "NGLu2eZhZGRn"
      },
      "source": [
        "column_name = 'Voting Early - Will you be going on foot, driving yourself, taking public transit, or will you need a ride from a friend?'\n",
        "split = df[df[column_name].notnull()]"
      ],
      "execution_count": 136,
      "outputs": []
    },
    {
      "cell_type": "code",
      "metadata": {
        "colab": {
          "base_uri": "https://localhost:8080/"
        },
        "id": "W2c5YyCQZMrf",
        "outputId": "b46dae5e-20d5-4303-b4e1-2893813fb026"
      },
      "source": [
        "split['driving'] = (split[column_name] == 'Driving Yourself').replace({True: 'driving', False: ''})\n",
        "split['needs a ride'] = (split[column_name] == 'Need a Ride').replace({True: 'needs a ride', False: ''})\n",
        "split['walking'] = (split[column_name] == 'On Foot').replace({True: 'walking', False: ''})\n",
        "split['public transportation'] = (split[column_name] == 'Taking Public Transportation').replace({True: 'public transportation', False: ''})"
      ],
      "execution_count": 137,
      "outputs": [
        {
          "output_type": "stream",
          "name": "stderr",
          "text": [
            "/usr/local/lib/python3.7/dist-packages/ipykernel_launcher.py:1: SettingWithCopyWarning: \n",
            "A value is trying to be set on a copy of a slice from a DataFrame.\n",
            "Try using .loc[row_indexer,col_indexer] = value instead\n",
            "\n",
            "See the caveats in the documentation: https://pandas.pydata.org/pandas-docs/stable/user_guide/indexing.html#returning-a-view-versus-a-copy\n",
            "  \"\"\"Entry point for launching an IPython kernel.\n",
            "/usr/local/lib/python3.7/dist-packages/ipykernel_launcher.py:2: SettingWithCopyWarning: \n",
            "A value is trying to be set on a copy of a slice from a DataFrame.\n",
            "Try using .loc[row_indexer,col_indexer] = value instead\n",
            "\n",
            "See the caveats in the documentation: https://pandas.pydata.org/pandas-docs/stable/user_guide/indexing.html#returning-a-view-versus-a-copy\n",
            "  \n",
            "/usr/local/lib/python3.7/dist-packages/ipykernel_launcher.py:3: SettingWithCopyWarning: \n",
            "A value is trying to be set on a copy of a slice from a DataFrame.\n",
            "Try using .loc[row_indexer,col_indexer] = value instead\n",
            "\n",
            "See the caveats in the documentation: https://pandas.pydata.org/pandas-docs/stable/user_guide/indexing.html#returning-a-view-versus-a-copy\n",
            "  This is separate from the ipykernel package so we can avoid doing imports until\n",
            "/usr/local/lib/python3.7/dist-packages/ipykernel_launcher.py:4: SettingWithCopyWarning: \n",
            "A value is trying to be set on a copy of a slice from a DataFrame.\n",
            "Try using .loc[row_indexer,col_indexer] = value instead\n",
            "\n",
            "See the caveats in the documentation: https://pandas.pydata.org/pandas-docs/stable/user_guide/indexing.html#returning-a-view-versus-a-copy\n",
            "  after removing the cwd from sys.path.\n"
          ]
        }
      ]
    },
    {
      "cell_type": "code",
      "metadata": {
        "id": "fnE7DhwTatT5"
      },
      "source": [
        "split1 = split[['VAN ID','driving','needs a ride','walking', 'public transportation']]\n",
        "evt = split1.rename(columns={'VAN ID':'vanid'}).dropna(subset=['vanid'])"
      ],
      "execution_count": 138,
      "outputs": []
    },
    {
      "cell_type": "code",
      "metadata": {
        "id": "TI7ha5GCa6eD"
      },
      "source": [
        "evt.vanid = evt.vanid.astype(int).astype(str)"
      ],
      "execution_count": 139,
      "outputs": []
    },
    {
      "cell_type": "code",
      "metadata": {
        "colab": {
          "base_uri": "https://localhost:8080/",
          "height": 454
        },
        "id": "UKpmLCxha85a",
        "outputId": "4edad92d-4572-4bdc-959a-030294983ceb"
      },
      "source": [
        "evt"
      ],
      "execution_count": 140,
      "outputs": [
        {
          "output_type": "execute_result",
          "data": {
            "text/html": [
              "<div>\n",
              "<style scoped>\n",
              "    .dataframe tbody tr th:only-of-type {\n",
              "        vertical-align: middle;\n",
              "    }\n",
              "\n",
              "    .dataframe tbody tr th {\n",
              "        vertical-align: top;\n",
              "    }\n",
              "\n",
              "    .dataframe thead th {\n",
              "        text-align: right;\n",
              "    }\n",
              "</style>\n",
              "<table border=\"1\" class=\"dataframe\">\n",
              "  <thead>\n",
              "    <tr style=\"text-align: right;\">\n",
              "      <th></th>\n",
              "      <th>vanid</th>\n",
              "      <th>driving</th>\n",
              "      <th>needs a ride</th>\n",
              "      <th>walking</th>\n",
              "      <th>public transportation</th>\n",
              "    </tr>\n",
              "  </thead>\n",
              "  <tbody>\n",
              "    <tr>\n",
              "      <th>112</th>\n",
              "      <td>15092585</td>\n",
              "      <td></td>\n",
              "      <td>needs a ride</td>\n",
              "      <td></td>\n",
              "      <td></td>\n",
              "    </tr>\n",
              "    <tr>\n",
              "      <th>353</th>\n",
              "      <td>12949746</td>\n",
              "      <td>driving</td>\n",
              "      <td></td>\n",
              "      <td></td>\n",
              "      <td></td>\n",
              "    </tr>\n",
              "    <tr>\n",
              "      <th>411</th>\n",
              "      <td>5941715</td>\n",
              "      <td>driving</td>\n",
              "      <td></td>\n",
              "      <td></td>\n",
              "      <td></td>\n",
              "    </tr>\n",
              "    <tr>\n",
              "      <th>477</th>\n",
              "      <td>14090386</td>\n",
              "      <td>driving</td>\n",
              "      <td></td>\n",
              "      <td></td>\n",
              "      <td></td>\n",
              "    </tr>\n",
              "    <tr>\n",
              "      <th>1011</th>\n",
              "      <td>6600316</td>\n",
              "      <td>driving</td>\n",
              "      <td></td>\n",
              "      <td></td>\n",
              "      <td></td>\n",
              "    </tr>\n",
              "    <tr>\n",
              "      <th>1055</th>\n",
              "      <td>15092613</td>\n",
              "      <td>driving</td>\n",
              "      <td></td>\n",
              "      <td></td>\n",
              "      <td></td>\n",
              "    </tr>\n",
              "    <tr>\n",
              "      <th>1146</th>\n",
              "      <td>6532701</td>\n",
              "      <td>driving</td>\n",
              "      <td></td>\n",
              "      <td></td>\n",
              "      <td></td>\n",
              "    </tr>\n",
              "    <tr>\n",
              "      <th>1273</th>\n",
              "      <td>5402819</td>\n",
              "      <td>driving</td>\n",
              "      <td></td>\n",
              "      <td></td>\n",
              "      <td></td>\n",
              "    </tr>\n",
              "    <tr>\n",
              "      <th>3384</th>\n",
              "      <td>1298113</td>\n",
              "      <td>driving</td>\n",
              "      <td></td>\n",
              "      <td></td>\n",
              "      <td></td>\n",
              "    </tr>\n",
              "    <tr>\n",
              "      <th>4060</th>\n",
              "      <td>1273589</td>\n",
              "      <td>driving</td>\n",
              "      <td></td>\n",
              "      <td></td>\n",
              "      <td></td>\n",
              "    </tr>\n",
              "    <tr>\n",
              "      <th>4363</th>\n",
              "      <td>14137584</td>\n",
              "      <td>driving</td>\n",
              "      <td></td>\n",
              "      <td></td>\n",
              "      <td></td>\n",
              "    </tr>\n",
              "    <tr>\n",
              "      <th>4421</th>\n",
              "      <td>6430342</td>\n",
              "      <td></td>\n",
              "      <td>needs a ride</td>\n",
              "      <td></td>\n",
              "      <td></td>\n",
              "    </tr>\n",
              "    <tr>\n",
              "      <th>4523</th>\n",
              "      <td>5899194</td>\n",
              "      <td>driving</td>\n",
              "      <td></td>\n",
              "      <td></td>\n",
              "      <td></td>\n",
              "    </tr>\n",
              "  </tbody>\n",
              "</table>\n",
              "</div>"
            ],
            "text/plain": [
              "         vanid  driving  needs a ride walking public transportation\n",
              "112   15092585           needs a ride                              \n",
              "353   12949746  driving                                            \n",
              "411    5941715  driving                                            \n",
              "477   14090386  driving                                            \n",
              "1011   6600316  driving                                            \n",
              "1055  15092613  driving                                            \n",
              "1146   6532701  driving                                            \n",
              "1273   5402819  driving                                            \n",
              "3384   1298113  driving                                            \n",
              "4060   1273589  driving                                            \n",
              "4363  14137584  driving                                            \n",
              "4421   6430342           needs a ride                              \n",
              "4523   5899194  driving                                            "
            ]
          },
          "metadata": {},
          "execution_count": 140
        }
      ]
    },
    {
      "cell_type": "markdown",
      "metadata": {
        "id": "F5Rk3rkPbBoK"
      },
      "source": [
        "# Early Vote -- Plus One"
      ]
    },
    {
      "cell_type": "code",
      "metadata": {
        "id": "lKVF7PtpbKTQ"
      },
      "source": [
        "column_name = 'Voting Early -- Who will you bring with you to vote?'\n",
        "split = df[df[column_name].notnull()]"
      ],
      "execution_count": 141,
      "outputs": []
    },
    {
      "cell_type": "code",
      "metadata": {
        "colab": {
          "base_uri": "https://localhost:8080/"
        },
        "id": "LgFB_zXsbPnA",
        "outputId": "2fefe4cc-2aba-49c2-8495-0bc00e53f6d6"
      },
      "source": [
        "split['family'] = (split[column_name] == 'Family').replace({True: 'family', False: ''})\n",
        "split['friend'] = (split[column_name] == 'Friend').replace({True: 'friend', False: ''})\n",
        "split['no one'] = (split[column_name] == 'No one').replace({True: 'no one', False: ''})"
      ],
      "execution_count": 142,
      "outputs": [
        {
          "output_type": "stream",
          "name": "stderr",
          "text": [
            "/usr/local/lib/python3.7/dist-packages/ipykernel_launcher.py:1: SettingWithCopyWarning: \n",
            "A value is trying to be set on a copy of a slice from a DataFrame.\n",
            "Try using .loc[row_indexer,col_indexer] = value instead\n",
            "\n",
            "See the caveats in the documentation: https://pandas.pydata.org/pandas-docs/stable/user_guide/indexing.html#returning-a-view-versus-a-copy\n",
            "  \"\"\"Entry point for launching an IPython kernel.\n",
            "/usr/local/lib/python3.7/dist-packages/ipykernel_launcher.py:2: SettingWithCopyWarning: \n",
            "A value is trying to be set on a copy of a slice from a DataFrame.\n",
            "Try using .loc[row_indexer,col_indexer] = value instead\n",
            "\n",
            "See the caveats in the documentation: https://pandas.pydata.org/pandas-docs/stable/user_guide/indexing.html#returning-a-view-versus-a-copy\n",
            "  \n",
            "/usr/local/lib/python3.7/dist-packages/ipykernel_launcher.py:3: SettingWithCopyWarning: \n",
            "A value is trying to be set on a copy of a slice from a DataFrame.\n",
            "Try using .loc[row_indexer,col_indexer] = value instead\n",
            "\n",
            "See the caveats in the documentation: https://pandas.pydata.org/pandas-docs/stable/user_guide/indexing.html#returning-a-view-versus-a-copy\n",
            "  This is separate from the ipykernel package so we can avoid doing imports until\n"
          ]
        }
      ]
    },
    {
      "cell_type": "code",
      "metadata": {
        "id": "E0nMMsZZbncG"
      },
      "source": [
        "split1 = split[['VAN ID','family','friend','no one']]\n",
        "evo = split1.rename(columns={'VAN ID':'vanid'}).dropna(subset=['vanid'])"
      ],
      "execution_count": 143,
      "outputs": []
    },
    {
      "cell_type": "code",
      "metadata": {
        "id": "Lr23LXUEbvlT"
      },
      "source": [
        "evo.vanid = evo.vanid.astype(int).astype(str)"
      ],
      "execution_count": 144,
      "outputs": []
    },
    {
      "cell_type": "code",
      "metadata": {
        "colab": {
          "base_uri": "https://localhost:8080/",
          "height": 485
        },
        "id": "azTI4Guxb1zE",
        "outputId": "81498b72-857a-4432-dab5-23a3e07c7d34"
      },
      "source": [
        "evo"
      ],
      "execution_count": 145,
      "outputs": [
        {
          "output_type": "execute_result",
          "data": {
            "text/html": [
              "<div>\n",
              "<style scoped>\n",
              "    .dataframe tbody tr th:only-of-type {\n",
              "        vertical-align: middle;\n",
              "    }\n",
              "\n",
              "    .dataframe tbody tr th {\n",
              "        vertical-align: top;\n",
              "    }\n",
              "\n",
              "    .dataframe thead th {\n",
              "        text-align: right;\n",
              "    }\n",
              "</style>\n",
              "<table border=\"1\" class=\"dataframe\">\n",
              "  <thead>\n",
              "    <tr style=\"text-align: right;\">\n",
              "      <th></th>\n",
              "      <th>vanid</th>\n",
              "      <th>family</th>\n",
              "      <th>friend</th>\n",
              "      <th>no one</th>\n",
              "    </tr>\n",
              "  </thead>\n",
              "  <tbody>\n",
              "    <tr>\n",
              "      <th>112</th>\n",
              "      <td>15092585</td>\n",
              "      <td>family</td>\n",
              "      <td></td>\n",
              "      <td></td>\n",
              "    </tr>\n",
              "    <tr>\n",
              "      <th>411</th>\n",
              "      <td>5941715</td>\n",
              "      <td>family</td>\n",
              "      <td></td>\n",
              "      <td></td>\n",
              "    </tr>\n",
              "    <tr>\n",
              "      <th>477</th>\n",
              "      <td>14090386</td>\n",
              "      <td></td>\n",
              "      <td>friend</td>\n",
              "      <td></td>\n",
              "    </tr>\n",
              "    <tr>\n",
              "      <th>925</th>\n",
              "      <td>727376</td>\n",
              "      <td></td>\n",
              "      <td>friend</td>\n",
              "      <td></td>\n",
              "    </tr>\n",
              "    <tr>\n",
              "      <th>1011</th>\n",
              "      <td>6600316</td>\n",
              "      <td></td>\n",
              "      <td></td>\n",
              "      <td>no one</td>\n",
              "    </tr>\n",
              "    <tr>\n",
              "      <th>1055</th>\n",
              "      <td>15092613</td>\n",
              "      <td>family</td>\n",
              "      <td></td>\n",
              "      <td></td>\n",
              "    </tr>\n",
              "    <tr>\n",
              "      <th>1146</th>\n",
              "      <td>6532701</td>\n",
              "      <td></td>\n",
              "      <td></td>\n",
              "      <td>no one</td>\n",
              "    </tr>\n",
              "    <tr>\n",
              "      <th>1273</th>\n",
              "      <td>5402819</td>\n",
              "      <td>family</td>\n",
              "      <td></td>\n",
              "      <td></td>\n",
              "    </tr>\n",
              "    <tr>\n",
              "      <th>1504</th>\n",
              "      <td>4715624</td>\n",
              "      <td></td>\n",
              "      <td></td>\n",
              "      <td>no one</td>\n",
              "    </tr>\n",
              "    <tr>\n",
              "      <th>2077</th>\n",
              "      <td>14647236</td>\n",
              "      <td></td>\n",
              "      <td></td>\n",
              "      <td>no one</td>\n",
              "    </tr>\n",
              "    <tr>\n",
              "      <th>3384</th>\n",
              "      <td>1298113</td>\n",
              "      <td>family</td>\n",
              "      <td></td>\n",
              "      <td></td>\n",
              "    </tr>\n",
              "    <tr>\n",
              "      <th>4060</th>\n",
              "      <td>1273589</td>\n",
              "      <td>family</td>\n",
              "      <td></td>\n",
              "      <td></td>\n",
              "    </tr>\n",
              "    <tr>\n",
              "      <th>4363</th>\n",
              "      <td>14137584</td>\n",
              "      <td></td>\n",
              "      <td></td>\n",
              "      <td>no one</td>\n",
              "    </tr>\n",
              "    <tr>\n",
              "      <th>4523</th>\n",
              "      <td>5899194</td>\n",
              "      <td></td>\n",
              "      <td></td>\n",
              "      <td>no one</td>\n",
              "    </tr>\n",
              "  </tbody>\n",
              "</table>\n",
              "</div>"
            ],
            "text/plain": [
              "         vanid  family  friend  no one\n",
              "112   15092585  family                \n",
              "411    5941715  family                \n",
              "477   14090386          friend        \n",
              "925     727376          friend        \n",
              "1011   6600316                  no one\n",
              "1055  15092613  family                \n",
              "1146   6532701                  no one\n",
              "1273   5402819  family                \n",
              "1504   4715624                  no one\n",
              "2077  14647236                  no one\n",
              "3384   1298113  family                \n",
              "4060   1273589  family                \n",
              "4363  14137584                  no one\n",
              "4523   5899194                  no one"
            ]
          },
          "metadata": {},
          "execution_count": 145
        }
      ]
    },
    {
      "cell_type": "markdown",
      "metadata": {
        "id": "F6sXceKRb46f"
      },
      "source": [
        "# Election Day Vote Plan"
      ]
    },
    {
      "cell_type": "code",
      "metadata": {
        "id": "f70gsO13b_Pa"
      },
      "source": [
        "column_name = 'If No, I will vote on Election Day November 2nd. When do you plan on voting?'\n",
        "split = df[df[column_name].notnull()]"
      ],
      "execution_count": 146,
      "outputs": []
    },
    {
      "cell_type": "code",
      "metadata": {
        "colab": {
          "base_uri": "https://localhost:8080/"
        },
        "id": "SRPnXYjGcE7S",
        "outputId": "25ff886c-b6e5-4209-a969-31c3194b1528"
      },
      "source": [
        "split['morning'] = (split[column_name] == 'Morning').replace({True: 'Morning', False: ''})\n",
        "split['afternoon'] = (split[column_name] == 'Afternoon').replace({True: 'Afternoon', False: ''})\n",
        "split['evening'] = (split[column_name] == 'Evening').replace({True: 'Evening', False: ''})"
      ],
      "execution_count": 147,
      "outputs": [
        {
          "output_type": "stream",
          "name": "stderr",
          "text": [
            "/usr/local/lib/python3.7/dist-packages/ipykernel_launcher.py:1: SettingWithCopyWarning: \n",
            "A value is trying to be set on a copy of a slice from a DataFrame.\n",
            "Try using .loc[row_indexer,col_indexer] = value instead\n",
            "\n",
            "See the caveats in the documentation: https://pandas.pydata.org/pandas-docs/stable/user_guide/indexing.html#returning-a-view-versus-a-copy\n",
            "  \"\"\"Entry point for launching an IPython kernel.\n",
            "/usr/local/lib/python3.7/dist-packages/ipykernel_launcher.py:2: SettingWithCopyWarning: \n",
            "A value is trying to be set on a copy of a slice from a DataFrame.\n",
            "Try using .loc[row_indexer,col_indexer] = value instead\n",
            "\n",
            "See the caveats in the documentation: https://pandas.pydata.org/pandas-docs/stable/user_guide/indexing.html#returning-a-view-versus-a-copy\n",
            "  \n",
            "/usr/local/lib/python3.7/dist-packages/ipykernel_launcher.py:3: SettingWithCopyWarning: \n",
            "A value is trying to be set on a copy of a slice from a DataFrame.\n",
            "Try using .loc[row_indexer,col_indexer] = value instead\n",
            "\n",
            "See the caveats in the documentation: https://pandas.pydata.org/pandas-docs/stable/user_guide/indexing.html#returning-a-view-versus-a-copy\n",
            "  This is separate from the ipykernel package so we can avoid doing imports until\n"
          ]
        }
      ]
    },
    {
      "cell_type": "code",
      "metadata": {
        "id": "TTMhDzc6cNRW"
      },
      "source": [
        "split1 = split[['VAN ID','morning','afternoon','evening']]\n",
        "edp = split1.rename(columns={'VAN ID':'vanid'}).dropna(subset=['vanid'])"
      ],
      "execution_count": 148,
      "outputs": []
    },
    {
      "cell_type": "code",
      "metadata": {
        "id": "wv1A69KncQlV"
      },
      "source": [
        "edp.vanid = edp.vanid.astype(int).astype(str)"
      ],
      "execution_count": 149,
      "outputs": []
    },
    {
      "cell_type": "code",
      "metadata": {
        "colab": {
          "base_uri": "https://localhost:8080/",
          "height": 205
        },
        "id": "klXsJ-ZFcW6q",
        "outputId": "dac1acdb-dc75-43c8-a901-d6cfbc4a035f"
      },
      "source": [
        "edp"
      ],
      "execution_count": 150,
      "outputs": [
        {
          "output_type": "execute_result",
          "data": {
            "text/html": [
              "<div>\n",
              "<style scoped>\n",
              "    .dataframe tbody tr th:only-of-type {\n",
              "        vertical-align: middle;\n",
              "    }\n",
              "\n",
              "    .dataframe tbody tr th {\n",
              "        vertical-align: top;\n",
              "    }\n",
              "\n",
              "    .dataframe thead th {\n",
              "        text-align: right;\n",
              "    }\n",
              "</style>\n",
              "<table border=\"1\" class=\"dataframe\">\n",
              "  <thead>\n",
              "    <tr style=\"text-align: right;\">\n",
              "      <th></th>\n",
              "      <th>vanid</th>\n",
              "      <th>morning</th>\n",
              "      <th>afternoon</th>\n",
              "      <th>evening</th>\n",
              "    </tr>\n",
              "  </thead>\n",
              "  <tbody>\n",
              "    <tr>\n",
              "      <th>925</th>\n",
              "      <td>727376</td>\n",
              "      <td>Morning</td>\n",
              "      <td></td>\n",
              "      <td></td>\n",
              "    </tr>\n",
              "    <tr>\n",
              "      <th>1273</th>\n",
              "      <td>5402819</td>\n",
              "      <td></td>\n",
              "      <td>Afternoon</td>\n",
              "      <td></td>\n",
              "    </tr>\n",
              "    <tr>\n",
              "      <th>1288</th>\n",
              "      <td>6635260</td>\n",
              "      <td></td>\n",
              "      <td>Afternoon</td>\n",
              "      <td></td>\n",
              "    </tr>\n",
              "    <tr>\n",
              "      <th>2013</th>\n",
              "      <td>453395</td>\n",
              "      <td></td>\n",
              "      <td>Afternoon</td>\n",
              "      <td></td>\n",
              "    </tr>\n",
              "    <tr>\n",
              "      <th>3877</th>\n",
              "      <td>6728118</td>\n",
              "      <td></td>\n",
              "      <td>Afternoon</td>\n",
              "      <td></td>\n",
              "    </tr>\n",
              "  </tbody>\n",
              "</table>\n",
              "</div>"
            ],
            "text/plain": [
              "        vanid  morning  afternoon evening\n",
              "925    727376  Morning                   \n",
              "1273  5402819           Afternoon        \n",
              "1288  6635260           Afternoon        \n",
              "2013   453395           Afternoon        \n",
              "3877  6728118           Afternoon        "
            ]
          },
          "metadata": {},
          "execution_count": 150
        }
      ]
    },
    {
      "cell_type": "markdown",
      "metadata": {
        "id": "gNUAn3kFcmiW"
      },
      "source": [
        "# Election Day Transportation"
      ]
    },
    {
      "cell_type": "code",
      "metadata": {
        "id": "h_BaaKfUcq-u"
      },
      "source": [
        "column_name = 'Voting Election Day - Will you be going on foot, driving yourself, taking public transit, or will you need a ride from a friend? Will you be go'\n",
        "split = df[df[column_name].notnull()]"
      ],
      "execution_count": 151,
      "outputs": []
    },
    {
      "cell_type": "code",
      "metadata": {
        "colab": {
          "base_uri": "https://localhost:8080/"
        },
        "id": "8FkPkPXrcx7H",
        "outputId": "6a15a4be-8ab2-4345-869b-e0b08b07977c"
      },
      "source": [
        "split['driving'] = (split[column_name] == 'Driving Yourself').replace({True: 'driving', False: ''})\n",
        "split['needs a ride'] = (split[column_name] == 'Need a Ride').replace({True: 'needs a ride', False: ''})\n",
        "split['walking'] = (split[column_name] == 'On Foot').replace({True: 'walking', False: ''})\n",
        "split['public transportation'] = (split[column_name] == 'Taking Public Transportation').replace({True: 'public transportation', False: ''})"
      ],
      "execution_count": 152,
      "outputs": [
        {
          "output_type": "stream",
          "name": "stderr",
          "text": [
            "/usr/local/lib/python3.7/dist-packages/ipykernel_launcher.py:1: SettingWithCopyWarning: \n",
            "A value is trying to be set on a copy of a slice from a DataFrame.\n",
            "Try using .loc[row_indexer,col_indexer] = value instead\n",
            "\n",
            "See the caveats in the documentation: https://pandas.pydata.org/pandas-docs/stable/user_guide/indexing.html#returning-a-view-versus-a-copy\n",
            "  \"\"\"Entry point for launching an IPython kernel.\n",
            "/usr/local/lib/python3.7/dist-packages/ipykernel_launcher.py:2: SettingWithCopyWarning: \n",
            "A value is trying to be set on a copy of a slice from a DataFrame.\n",
            "Try using .loc[row_indexer,col_indexer] = value instead\n",
            "\n",
            "See the caveats in the documentation: https://pandas.pydata.org/pandas-docs/stable/user_guide/indexing.html#returning-a-view-versus-a-copy\n",
            "  \n",
            "/usr/local/lib/python3.7/dist-packages/ipykernel_launcher.py:3: SettingWithCopyWarning: \n",
            "A value is trying to be set on a copy of a slice from a DataFrame.\n",
            "Try using .loc[row_indexer,col_indexer] = value instead\n",
            "\n",
            "See the caveats in the documentation: https://pandas.pydata.org/pandas-docs/stable/user_guide/indexing.html#returning-a-view-versus-a-copy\n",
            "  This is separate from the ipykernel package so we can avoid doing imports until\n",
            "/usr/local/lib/python3.7/dist-packages/ipykernel_launcher.py:4: SettingWithCopyWarning: \n",
            "A value is trying to be set on a copy of a slice from a DataFrame.\n",
            "Try using .loc[row_indexer,col_indexer] = value instead\n",
            "\n",
            "See the caveats in the documentation: https://pandas.pydata.org/pandas-docs/stable/user_guide/indexing.html#returning-a-view-versus-a-copy\n",
            "  after removing the cwd from sys.path.\n"
          ]
        }
      ]
    },
    {
      "cell_type": "code",
      "metadata": {
        "id": "K4Gm7Ywdc1sg"
      },
      "source": [
        "split1 = split[['VAN ID','driving','needs a ride','walking', 'public transportation']]\n",
        "edt = split1.rename(columns={'VAN ID':'vanid'}).dropna(subset=['vanid'])"
      ],
      "execution_count": 153,
      "outputs": []
    },
    {
      "cell_type": "code",
      "metadata": {
        "id": "E6LaFcOUc5Gp"
      },
      "source": [
        "edt.vanid = edt.vanid.astype(int).astype(str)"
      ],
      "execution_count": 154,
      "outputs": []
    },
    {
      "cell_type": "code",
      "metadata": {
        "colab": {
          "base_uri": "https://localhost:8080/",
          "height": 267
        },
        "id": "_6GgYDFVc-Hx",
        "outputId": "317f7737-2268-479f-8389-4c7ceecf61bb"
      },
      "source": [
        "edt"
      ],
      "execution_count": 155,
      "outputs": [
        {
          "output_type": "execute_result",
          "data": {
            "text/html": [
              "<div>\n",
              "<style scoped>\n",
              "    .dataframe tbody tr th:only-of-type {\n",
              "        vertical-align: middle;\n",
              "    }\n",
              "\n",
              "    .dataframe tbody tr th {\n",
              "        vertical-align: top;\n",
              "    }\n",
              "\n",
              "    .dataframe thead th {\n",
              "        text-align: right;\n",
              "    }\n",
              "</style>\n",
              "<table border=\"1\" class=\"dataframe\">\n",
              "  <thead>\n",
              "    <tr style=\"text-align: right;\">\n",
              "      <th></th>\n",
              "      <th>vanid</th>\n",
              "      <th>driving</th>\n",
              "      <th>needs a ride</th>\n",
              "      <th>walking</th>\n",
              "      <th>public transportation</th>\n",
              "    </tr>\n",
              "  </thead>\n",
              "  <tbody>\n",
              "    <tr>\n",
              "      <th>1027</th>\n",
              "      <td>5383716</td>\n",
              "      <td></td>\n",
              "      <td></td>\n",
              "      <td></td>\n",
              "      <td></td>\n",
              "    </tr>\n",
              "    <tr>\n",
              "      <th>1288</th>\n",
              "      <td>6635260</td>\n",
              "      <td></td>\n",
              "      <td></td>\n",
              "      <td></td>\n",
              "      <td></td>\n",
              "    </tr>\n",
              "    <tr>\n",
              "      <th>2013</th>\n",
              "      <td>453395</td>\n",
              "      <td></td>\n",
              "      <td></td>\n",
              "      <td></td>\n",
              "      <td></td>\n",
              "    </tr>\n",
              "    <tr>\n",
              "      <th>2077</th>\n",
              "      <td>14647236</td>\n",
              "      <td></td>\n",
              "      <td></td>\n",
              "      <td></td>\n",
              "      <td></td>\n",
              "    </tr>\n",
              "    <tr>\n",
              "      <th>3877</th>\n",
              "      <td>6728118</td>\n",
              "      <td></td>\n",
              "      <td></td>\n",
              "      <td></td>\n",
              "      <td></td>\n",
              "    </tr>\n",
              "    <tr>\n",
              "      <th>4060</th>\n",
              "      <td>1273589</td>\n",
              "      <td></td>\n",
              "      <td></td>\n",
              "      <td></td>\n",
              "      <td></td>\n",
              "    </tr>\n",
              "    <tr>\n",
              "      <th>4421</th>\n",
              "      <td>6430342</td>\n",
              "      <td></td>\n",
              "      <td>needs a ride</td>\n",
              "      <td></td>\n",
              "      <td></td>\n",
              "    </tr>\n",
              "  </tbody>\n",
              "</table>\n",
              "</div>"
            ],
            "text/plain": [
              "         vanid driving  needs a ride walking public transportation\n",
              "1027   5383716                                                    \n",
              "1288   6635260                                                    \n",
              "2013    453395                                                    \n",
              "2077  14647236                                                    \n",
              "3877   6728118                                                    \n",
              "4060   1273589                                                    \n",
              "4421   6430342          needs a ride                              "
            ]
          },
          "metadata": {},
          "execution_count": 155
        }
      ]
    },
    {
      "cell_type": "markdown",
      "metadata": {
        "id": "-E_DVYf8dDE9"
      },
      "source": [
        "# Election Day -- Plus One"
      ]
    },
    {
      "cell_type": "code",
      "metadata": {
        "id": "BQ8xj3C8dHhJ"
      },
      "source": [
        "column_name = 'Voting Election Day Who will you bring with you to vote?'\n",
        "split = df[df[column_name].notnull()]"
      ],
      "execution_count": 156,
      "outputs": []
    },
    {
      "cell_type": "code",
      "metadata": {
        "colab": {
          "base_uri": "https://localhost:8080/"
        },
        "id": "oKpu-4pVdLj3",
        "outputId": "e42e8d24-2e57-43b8-baee-3fbb75726d03"
      },
      "source": [
        "split['family'] = (split[column_name] == 'Family').replace({True: 'family', False: ''})\n",
        "split['friend'] = (split[column_name] == 'Friend').replace({True: 'friend', False: ''})\n",
        "split['no one'] = (split[column_name] == 'No one').replace({True: 'no one', False: ''})"
      ],
      "execution_count": 157,
      "outputs": [
        {
          "output_type": "stream",
          "name": "stderr",
          "text": [
            "/usr/local/lib/python3.7/dist-packages/ipykernel_launcher.py:1: SettingWithCopyWarning: \n",
            "A value is trying to be set on a copy of a slice from a DataFrame.\n",
            "Try using .loc[row_indexer,col_indexer] = value instead\n",
            "\n",
            "See the caveats in the documentation: https://pandas.pydata.org/pandas-docs/stable/user_guide/indexing.html#returning-a-view-versus-a-copy\n",
            "  \"\"\"Entry point for launching an IPython kernel.\n",
            "/usr/local/lib/python3.7/dist-packages/ipykernel_launcher.py:2: SettingWithCopyWarning: \n",
            "A value is trying to be set on a copy of a slice from a DataFrame.\n",
            "Try using .loc[row_indexer,col_indexer] = value instead\n",
            "\n",
            "See the caveats in the documentation: https://pandas.pydata.org/pandas-docs/stable/user_guide/indexing.html#returning-a-view-versus-a-copy\n",
            "  \n",
            "/usr/local/lib/python3.7/dist-packages/ipykernel_launcher.py:3: SettingWithCopyWarning: \n",
            "A value is trying to be set on a copy of a slice from a DataFrame.\n",
            "Try using .loc[row_indexer,col_indexer] = value instead\n",
            "\n",
            "See the caveats in the documentation: https://pandas.pydata.org/pandas-docs/stable/user_guide/indexing.html#returning-a-view-versus-a-copy\n",
            "  This is separate from the ipykernel package so we can avoid doing imports until\n"
          ]
        }
      ]
    },
    {
      "cell_type": "code",
      "metadata": {
        "id": "cFWFm9ekdTlL"
      },
      "source": [
        "split1 = split[['VAN ID','family','friend','no one']]\n",
        "edo = split1.rename(columns={'VAN ID':'vanid'}).dropna(subset=['vanid'])"
      ],
      "execution_count": 158,
      "outputs": []
    },
    {
      "cell_type": "code",
      "metadata": {
        "id": "OfZGbrf0dYPf"
      },
      "source": [
        "edo.vanid = edo.vanid.astype(int).astype(str)"
      ],
      "execution_count": 159,
      "outputs": []
    },
    {
      "cell_type": "code",
      "metadata": {
        "colab": {
          "base_uri": "https://localhost:8080/",
          "height": 267
        },
        "id": "gHuTBELRddUd",
        "outputId": "6e78d593-b5a2-4b3b-ad5d-fe1933179ef6"
      },
      "source": [
        "edo"
      ],
      "execution_count": 160,
      "outputs": [
        {
          "output_type": "execute_result",
          "data": {
            "text/html": [
              "<div>\n",
              "<style scoped>\n",
              "    .dataframe tbody tr th:only-of-type {\n",
              "        vertical-align: middle;\n",
              "    }\n",
              "\n",
              "    .dataframe tbody tr th {\n",
              "        vertical-align: top;\n",
              "    }\n",
              "\n",
              "    .dataframe thead th {\n",
              "        text-align: right;\n",
              "    }\n",
              "</style>\n",
              "<table border=\"1\" class=\"dataframe\">\n",
              "  <thead>\n",
              "    <tr style=\"text-align: right;\">\n",
              "      <th></th>\n",
              "      <th>vanid</th>\n",
              "      <th>family</th>\n",
              "      <th>friend</th>\n",
              "      <th>no one</th>\n",
              "    </tr>\n",
              "  </thead>\n",
              "  <tbody>\n",
              "    <tr>\n",
              "      <th>353</th>\n",
              "      <td>12949746</td>\n",
              "      <td></td>\n",
              "      <td></td>\n",
              "      <td>no one</td>\n",
              "    </tr>\n",
              "    <tr>\n",
              "      <th>456</th>\n",
              "      <td>5577625</td>\n",
              "      <td></td>\n",
              "      <td></td>\n",
              "      <td></td>\n",
              "    </tr>\n",
              "    <tr>\n",
              "      <th>1288</th>\n",
              "      <td>6635260</td>\n",
              "      <td></td>\n",
              "      <td></td>\n",
              "      <td>no one</td>\n",
              "    </tr>\n",
              "    <tr>\n",
              "      <th>2013</th>\n",
              "      <td>453395</td>\n",
              "      <td></td>\n",
              "      <td></td>\n",
              "      <td>no one</td>\n",
              "    </tr>\n",
              "    <tr>\n",
              "      <th>2077</th>\n",
              "      <td>14647236</td>\n",
              "      <td></td>\n",
              "      <td></td>\n",
              "      <td>no one</td>\n",
              "    </tr>\n",
              "    <tr>\n",
              "      <th>3669</th>\n",
              "      <td>6050742</td>\n",
              "      <td></td>\n",
              "      <td></td>\n",
              "      <td></td>\n",
              "    </tr>\n",
              "    <tr>\n",
              "      <th>3877</th>\n",
              "      <td>6728118</td>\n",
              "      <td></td>\n",
              "      <td></td>\n",
              "      <td></td>\n",
              "    </tr>\n",
              "  </tbody>\n",
              "</table>\n",
              "</div>"
            ],
            "text/plain": [
              "         vanid family friend  no one\n",
              "353   12949746                no one\n",
              "456    5577625                      \n",
              "1288   6635260                no one\n",
              "2013    453395                no one\n",
              "2077  14647236                no one\n",
              "3669   6050742                      \n",
              "3877   6728118                      "
            ]
          },
          "metadata": {},
          "execution_count": 160
        }
      ]
    },
    {
      "cell_type": "markdown",
      "metadata": {
        "id": "oF4sSKOJg7KA"
      },
      "source": [
        "## Lawn Sign"
      ]
    },
    {
      "cell_type": "code",
      "metadata": {
        "id": "3Yjy0oDtf6JK"
      },
      "source": [
        "column_name = 'Lawn Sign'\n",
        "split = df[df[column_name].notnull()]"
      ],
      "execution_count": 161,
      "outputs": []
    },
    {
      "cell_type": "code",
      "metadata": {
        "colab": {
          "base_uri": "https://localhost:8080/"
        },
        "id": "bzRMxhATYoA-",
        "outputId": "9fc7fe35-6bb2-4383-d0ec-33f59326d115"
      },
      "source": [
        "split['no'] = (split[column_name] == 'No, I do not want a lawn sign').replace({True: 'No, I do not want a lawn sign', False: ''})\n",
        "split['yes'] = (split[column_name] == 'Yes, I want a lawn sign').replace({True: 'Yes, I want a lawn sign', False: ''})"
      ],
      "execution_count": 162,
      "outputs": [
        {
          "output_type": "stream",
          "name": "stderr",
          "text": [
            "/usr/local/lib/python3.7/dist-packages/ipykernel_launcher.py:1: SettingWithCopyWarning: \n",
            "A value is trying to be set on a copy of a slice from a DataFrame.\n",
            "Try using .loc[row_indexer,col_indexer] = value instead\n",
            "\n",
            "See the caveats in the documentation: https://pandas.pydata.org/pandas-docs/stable/user_guide/indexing.html#returning-a-view-versus-a-copy\n",
            "  \"\"\"Entry point for launching an IPython kernel.\n",
            "/usr/local/lib/python3.7/dist-packages/ipykernel_launcher.py:2: SettingWithCopyWarning: \n",
            "A value is trying to be set on a copy of a slice from a DataFrame.\n",
            "Try using .loc[row_indexer,col_indexer] = value instead\n",
            "\n",
            "See the caveats in the documentation: https://pandas.pydata.org/pandas-docs/stable/user_guide/indexing.html#returning-a-view-versus-a-copy\n",
            "  \n"
          ]
        }
      ]
    },
    {
      "cell_type": "code",
      "metadata": {
        "id": "Rsu2NN9UYtam"
      },
      "source": [
        "split1 = split[['VAN ID','no','yes']]\n",
        "ls = split1.rename(columns={'VAN ID':'vanid'}).dropna(subset=['vanid'])"
      ],
      "execution_count": 163,
      "outputs": []
    },
    {
      "cell_type": "code",
      "metadata": {
        "id": "3IY7EiWQhClm",
        "colab": {
          "base_uri": "https://localhost:8080/"
        },
        "outputId": "3cbcd198-1f9f-4d90-ff82-f4740470db3a"
      },
      "source": [
        "split[column_name].value_counts()"
      ],
      "execution_count": 164,
      "outputs": [
        {
          "output_type": "execute_result",
          "data": {
            "text/plain": [
              "yes    14\n",
              "Name: Lawn Sign, dtype: int64"
            ]
          },
          "metadata": {},
          "execution_count": 164
        }
      ]
    },
    {
      "cell_type": "code",
      "metadata": {
        "id": "QJaIacY-rSKA"
      },
      "source": [
        "ls.vanid = ls.vanid.astype(int).astype(str)"
      ],
      "execution_count": 165,
      "outputs": []
    },
    {
      "cell_type": "code",
      "metadata": {
        "id": "5W8xuKIeiGIW",
        "colab": {
          "base_uri": "https://localhost:8080/",
          "height": 485
        },
        "outputId": "44d71893-aa7d-43eb-c32e-a2e73453c2ea"
      },
      "source": [
        "ls"
      ],
      "execution_count": 166,
      "outputs": [
        {
          "output_type": "execute_result",
          "data": {
            "text/html": [
              "<div>\n",
              "<style scoped>\n",
              "    .dataframe tbody tr th:only-of-type {\n",
              "        vertical-align: middle;\n",
              "    }\n",
              "\n",
              "    .dataframe tbody tr th {\n",
              "        vertical-align: top;\n",
              "    }\n",
              "\n",
              "    .dataframe thead th {\n",
              "        text-align: right;\n",
              "    }\n",
              "</style>\n",
              "<table border=\"1\" class=\"dataframe\">\n",
              "  <thead>\n",
              "    <tr style=\"text-align: right;\">\n",
              "      <th></th>\n",
              "      <th>vanid</th>\n",
              "      <th>no</th>\n",
              "      <th>yes</th>\n",
              "    </tr>\n",
              "  </thead>\n",
              "  <tbody>\n",
              "    <tr>\n",
              "      <th>353</th>\n",
              "      <td>12949746</td>\n",
              "      <td></td>\n",
              "      <td></td>\n",
              "    </tr>\n",
              "    <tr>\n",
              "      <th>738</th>\n",
              "      <td>669117</td>\n",
              "      <td></td>\n",
              "      <td></td>\n",
              "    </tr>\n",
              "    <tr>\n",
              "      <th>1924</th>\n",
              "      <td>5129528</td>\n",
              "      <td></td>\n",
              "      <td></td>\n",
              "    </tr>\n",
              "    <tr>\n",
              "      <th>1928</th>\n",
              "      <td>10347967</td>\n",
              "      <td></td>\n",
              "      <td></td>\n",
              "    </tr>\n",
              "    <tr>\n",
              "      <th>1998</th>\n",
              "      <td>1878259</td>\n",
              "      <td></td>\n",
              "      <td></td>\n",
              "    </tr>\n",
              "    <tr>\n",
              "      <th>2026</th>\n",
              "      <td>596160</td>\n",
              "      <td></td>\n",
              "      <td></td>\n",
              "    </tr>\n",
              "    <tr>\n",
              "      <th>2203</th>\n",
              "      <td>14647443</td>\n",
              "      <td></td>\n",
              "      <td></td>\n",
              "    </tr>\n",
              "    <tr>\n",
              "      <th>2885</th>\n",
              "      <td>211295</td>\n",
              "      <td></td>\n",
              "      <td></td>\n",
              "    </tr>\n",
              "    <tr>\n",
              "      <th>2890</th>\n",
              "      <td>6060614</td>\n",
              "      <td></td>\n",
              "      <td></td>\n",
              "    </tr>\n",
              "    <tr>\n",
              "      <th>2981</th>\n",
              "      <td>12942994</td>\n",
              "      <td></td>\n",
              "      <td></td>\n",
              "    </tr>\n",
              "    <tr>\n",
              "      <th>3035</th>\n",
              "      <td>13921723</td>\n",
              "      <td></td>\n",
              "      <td></td>\n",
              "    </tr>\n",
              "    <tr>\n",
              "      <th>3110</th>\n",
              "      <td>11188871</td>\n",
              "      <td></td>\n",
              "      <td></td>\n",
              "    </tr>\n",
              "    <tr>\n",
              "      <th>3417</th>\n",
              "      <td>1273270</td>\n",
              "      <td></td>\n",
              "      <td></td>\n",
              "    </tr>\n",
              "    <tr>\n",
              "      <th>4523</th>\n",
              "      <td>5899194</td>\n",
              "      <td></td>\n",
              "      <td></td>\n",
              "    </tr>\n",
              "  </tbody>\n",
              "</table>\n",
              "</div>"
            ],
            "text/plain": [
              "         vanid no yes\n",
              "353   12949746       \n",
              "738     669117       \n",
              "1924   5129528       \n",
              "1928  10347967       \n",
              "1998   1878259       \n",
              "2026    596160       \n",
              "2203  14647443       \n",
              "2885    211295       \n",
              "2890   6060614       \n",
              "2981  12942994       \n",
              "3035  13921723       \n",
              "3110  11188871       \n",
              "3417   1273270       \n",
              "4523   5899194       "
            ]
          },
          "metadata": {},
          "execution_count": 166
        }
      ]
    },
    {
      "cell_type": "markdown",
      "metadata": {
        "id": "TuD_hFrZeIPR"
      },
      "source": [
        "# Create CSV's"
      ]
    },
    {
      "cell_type": "code",
      "metadata": {
        "id": "-fDw71PDjKRk"
      },
      "source": [
        "can.to_csv('canvass_results.csv',index=False)\n",
        "supp.to_csv('support.csv',index=False)\n",
        "issue.to_csv('issue.csv',index=False)\n",
        "ev.to_csv('ev.csv', index=False)\n",
        "evp.to_csv('evp.csv', index=False)\n",
        "evt.to_csv('evt.csv', index=False)\n",
        "evo.to_csv('evo.csv', index=False)\n",
        "edp.to_csv('edp.csv', index=False)\n",
        "edt.to_csv('edt.csv', index=False)\n",
        "edo.to_csv('edo.csv', index=False)\n",
        "ls.to_csv('lawn_sign.csv',index=False)"
      ],
      "execution_count": 167,
      "outputs": []
    }
  ]
}